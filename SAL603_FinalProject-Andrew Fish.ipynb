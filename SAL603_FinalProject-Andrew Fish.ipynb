





<!DOCTYPE html>
<html
  lang="en"
  
  data-color-mode="auto" data-light-theme="light" data-dark-theme="dark"
  data-a11y-animated-images="system" data-a11y-link-underlines="true"
  
  >



  <head>
    <meta charset="utf-8">
  <link rel="dns-prefetch" href="https://github.githubassets.com">
  <link rel="dns-prefetch" href="https://avatars.githubusercontent.com">
  <link rel="dns-prefetch" href="https://github-cloud.s3.amazonaws.com">
  <link rel="dns-prefetch" href="https://user-images.githubusercontent.com/">
  <link rel="preconnect" href="https://github.githubassets.com" crossorigin>
  <link rel="preconnect" href="https://avatars.githubusercontent.com">

  


  <link crossorigin="anonymous" media="all" rel="stylesheet" href="https://github.githubassets.com/assets/light-605318cbe3a1.css" /><link crossorigin="anonymous" media="all" rel="stylesheet" href="https://github.githubassets.com/assets/dark-bd1cb5575fff.css" /><link data-color-theme="dark_dimmed" crossorigin="anonymous" media="all" rel="stylesheet" data-href="https://github.githubassets.com/assets/dark_dimmed-52a2075571c3.css" /><link data-color-theme="dark_high_contrast" crossorigin="anonymous" media="all" rel="stylesheet" data-href="https://github.githubassets.com/assets/dark_high_contrast-bf3988586de0.css" /><link data-color-theme="dark_colorblind" crossorigin="anonymous" media="all" rel="stylesheet" data-href="https://github.githubassets.com/assets/dark_colorblind-27a437876a92.css" /><link data-color-theme="light_colorblind" crossorigin="anonymous" media="all" rel="stylesheet" data-href="https://github.githubassets.com/assets/light_colorblind-97f0dc959f8f.css" /><link data-color-theme="light_high_contrast" crossorigin="anonymous" media="all" rel="stylesheet" data-href="https://github.githubassets.com/assets/light_high_contrast-708e3a93215a.css" /><link data-color-theme="light_tritanopia" crossorigin="anonymous" media="all" rel="stylesheet" data-href="https://github.githubassets.com/assets/light_tritanopia-9217138a8d5b.css" /><link data-color-theme="dark_tritanopia" crossorigin="anonymous" media="all" rel="stylesheet" data-href="https://github.githubassets.com/assets/dark_tritanopia-4397d91bdb49.css" />

    <link crossorigin="anonymous" media="all" rel="stylesheet" href="https://github.githubassets.com/assets/primer-primitives-225433424a87.css" />
    <link crossorigin="anonymous" media="all" rel="stylesheet" href="https://github.githubassets.com/assets/primer-93aded0ee8a1.css" />
    <link crossorigin="anonymous" media="all" rel="stylesheet" href="https://github.githubassets.com/assets/global-21a7f868f707.css" />
    <link crossorigin="anonymous" media="all" rel="stylesheet" href="https://github.githubassets.com/assets/github-15d4b28ab680.css" />
  <link crossorigin="anonymous" media="all" rel="stylesheet" href="https://github.githubassets.com/assets/repository-4fce88777fa8.css" />
<link crossorigin="anonymous" media="all" rel="stylesheet" href="https://github.githubassets.com/assets/code-0210be90f4d3.css" />

  


  <script type="application/json" id="client-env">{"locale":"en","featureFlags":["a11y_quote_reply_fix","allow_subscription_halted_error","contentful_lp_optimize_image","contentful_lp_hero_video_cover_image","copilot_immersive_file_preview","copilot_immersive_plugin_system","copilot_new_references_ui","copilot_chat_repo_custom_instructions_preview","copilot_chat_immersive_subthreading","copilot_chat_retry_on_error","copilot_chat_opening_thread_switch","copilot_chat_persist_submitted_input","copilot_conversational_ux_history_refs","copilot_chat_shared_chat_input","copilot_editor_upsells","copilot_implicit_context","copilot_no_floating_button","copilot_smell_icebreaker_ux","copilot_spaces_multi_file_picker","copilot_read_shared_conversation","dotcom_chat_client_side_skills","experimentation_azure_variant_endpoint","failbot_handle_non_errors","geojson_azure_maps","ghost_pilot_confidence_truncation_25","ghost_pilot_confidence_truncation_40","github_models_gateway","github_models_o3_mini_streaming","hovercard_accessibility","insert_before_patch","issues_advanced_search","issues_react_remove_placeholders","issues_react_blur_item_picker_on_close","issues_react_include_bots_in_pickers","marketing_pages_search_explore_provider","module_workers","remove_child_patch","repository_suggester_elastic_search","sample_network_conn_type","swp_enterprise_contact_form","site_copilot_extensions_ga","site_copilot_extensions_hero","site_copilot_vscode_link_update","site_proxima_australia_update","issues_react_create_milestone","issues_react_cache_fix_workaround","lifecycle_label_name_updates","item_picker_new_select_panel","issues_react_assignee_warning","issues_react_grouped_diff_on_edit_history"],"login":"DMCunius"}</script>
<script crossorigin="anonymous" defer="defer" type="application/javascript" src="https://github.githubassets.com/assets/wp-runtime-4280b03fa9bc.js"></script>
<script crossorigin="anonymous" defer="defer" type="application/javascript" src="https://github.githubassets.com/assets/vendors-node_modules_oddbird_popover-polyfill_dist_popover_js-9da652f58479.js"></script>
<script crossorigin="anonymous" defer="defer" type="application/javascript" src="https://github.githubassets.com/assets/vendors-node_modules_github_arianotify-polyfill_ariaNotify-polyfill_js-node_modules_github_mi-3abb8f-d7e6bc799724.js"></script>
<script crossorigin="anonymous" defer="defer" type="application/javascript" src="https://github.githubassets.com/assets/ui_packages_failbot_failbot_ts-4600dbf2d60a.js"></script>
<script crossorigin="anonymous" defer="defer" type="application/javascript" src="https://github.githubassets.com/assets/environment-f04cb2a9fc8c.js"></script>
<script crossorigin="anonymous" defer="defer" type="application/javascript" src="https://github.githubassets.com/assets/vendors-node_modules_primer_behaviors_dist_esm_index_mjs-0dbb79f97f8f.js"></script>
<script crossorigin="anonymous" defer="defer" type="application/javascript" src="https://github.githubassets.com/assets/vendors-node_modules_github_selector-observer_dist_index_esm_js-f690fd9ae3d5.js"></script>
<script crossorigin="anonymous" defer="defer" type="application/javascript" src="https://github.githubassets.com/assets/vendors-node_modules_github_relative-time-element_dist_index_js-f6da4b3fa34c.js"></script>
<script crossorigin="anonymous" defer="defer" type="application/javascript" src="https://github.githubassets.com/assets/vendors-node_modules_github_auto-complete-element_dist_index_js-node_modules_github_catalyst_-8e9f78-a74b4e0a8a6b.js"></script>
<script crossorigin="anonymous" defer="defer" type="application/javascript" src="https://github.githubassets.com/assets/vendors-node_modules_github_text-expander-element_dist_index_js-78748950cb0c.js"></script>
<script crossorigin="anonymous" defer="defer" type="application/javascript" src="https://github.githubassets.com/assets/vendors-node_modules_github_filter-input-element_dist_index_js-node_modules_github_remote-inp-b5f1d7-a1760ffda83d.js"></script>
<script crossorigin="anonymous" defer="defer" type="application/javascript" src="https://github.githubassets.com/assets/vendors-node_modules_github_markdown-toolbar-element_dist_index_js-ceef33f593fa.js"></script>
<script crossorigin="anonymous" defer="defer" type="application/javascript" src="https://github.githubassets.com/assets/vendors-node_modules_github_file-attachment-element_dist_index_js-node_modules_primer_view-co-c44a69-8094ee2ecc5e.js"></script>
<script crossorigin="anonymous" defer="defer" type="application/javascript" src="https://github.githubassets.com/assets/github-elements-c5fd390b3ba0.js"></script>
<script crossorigin="anonymous" defer="defer" type="application/javascript" src="https://github.githubassets.com/assets/element-registry-a71c0dc18ea2.js"></script>
<script crossorigin="anonymous" defer="defer" type="application/javascript" src="https://github.githubassets.com/assets/vendors-node_modules_braintree_browser-detection_dist_browser-detection_js-node_modules_githu-bb80ec-72267f4e3ff9.js"></script>
<script crossorigin="anonymous" defer="defer" type="application/javascript" src="https://github.githubassets.com/assets/vendors-node_modules_lit-html_lit-html_js-be8cb88f481b.js"></script>
<script crossorigin="anonymous" defer="defer" type="application/javascript" src="https://github.githubassets.com/assets/vendors-node_modules_github_mini-throttle_dist_index_js-node_modules_morphdom_dist_morphdom-e-7c534c-a4a1922eb55f.js"></script>
<script crossorigin="anonymous" defer="defer" type="application/javascript" src="https://github.githubassets.com/assets/vendors-node_modules_github_turbo_dist_turbo_es2017-esm_js-e3cbe28f1638.js"></script>
<script crossorigin="anonymous" defer="defer" type="application/javascript" src="https://github.githubassets.com/assets/vendors-node_modules_github_remote-form_dist_index_js-node_modules_delegated-events_dist_inde-893f9f-6cf3320416b8.js"></script>
<script crossorigin="anonymous" defer="defer" type="application/javascript" src="https://github.githubassets.com/assets/vendors-node_modules_color-convert_index_js-e3180fe3bcb3.js"></script>
<script crossorigin="anonymous" defer="defer" type="application/javascript" src="https://github.githubassets.com/assets/vendors-node_modules_github_quote-selection_dist_index_js-node_modules_github_session-resume_-69cfcc-bc42a18e77d5.js"></script>
<script crossorigin="anonymous" defer="defer" type="application/javascript" src="https://github.githubassets.com/assets/ui_packages_updatable-content_updatable-content_ts-2a55124d5c52.js"></script>
<script crossorigin="anonymous" defer="defer" type="application/javascript" src="https://github.githubassets.com/assets/app_assets_modules_github_behaviors_task-list_ts-app_assets_modules_github_sso_ts-ui_packages-900dde-768abe60b1f8.js"></script>
<script crossorigin="anonymous" defer="defer" type="application/javascript" src="https://github.githubassets.com/assets/app_assets_modules_github_sticky-scroll-into-view_ts-3e000c5d31a9.js"></script>
<script crossorigin="anonymous" defer="defer" type="application/javascript" src="https://github.githubassets.com/assets/app_assets_modules_github_behaviors_ajax-error_ts-app_assets_modules_github_behaviors_include-87a4ae-21948f72ce0b.js"></script>
<script crossorigin="anonymous" defer="defer" type="application/javascript" src="https://github.githubassets.com/assets/app_assets_modules_github_behaviors_commenting_edit_ts-app_assets_modules_github_behaviors_ht-83c235-e429cff6ceb1.js"></script>
<script crossorigin="anonymous" defer="defer" type="application/javascript" src="https://github.githubassets.com/assets/behaviors-3852665e5a2d.js"></script>
<script crossorigin="anonymous" defer="defer" type="application/javascript" src="https://github.githubassets.com/assets/vendors-node_modules_delegated-events_dist_index_js-node_modules_github_catalyst_lib_index_js-f6223d90c7ba.js"></script>
<script crossorigin="anonymous" defer="defer" type="application/javascript" src="https://github.githubassets.com/assets/notifications-global-01e85cd1be94.js"></script>
<script crossorigin="anonymous" defer="defer" type="application/javascript" src="https://github.githubassets.com/assets/vendors-node_modules_github_mini-throttle_dist_index_js-node_modules_github_catalyst_lib_inde-dbbea9-26cce2010167.js"></script>
<script crossorigin="anonymous" defer="defer" type="application/javascript" src="https://github.githubassets.com/assets/code-menu-1c0aedc134b1.js"></script>
  
  <script crossorigin="anonymous" defer="defer" type="application/javascript" src="https://github.githubassets.com/assets/primer-react-d4f7d0473d87.js"></script>
<script crossorigin="anonymous" defer="defer" type="application/javascript" src="https://github.githubassets.com/assets/react-core-56b50d0313a2.js"></script>
<script crossorigin="anonymous" defer="defer" type="application/javascript" src="https://github.githubassets.com/assets/react-lib-f1bca44e0926.js"></script>
<script crossorigin="anonymous" defer="defer" type="application/javascript" src="https://github.githubassets.com/assets/octicons-react-611691cca2f6.js"></script>
<script crossorigin="anonymous" defer="defer" type="application/javascript" src="https://github.githubassets.com/assets/vendors-node_modules_emotion_is-prop-valid_dist_emotion-is-prop-valid_esm_js-node_modules_emo-62da9f-2df2f32ec596.js"></script>
<script crossorigin="anonymous" defer="defer" type="application/javascript" src="https://github.githubassets.com/assets/vendors-node_modules_github_mini-throttle_dist_index_js-node_modules_stacktrace-parser_dist_s-e7dcdd-f7cc96ebae76.js"></script>
<script crossorigin="anonymous" defer="defer" type="application/javascript" src="https://github.githubassets.com/assets/vendors-node_modules_oddbird_popover-polyfill_dist_popover-fn_js-55fea94174bf.js"></script>
<script crossorigin="anonymous" defer="defer" type="application/javascript" src="https://github.githubassets.com/assets/vendors-node_modules_dompurify_dist_purify_es_mjs-dd1d3ea6a436.js"></script>
<script crossorigin="anonymous" defer="defer" type="application/javascript" src="https://github.githubassets.com/assets/vendors-node_modules_lodash-es__Stack_js-node_modules_lodash-es__Uint8Array_js-node_modules_l-4faaa6-4a736fde5c2f.js"></script>
<script crossorigin="anonymous" defer="defer" type="application/javascript" src="https://github.githubassets.com/assets/vendors-node_modules_lodash-es__baseIsEqual_js-8929eb9718d5.js"></script>
<script crossorigin="anonymous" defer="defer" type="application/javascript" src="https://github.githubassets.com/assets/vendors-node_modules_github_hydro-analytics-client_dist_analytics-client_js-node_modules_gith-40531a-09af0ef9a562.js"></script>
<script crossorigin="anonymous" defer="defer" type="application/javascript" src="https://github.githubassets.com/assets/ui_packages_aria-live_aria-live_ts-ui_packages_promise-with-resolvers-polyfill_promise-with-r-17c672-34345cb18aac.js"></script>
<script crossorigin="anonymous" defer="defer" type="application/javascript" src="https://github.githubassets.com/assets/ui_packages_paths_index_ts-fe254260b8ac.js"></script>
<script crossorigin="anonymous" defer="defer" type="application/javascript" src="https://github.githubassets.com/assets/ui_packages_ref-selector_RefSelector_tsx-7496afc3784d.js"></script>
<script crossorigin="anonymous" defer="defer" type="application/javascript" src="https://github.githubassets.com/assets/ui_packages_diffs_diff-parts_ts-ui_packages_use-file-tree-tooltip_use-file-tree-tooltip_ts-ui-db0a92-6a1f23f93999.js"></script>
<script crossorigin="anonymous" defer="defer" type="application/javascript" src="https://github.githubassets.com/assets/ui_packages_commit-attribution_index_ts-ui_packages_commit-checks-status_index_ts-ui_packages-762eaa-c6c7f3dd0990.js"></script>
<script crossorigin="anonymous" defer="defer" type="application/javascript" src="https://github.githubassets.com/assets/ui_packages_code-view-shared_hooks_use-canonical-object_ts-ui_packages_code-view-shared_hooks-a6859a-7a08291f47af.js"></script>
<script crossorigin="anonymous" defer="defer" type="application/javascript" src="https://github.githubassets.com/assets/ui_packages_document-metadata_document-metadata_ts-ui_packages_repos-file-tree-view_repos-fil-5db355-f1ca54e01ded.js"></script>
<script crossorigin="anonymous" defer="defer" type="application/javascript" src="https://github.githubassets.com/assets/app_assets_modules_github_blob-anchor_ts-ui_packages_code-nav_code-nav_ts-ui_packages_filter--8253c1-91468a3354f9.js"></script>
<script crossorigin="anonymous" defer="defer" type="application/javascript" src="https://github.githubassets.com/assets/react-code-view-945d8658bcd7.js"></script>
<link crossorigin="anonymous" media="all" rel="stylesheet" href="https://github.githubassets.com/assets/primer-react.47bf29cd6753fae14b22.module.css" />
<link crossorigin="anonymous" media="all" rel="stylesheet" href="https://github.githubassets.com/assets/react-code-view.a0633e3d36c876a6eaa1.module.css" />


  <title>SAL-603-Final-Project/SAL603_FinalProject-Andrew Fish.ipynb at main · afish1110/SAL-603-Final-Project</title>



  <meta name="route-pattern" content="/:user_id/:repository/blob/*name(/*path)" data-turbo-transient>
  <meta name="route-controller" content="blob" data-turbo-transient>
  <meta name="route-action" content="show" data-turbo-transient>

    
  <meta name="current-catalog-service-hash" content="f3abb0cc802f3d7b95fc8762b94bdcb13bf39634c40c357301c4aa1d67a256fb">


  <meta name="request-id" content="E797:2AE448:A971A4:E5A696:67CA3172" data-turbo-transient="true" /><meta name="html-safe-nonce" content="327dddd0b1efccb768beaa5ce9469bb07a3e9877f75b934556fdc625945aae80" data-turbo-transient="true" /><meta name="visitor-payload" content="eyJyZWZlcnJlciI6Imh0dHBzOi8vZ2l0aHViLmNvbS9hZmlzaDExMTAvU0FMLTYwMy1GaW5hbC1Qcm9qZWN0IiwicmVxdWVzdF9pZCI6IkU3OTc6MkFFNDQ4OkE5NzFBNDpFNUE2OTY6NjdDQTMxNzIiLCJ2aXNpdG9yX2lkIjoiMjIwOTAzNDUzODI4NzcwNTUzNCIsInJlZ2lvbl9lZGdlIjoiaWFkIiwicmVnaW9uX3JlbmRlciI6ImlhZCJ9" data-turbo-transient="true" /><meta name="visitor-hmac" content="033f0645a47d755cf67f4564cd1f3370d5a7a981865c8c6fa6f7751f9b81efcd" data-turbo-transient="true" />


    <meta name="hovercard-subject-tag" content="repository:928035797" data-turbo-transient>


  <meta name="github-keyboard-shortcuts" content="repository,source-code,file-tree,copilot" data-turbo-transient="true" />
  

  <meta name="selected-link" value="repo_source" data-turbo-transient>
  <link rel="assets" href="https://github.githubassets.com/">

    <meta name="google-site-verification" content="Apib7-x98H0j5cPqHWwSMm6dNU4GmODRoqxLiDzdx9I">

<meta name="octolytics-url" content="https://collector.github.com/github/collect" /><meta name="octolytics-actor-id" content="197784751" /><meta name="octolytics-actor-login" content="DMCunius" /><meta name="octolytics-actor-hash" content="71ec5d8dca797e809fc80ac4c48914da0600df68fb50443073b44f84b0e11dfd" />

  <meta name="analytics-location" content="/&lt;user-name&gt;/&lt;repo-name&gt;/blob/show" data-turbo-transient="true" />

  




    <meta name="user-login" content="DMCunius">

  <link rel="sudo-modal" href="/sessions/sudo_modal">

    <meta name="viewport" content="width=device-width">

    

      <meta name="description" content="This contains all of the code and data for the final project. I will update it later with more information - SAL-603-Final-Project/SAL603_FinalProject-Andrew Fish.ipynb at main · afish1110/SAL-603-Final-Project">

      <link rel="search" type="application/opensearchdescription+xml" href="/opensearch.xml" title="GitHub">

    <link rel="fluid-icon" href="https://github.com/fluidicon.png" title="GitHub">
    <meta property="fb:app_id" content="1401488693436528">
    <meta name="apple-itunes-app" content="app-id=1477376905, app-argument=https://github.com/afish1110/SAL-603-Final-Project/blob/main/SAL603_FinalProject-Andrew%20Fish.ipynb" />

      <meta name="twitter:image" content="https://opengraph.githubassets.com/9e95aa98a92fa82b9f4937ae0c77cd1f7301e1141bfa1dde53d584ec84878ecf/afish1110/SAL-603-Final-Project" /><meta name="twitter:site" content="@github" /><meta name="twitter:card" content="summary_large_image" /><meta name="twitter:title" content="SAL-603-Final-Project/SAL603_FinalProject-Andrew Fish.ipynb at main · afish1110/SAL-603-Final-Project" /><meta name="twitter:description" content="This contains all of the code and data for the final project. I will update it later with more information - afish1110/SAL-603-Final-Project" />
  <meta property="og:image" content="https://opengraph.githubassets.com/9e95aa98a92fa82b9f4937ae0c77cd1f7301e1141bfa1dde53d584ec84878ecf/afish1110/SAL-603-Final-Project" /><meta property="og:image:alt" content="This contains all of the code and data for the final project. I will update it later with more information - afish1110/SAL-603-Final-Project" /><meta property="og:image:width" content="1200" /><meta property="og:image:height" content="600" /><meta property="og:site_name" content="GitHub" /><meta property="og:type" content="object" /><meta property="og:title" content="SAL-603-Final-Project/SAL603_FinalProject-Andrew Fish.ipynb at main · afish1110/SAL-603-Final-Project" /><meta property="og:url" content="https://github.com/afish1110/SAL-603-Final-Project/blob/main/SAL603_FinalProject-Andrew%20Fish.ipynb" /><meta property="og:description" content="This contains all of the code and data for the final project. I will update it later with more information - afish1110/SAL-603-Final-Project" />
  


      <link rel="shared-web-socket" href="wss://alive.github.com/_sockets/u/197784751/ws?session=eyJ2IjoiVjMiLCJ1IjoxOTc3ODQ3NTEsInMiOjE2MDYzNTg5NTEsImMiOjI4OTc2NTg3MSwidCI6MTc0MTMwNDE3OH0=--d8309bbbddac5ea4bb32545306a401704663dd7d07bace22d6caefc78f708560" data-refresh-url="/_alive" data-session-id="d36ac813f56604ce0fcfa6de37f348b657ba5eb96eecc3467173adda54debc0b">
      <link rel="shared-web-socket-src" href="/assets-cdn/worker/socket-worker-eff89a71ae86.js">


      <meta name="hostname" content="github.com">


      <meta name="keyboard-shortcuts-preference" content="all">
      <meta name="hovercards-preference" content="true">
      <meta name="announcement-preference-hovercard" content="true">

        <meta name="expected-hostname" content="github.com">


  <meta http-equiv="x-pjax-version" content="76774d1dfe3b741552ff33f81557d578f032cbf4b36b9a2a82d02e38b107fbab" data-turbo-track="reload">
  <meta http-equiv="x-pjax-csp-version" content="1387756d457e2f7c930482f0374bab8f35110d772491ea950a7236d69098c3a6" data-turbo-track="reload">
  <meta http-equiv="x-pjax-css-version" content="a30977995814647d0827c66025b8a8c5cb8722c27765b03e9e34bf066d054640" data-turbo-track="reload">
  <meta http-equiv="x-pjax-js-version" content="bfd0b16fcbba1ee0404512a2c31533215cc4859e2ce78d60037e4916f8b42ea7" data-turbo-track="reload">

  <meta name="turbo-cache-control" content="no-preview" data-turbo-transient="">

      <meta name="turbo-cache-control" content="no-cache" data-turbo-transient>

    <meta data-hydrostats="publish">
  <meta name="go-import" content="github.com/afish1110/SAL-603-Final-Project git https://github.com/afish1110/SAL-603-Final-Project.git">

  <meta name="octolytics-dimension-user_id" content="197981377" /><meta name="octolytics-dimension-user_login" content="afish1110" /><meta name="octolytics-dimension-repository_id" content="928035797" /><meta name="octolytics-dimension-repository_nwo" content="afish1110/SAL-603-Final-Project" /><meta name="octolytics-dimension-repository_public" content="true" /><meta name="octolytics-dimension-repository_is_fork" content="false" /><meta name="octolytics-dimension-repository_network_root_id" content="928035797" /><meta name="octolytics-dimension-repository_network_root_nwo" content="afish1110/SAL-603-Final-Project" />



    

    <meta name="turbo-body-classes" content="logged-in env-production page-responsive">


  <meta name="browser-stats-url" content="https://api.github.com/_private/browser/stats">

  <meta name="browser-errors-url" content="https://api.github.com/_private/browser/errors">

  <link rel="mask-icon" href="https://github.githubassets.com/assets/pinned-octocat-093da3e6fa40.svg" color="#000000">
  <link rel="alternate icon" class="js-site-favicon" type="image/png" href="https://github.githubassets.com/favicons/favicon.png">
  <link rel="icon" class="js-site-favicon" type="image/svg+xml" href="https://github.githubassets.com/favicons/favicon.svg" data-base-href="https://github.githubassets.com/favicons/favicon">

<meta name="theme-color" content="#1e2327">
<meta name="color-scheme" content="light dark" />

  <meta name="msapplication-TileImage" content="/windows-tile.png">
  <meta name="msapplication-TileColor" content="#ffffff">

  <link rel="manifest" href="/manifest.json" crossOrigin="use-credentials">

  </head>

  <body class="logged-in env-production page-responsive" style="word-wrap: break-word;">
    <div data-turbo-body class="logged-in env-production page-responsive" style="word-wrap: break-word;">
      


    <div class="position-relative header-wrapper js-header-wrapper ">
      <a href="#start-of-content" data-skip-target-assigned="false" class="p-3 color-bg-accent-emphasis color-fg-on-emphasis show-on-focus js-skip-to-content">Skip to content</a>

      <span data-view-component="true" class="progress-pjax-loader Progress position-fixed width-full">
    <span style="width: 0%;" data-view-component="true" class="Progress-item progress-pjax-loader-bar left-0 top-0 color-bg-accent-emphasis"></span>
</span>      
      
      <script crossorigin="anonymous" defer="defer" type="application/javascript" src="https://github.githubassets.com/assets/ui_packages_ui-commands_ui-commands_ts-97496b0f52ba.js"></script>
<script crossorigin="anonymous" defer="defer" type="application/javascript" src="https://github.githubassets.com/assets/keyboard-shortcuts-dialog-ac448fe050d6.js"></script>
<link crossorigin="anonymous" media="all" rel="stylesheet" href="https://github.githubassets.com/assets/primer-react.47bf29cd6753fae14b22.module.css" />

<react-partial
  partial-name="keyboard-shortcuts-dialog"
  data-ssr="false"
  data-attempted-ssr="false"
>
  
  <script type="application/json" data-target="react-partial.embeddedData">{"props":{"docsUrl":"https://docs.github.com/get-started/accessibility/keyboard-shortcuts"}}</script>
  <div data-target="react-partial.reactRoot"></div>
</react-partial>




      

          

              <header class="AppHeader" role="banner">
  <h2 class="sr-only">Navigation Menu</h2>

    

    <div class="AppHeader-globalBar pb-2 js-global-bar">
      <div class="AppHeader-globalBar-start">
          <deferred-side-panel data-url="/_side-panels/global">
  <include-fragment data-target="deferred-side-panel.fragment">
      <button aria-label="Open global navigation menu" data-action="click:deferred-side-panel#loadPanel click:deferred-side-panel#panelOpened" data-show-dialog-id="dialog-608b13a8-b99f-4b37-802a-67c5fdd7e44b" id="dialog-show-dialog-608b13a8-b99f-4b37-802a-67c5fdd7e44b" type="button" data-view-component="true" class="Button Button--iconOnly Button--secondary Button--medium AppHeader-button p-0 color-fg-muted">  <svg aria-hidden="true" height="16" viewBox="0 0 16 16" version="1.1" width="16" data-view-component="true" class="octicon octicon-three-bars Button-visual">
    <path d="M1 2.75A.75.75 0 0 1 1.75 2h12.5a.75.75 0 0 1 0 1.5H1.75A.75.75 0 0 1 1 2.75Zm0 5A.75.75 0 0 1 1.75 7h12.5a.75.75 0 0 1 0 1.5H1.75A.75.75 0 0 1 1 7.75ZM1.75 12h12.5a.75.75 0 0 1 0 1.5H1.75a.75.75 0 0 1 0-1.5Z"></path>
</svg>
</button>

<dialog-helper>
  <dialog data-target="deferred-side-panel.panel" id="dialog-608b13a8-b99f-4b37-802a-67c5fdd7e44b" aria-modal="true" aria-labelledby="dialog-608b13a8-b99f-4b37-802a-67c5fdd7e44b-title" aria-describedby="dialog-608b13a8-b99f-4b37-802a-67c5fdd7e44b-description" data-view-component="true" class="Overlay Overlay-whenNarrow Overlay--size-small-portrait Overlay--motion-scaleFade Overlay--placement-left SidePanel Overlay--disableScroll">
    <div styles="flex-direction: row;" data-view-component="true" class="Overlay-header">
  <div class="Overlay-headerContentWrap">
    <div class="Overlay-titleWrap">
      <h1 class="Overlay-title sr-only" id="dialog-608b13a8-b99f-4b37-802a-67c5fdd7e44b-title">
        Global navigation
      </h1>
            <div data-view-component="true" class="d-flex">
      <div data-view-component="true" class="AppHeader-logo position-relative">
        <svg aria-hidden="true" height="24" viewBox="0 0 24 24" version="1.1" width="24" data-view-component="true" class="octicon octicon-mark-github">
    <path d="M12.5.75C6.146.75 1 5.896 1 12.25c0 5.089 3.292 9.387 7.863 10.91.575.101.79-.244.79-.546 0-.273-.014-1.178-.014-2.142-2.889.532-3.636-.704-3.866-1.35-.13-.331-.69-1.352-1.18-1.625-.402-.216-.977-.748-.014-.762.906-.014 1.553.834 1.769 1.179 1.035 1.74 2.688 1.25 3.349.948.1-.747.402-1.25.733-1.538-2.559-.287-5.232-1.279-5.232-5.678 0-1.25.445-2.285 1.178-3.09-.115-.288-.517-1.467.115-3.048 0 0 .963-.302 3.163 1.179.92-.259 1.897-.388 2.875-.388.977 0 1.955.13 2.875.388 2.2-1.495 3.162-1.179 3.162-1.179.633 1.581.23 2.76.115 3.048.733.805 1.179 1.825 1.179 3.09 0 4.413-2.688 5.39-5.247 5.678.417.36.776 1.05.776 2.128 0 1.538-.014 2.774-.014 3.162 0 .302.216.662.79.547C20.709 21.637 24 17.324 24 12.25 24 5.896 18.854.75 12.5.75Z"></path>
</svg>
</div></div>
    </div>
    <div class="Overlay-actionWrap">
      <button data-close-dialog-id="dialog-608b13a8-b99f-4b37-802a-67c5fdd7e44b" aria-label="Close" type="button" data-view-component="true" class="close-button Overlay-closeButton"><svg aria-hidden="true" height="16" viewBox="0 0 16 16" version="1.1" width="16" data-view-component="true" class="octicon octicon-x">
    <path d="M3.72 3.72a.75.75 0 0 1 1.06 0L8 6.94l3.22-3.22a.749.749 0 0 1 1.275.326.749.749 0 0 1-.215.734L9.06 8l3.22 3.22a.749.749 0 0 1-.326 1.275.749.749 0 0 1-.734-.215L8 9.06l-3.22 3.22a.751.751 0 0 1-1.042-.018.751.751 0 0 1-.018-1.042L6.94 8 3.72 4.78a.75.75 0 0 1 0-1.06Z"></path>
</svg></button>
    </div>
  </div>
  
</div>
      <scrollable-region data-labelled-by="dialog-608b13a8-b99f-4b37-802a-67c5fdd7e44b-title">
        <div data-view-component="true" class="Overlay-body d-flex flex-column px-2">    <div data-view-component="true" class="d-flex flex-column mb-3">
        <nav aria-label="Site navigation" data-view-component="true" class="ActionList">
  
  <nav-list>
    <ul data-target="nav-list.topLevelList" data-view-component="true" class="ActionListWrap">
        
          
<li data-item-id="" data-targets="nav-list.items" data-view-component="true" class="ActionListItem">
    
    
    <a data-hotkey="g d" data-analytics-event="{&quot;category&quot;:&quot;Global navigation&quot;,&quot;action&quot;:&quot;HOME&quot;,&quot;label&quot;:null}" id="item-24ef63e2-a546-4e48-a6ad-921d9d520a42" href="/dashboard" data-view-component="true" class="ActionListContent ActionListContent--visual16">
        <span class="ActionListItem-visual ActionListItem-visual--leading">
          <svg aria-hidden="true" height="16" viewBox="0 0 16 16" version="1.1" width="16" data-view-component="true" class="octicon octicon-home">
    <path d="M6.906.664a1.749 1.749 0 0 1 2.187 0l5.25 4.2c.415.332.657.835.657 1.367v7.019A1.75 1.75 0 0 1 13.25 15h-3.5a.75.75 0 0 1-.75-.75V9H7v5.25a.75.75 0 0 1-.75.75h-3.5A1.75 1.75 0 0 1 1 13.25V6.23c0-.531.242-1.034.657-1.366l5.25-4.2Zm1.25 1.171a.25.25 0 0 0-.312 0l-5.25 4.2a.25.25 0 0 0-.094.196v7.019c0 .138.112.25.25.25H5.5V8.25a.75.75 0 0 1 .75-.75h3.5a.75.75 0 0 1 .75.75v5.25h2.75a.25.25 0 0 0 .25-.25V6.23a.25.25 0 0 0-.094-.195Z"></path>
</svg>
        </span>
      
        <span data-view-component="true" class="ActionListItem-label">
          Home
</span>      
</a>
  
</li>

        
          
<li data-item-id="" data-targets="nav-list.items" data-view-component="true" class="ActionListItem">
    
    
    <a data-hotkey="g i" data-analytics-event="{&quot;category&quot;:&quot;Global navigation&quot;,&quot;action&quot;:&quot;ISSUES&quot;,&quot;label&quot;:null}" id="item-e80a8559-df7b-46ae-b977-6b30941824f4" href="/issues" data-view-component="true" class="ActionListContent ActionListContent--visual16">
        <span class="ActionListItem-visual ActionListItem-visual--leading">
          <svg aria-hidden="true" height="16" viewBox="0 0 16 16" version="1.1" width="16" data-view-component="true" class="octicon octicon-issue-opened">
    <path d="M8 9.5a1.5 1.5 0 1 0 0-3 1.5 1.5 0 0 0 0 3Z"></path><path d="M8 0a8 8 0 1 1 0 16A8 8 0 0 1 8 0ZM1.5 8a6.5 6.5 0 1 0 13 0 6.5 6.5 0 0 0-13 0Z"></path>
</svg>
        </span>
      
        <span data-view-component="true" class="ActionListItem-label">
          Issues
</span>      
</a>
  
</li>

        
          
<li data-item-id="" data-targets="nav-list.items" data-view-component="true" class="ActionListItem">
    
    
    <a data-hotkey="g p" data-analytics-event="{&quot;category&quot;:&quot;Global navigation&quot;,&quot;action&quot;:&quot;PULL_REQUESTS&quot;,&quot;label&quot;:null}" id="item-5e49972e-0038-462a-a3cc-d158740f50ec" href="/pulls" data-view-component="true" class="ActionListContent ActionListContent--visual16">
        <span class="ActionListItem-visual ActionListItem-visual--leading">
          <svg aria-hidden="true" height="16" viewBox="0 0 16 16" version="1.1" width="16" data-view-component="true" class="octicon octicon-git-pull-request">
    <path d="M1.5 3.25a2.25 2.25 0 1 1 3 2.122v5.256a2.251 2.251 0 1 1-1.5 0V5.372A2.25 2.25 0 0 1 1.5 3.25Zm5.677-.177L9.573.677A.25.25 0 0 1 10 .854V2.5h1A2.5 2.5 0 0 1 13.5 5v5.628a2.251 2.251 0 1 1-1.5 0V5a1 1 0 0 0-1-1h-1v1.646a.25.25 0 0 1-.427.177L7.177 3.427a.25.25 0 0 1 0-.354ZM3.75 2.5a.75.75 0 1 0 0 1.5.75.75 0 0 0 0-1.5Zm0 9.5a.75.75 0 1 0 0 1.5.75.75 0 0 0 0-1.5Zm8.25.75a.75.75 0 1 0 1.5 0 .75.75 0 0 0-1.5 0Z"></path>
</svg>
        </span>
      
        <span data-view-component="true" class="ActionListItem-label">
          Pull requests
</span>      
</a>
  
</li>

        
          
<li data-item-id="" data-targets="nav-list.items" data-item-id="projects" data-view-component="true" class="ActionListItem">
    
    
    <a data-analytics-event="{&quot;category&quot;:&quot;Global navigation&quot;,&quot;action&quot;:&quot;PROJECTS&quot;,&quot;label&quot;:null}" id="item-0182a873-d4e6-4393-92a3-a0f3d21b5b2b" href="/projects" data-view-component="true" class="ActionListContent ActionListContent--visual16">
        <span class="ActionListItem-visual ActionListItem-visual--leading">
          <svg aria-hidden="true" height="16" viewBox="0 0 16 16" version="1.1" width="16" data-view-component="true" class="octicon octicon-table">
    <path d="M0 1.75C0 .784.784 0 1.75 0h12.5C15.216 0 16 .784 16 1.75v12.5A1.75 1.75 0 0 1 14.25 16H1.75A1.75 1.75 0 0 1 0 14.25ZM6.5 6.5v8h7.75a.25.25 0 0 0 .25-.25V6.5Zm8-1.5V1.75a.25.25 0 0 0-.25-.25H6.5V5Zm-13 1.5v7.75c0 .138.112.25.25.25H5v-8ZM5 5V1.5H1.75a.25.25 0 0 0-.25.25V5Z"></path>
</svg>
        </span>
      
        <span data-view-component="true" class="ActionListItem-label">
          Projects
</span>      
</a>
  
</li>

        
          
<li data-item-id="" data-targets="nav-list.items" data-view-component="true" class="ActionListItem">
    
    
    <a data-analytics-event="{&quot;category&quot;:&quot;Global navigation&quot;,&quot;action&quot;:&quot;DISCUSSIONS&quot;,&quot;label&quot;:null}" id="item-de56ae55-d37b-4be5-bb4f-c9eaa440a176" href="/discussions" data-view-component="true" class="ActionListContent ActionListContent--visual16">
        <span class="ActionListItem-visual ActionListItem-visual--leading">
          <svg aria-hidden="true" height="16" viewBox="0 0 16 16" version="1.1" width="16" data-view-component="true" class="octicon octicon-comment-discussion">
    <path d="M1.75 1h8.5c.966 0 1.75.784 1.75 1.75v5.5A1.75 1.75 0 0 1 10.25 10H7.061l-2.574 2.573A1.458 1.458 0 0 1 2 11.543V10h-.25A1.75 1.75 0 0 1 0 8.25v-5.5C0 1.784.784 1 1.75 1ZM1.5 2.75v5.5c0 .138.112.25.25.25h1a.75.75 0 0 1 .75.75v2.19l2.72-2.72a.749.749 0 0 1 .53-.22h3.5a.25.25 0 0 0 .25-.25v-5.5a.25.25 0 0 0-.25-.25h-8.5a.25.25 0 0 0-.25.25Zm13 2a.25.25 0 0 0-.25-.25h-.5a.75.75 0 0 1 0-1.5h.5c.966 0 1.75.784 1.75 1.75v5.5A1.75 1.75 0 0 1 14.25 12H14v1.543a1.458 1.458 0 0 1-2.487 1.03L9.22 12.28a.749.749 0 0 1 .326-1.275.749.749 0 0 1 .734.215l2.22 2.22v-2.19a.75.75 0 0 1 .75-.75h1a.25.25 0 0 0 .25-.25Z"></path>
</svg>
        </span>
      
        <span data-view-component="true" class="ActionListItem-label">
          Discussions
</span>      
</a>
  
</li>

        
          
<li data-item-id="" data-targets="nav-list.items" data-view-component="true" class="ActionListItem">
    
    
    <a data-analytics-event="{&quot;category&quot;:&quot;Global navigation&quot;,&quot;action&quot;:&quot;CODESPACES&quot;,&quot;label&quot;:null}" id="item-748d1c8f-b076-43f1-84a1-5493599a4a41" href="https://github.com/codespaces" data-view-component="true" class="ActionListContent ActionListContent--visual16">
        <span class="ActionListItem-visual ActionListItem-visual--leading">
          <svg aria-hidden="true" height="16" viewBox="0 0 16 16" version="1.1" width="16" data-view-component="true" class="octicon octicon-codespaces">
    <path d="M0 11.25c0-.966.784-1.75 1.75-1.75h12.5c.966 0 1.75.784 1.75 1.75v3A1.75 1.75 0 0 1 14.25 16H1.75A1.75 1.75 0 0 1 0 14.25Zm2-9.5C2 .784 2.784 0 3.75 0h8.5C13.216 0 14 .784 14 1.75v5a1.75 1.75 0 0 1-1.75 1.75h-8.5A1.75 1.75 0 0 1 2 6.75Zm1.75-.25a.25.25 0 0 0-.25.25v5c0 .138.112.25.25.25h8.5a.25.25 0 0 0 .25-.25v-5a.25.25 0 0 0-.25-.25Zm-2 9.5a.25.25 0 0 0-.25.25v3c0 .138.112.25.25.25h12.5a.25.25 0 0 0 .25-.25v-3a.25.25 0 0 0-.25-.25Z"></path><path d="M7 12.75a.75.75 0 0 1 .75-.75h4.5a.75.75 0 0 1 0 1.5h-4.5a.75.75 0 0 1-.75-.75Zm-4 0a.75.75 0 0 1 .75-.75h.5a.75.75 0 0 1 0 1.5h-.5a.75.75 0 0 1-.75-.75Z"></path>
</svg>
        </span>
      
        <span data-view-component="true" class="ActionListItem-label">
          Codespaces
</span>      
</a>
  
</li>

        
          
<li data-item-id="" data-targets="nav-list.items" data-view-component="true" class="ActionListItem">
    
    
    <a data-analytics-event="{&quot;category&quot;:&quot;Global navigation&quot;,&quot;action&quot;:&quot;COPILOT&quot;,&quot;label&quot;:null}" id="item-30ee0b85-1295-4b75-baa1-ffa2563648fc" href="/copilot" data-view-component="true" class="ActionListContent ActionListContent--visual16">
        <span class="ActionListItem-visual ActionListItem-visual--leading">
          <svg aria-hidden="true" height="16" viewBox="0 0 16 16" version="1.1" width="16" data-view-component="true" class="octicon octicon-copilot">
    <path d="M7.998 15.035c-4.562 0-7.873-2.914-7.998-3.749V9.338c.085-.628.677-1.686 1.588-2.065.013-.07.024-.143.036-.218.029-.183.06-.384.126-.612-.201-.508-.254-1.084-.254-1.656 0-.87.128-1.769.693-2.484.579-.733 1.494-1.124 2.724-1.261 1.206-.134 2.262.034 2.944.765.05.053.096.108.139.165.044-.057.094-.112.143-.165.682-.731 1.738-.899 2.944-.765 1.23.137 2.145.528 2.724 1.261.566.715.693 1.614.693 2.484 0 .572-.053 1.148-.254 1.656.066.228.098.429.126.612.012.076.024.148.037.218.924.385 1.522 1.471 1.591 2.095v1.872c0 .766-3.351 3.795-8.002 3.795Zm0-1.485c2.28 0 4.584-1.11 5.002-1.433V7.862l-.023-.116c-.49.21-1.075.291-1.727.291-1.146 0-2.059-.327-2.71-.991A3.222 3.222 0 0 1 8 6.303a3.24 3.24 0 0 1-.544.743c-.65.664-1.563.991-2.71.991-.652 0-1.236-.081-1.727-.291l-.023.116v4.255c.419.323 2.722 1.433 5.002 1.433ZM6.762 2.83c-.193-.206-.637-.413-1.682-.297-1.019.113-1.479.404-1.713.7-.247.312-.369.789-.369 1.554 0 .793.129 1.171.308 1.371.162.181.519.379 1.442.379.853 0 1.339-.235 1.638-.54.315-.322.527-.827.617-1.553.117-.935-.037-1.395-.241-1.614Zm4.155-.297c-1.044-.116-1.488.091-1.681.297-.204.219-.359.679-.242 1.614.091.726.303 1.231.618 1.553.299.305.784.54 1.638.54.922 0 1.28-.198 1.442-.379.179-.2.308-.578.308-1.371 0-.765-.123-1.242-.37-1.554-.233-.296-.693-.587-1.713-.7Z"></path><path d="M6.25 9.037a.75.75 0 0 1 .75.75v1.501a.75.75 0 0 1-1.5 0V9.787a.75.75 0 0 1 .75-.75Zm4.25.75v1.501a.75.75 0 0 1-1.5 0V9.787a.75.75 0 0 1 1.5 0Z"></path>
</svg>
        </span>
      
        <span data-view-component="true" class="ActionListItem-label">
          Copilot
</span>      
</a>
  
</li>

        
          <li role="presentation" aria-hidden="true" data-view-component="true" class="ActionList-sectionDivider"></li>
        
          
<li data-item-id="" data-targets="nav-list.items" data-view-component="true" class="ActionListItem">
    
    
    <a data-analytics-event="{&quot;category&quot;:&quot;Global navigation&quot;,&quot;action&quot;:&quot;EXPLORE&quot;,&quot;label&quot;:null}" id="item-653b8d29-1b66-4e06-a1bb-c202fe4240a3" href="/explore" data-view-component="true" class="ActionListContent ActionListContent--visual16">
        <span class="ActionListItem-visual ActionListItem-visual--leading">
          <svg aria-hidden="true" height="16" viewBox="0 0 16 16" version="1.1" width="16" data-view-component="true" class="octicon octicon-telescope">
    <path d="M14.184 1.143v-.001l1.422 2.464a1.75 1.75 0 0 1-.757 2.451L3.104 11.713a1.75 1.75 0 0 1-2.275-.702l-.447-.775a1.75 1.75 0 0 1 .53-2.32L11.682.573a1.748 1.748 0 0 1 2.502.57Zm-4.709 9.32h-.001l2.644 3.863a.75.75 0 1 1-1.238.848l-1.881-2.75v2.826a.75.75 0 0 1-1.5 0v-2.826l-1.881 2.75a.75.75 0 1 1-1.238-.848l2.049-2.992a.746.746 0 0 1 .293-.253l1.809-.87a.749.749 0 0 1 .944.252ZM9.436 3.92h-.001l-4.97 3.39.942 1.63 5.42-2.61Zm3.091-2.108h.001l-1.85 1.26 1.505 2.605 2.016-.97a.247.247 0 0 0 .13-.151.247.247 0 0 0-.022-.199l-1.422-2.464a.253.253 0 0 0-.161-.119.254.254 0 0 0-.197.038ZM1.756 9.157a.25.25 0 0 0-.075.33l.447.775a.25.25 0 0 0 .325.1l1.598-.769-.83-1.436-1.465 1Z"></path>
</svg>
        </span>
      
        <span data-view-component="true" class="ActionListItem-label">
          Explore
</span>      
</a>
  
</li>

        
          
<li data-item-id="" data-targets="nav-list.items" data-view-component="true" class="ActionListItem">
    
    
    <a data-analytics-event="{&quot;category&quot;:&quot;Global navigation&quot;,&quot;action&quot;:&quot;MARKETPLACE&quot;,&quot;label&quot;:null}" id="item-e4928882-0c17-4e8f-a1ae-de6b0ccd6f63" href="/marketplace" data-view-component="true" class="ActionListContent ActionListContent--visual16">
        <span class="ActionListItem-visual ActionListItem-visual--leading">
          <svg aria-hidden="true" height="16" viewBox="0 0 16 16" version="1.1" width="16" data-view-component="true" class="octicon octicon-gift">
    <path d="M2 2.75A2.75 2.75 0 0 1 4.75 0c.983 0 1.873.42 2.57 1.232.268.318.497.668.68 1.042.183-.375.411-.725.68-1.044C9.376.42 10.266 0 11.25 0a2.75 2.75 0 0 1 2.45 4h.55c.966 0 1.75.784 1.75 1.75v2c0 .698-.409 1.301-1 1.582v4.918A1.75 1.75 0 0 1 13.25 16H2.75A1.75 1.75 0 0 1 1 14.25V9.332C.409 9.05 0 8.448 0 7.75v-2C0 4.784.784 4 1.75 4h.55c-.192-.375-.3-.8-.3-1.25ZM7.25 9.5H2.5v4.75c0 .138.112.25.25.25h4.5Zm1.5 0v5h4.5a.25.25 0 0 0 .25-.25V9.5Zm0-4V8h5.5a.25.25 0 0 0 .25-.25v-2a.25.25 0 0 0-.25-.25Zm-7 0a.25.25 0 0 0-.25.25v2c0 .138.112.25.25.25h5.5V5.5h-5.5Zm3-4a1.25 1.25 0 0 0 0 2.5h2.309c-.233-.818-.542-1.401-.878-1.793-.43-.502-.915-.707-1.431-.707ZM8.941 4h2.309a1.25 1.25 0 0 0 0-2.5c-.516 0-1 .205-1.43.707-.337.392-.646.975-.879 1.793Z"></path>
</svg>
        </span>
      
        <span data-view-component="true" class="ActionListItem-label">
          Marketplace
</span>      
</a>
  
</li>

</ul>  </nav-list>
</nav>

        <div data-view-component="true" class="my-3 d-flex flex-justify-center height-full">
          <span data-view-component="true">
  <svg style="box-sizing: content-box; color: var(--color-icon-primary);" width="16" height="16" viewBox="0 0 16 16" fill="none" aria-hidden="true" data-view-component="true" class="anim-rotate">
    <circle cx="8" cy="8" r="7" stroke="currentColor" stroke-opacity="0.25" stroke-width="2" vector-effect="non-scaling-stroke" fill="none" />
    <path d="M15 8a7.002 7.002 0 00-7-7" stroke="currentColor" stroke-width="2" stroke-linecap="round" vector-effect="non-scaling-stroke" />
</svg>    <span class="sr-only">Loading</span>
</span>
</div>
</div>
      <div data-view-component="true" class="flex-1"></div>


      <div data-view-component="true" class="px-2">      <p class="color-fg-subtle text-small text-light">&copy; 2025 GitHub, Inc.</p>

      <div data-view-component="true" class="d-flex flex-wrap text-small text-light">
          <a target="_blank" href="https://github.com/about" data-view-component="true" class="Link mr-2">About</a>
          <a target="_blank" href="https://github.blog" data-view-component="true" class="Link mr-2">Blog</a>
          <a target="_blank" href="https://docs.github.com/site-policy/github-terms/github-terms-of-service" data-view-component="true" class="Link mr-2">Terms</a>
          <a target="_blank" href="https://docs.github.com/site-policy/privacy-policies/github-privacy-statement" data-view-component="true" class="Link mr-2">Privacy</a>
          <a target="_blank" href="https://github.com/security" data-view-component="true" class="Link mr-2">Security</a>
          <a target="_blank" href="https://www.githubstatus.com/" data-view-component="true" class="Link mr-3">Status</a>

</div></div>
</div>
      </scrollable-region>
      
</dialog></dialog-helper>

  </include-fragment>
</deferred-side-panel>

        <a
          class="AppHeader-logo ml-1"
          href="https://github.com/"
          data-hotkey="g d"
          aria-label="Homepage "
          data-turbo="false"
          data-analytics-event="{&quot;category&quot;:&quot;Header&quot;,&quot;action&quot;:&quot;go to dashboard&quot;,&quot;label&quot;:&quot;icon:logo&quot;}"
        >
          <svg height="32" aria-hidden="true" viewBox="0 0 24 24" version="1.1" width="32" data-view-component="true" class="octicon octicon-mark-github v-align-middle">
    <path d="M12.5.75C6.146.75 1 5.896 1 12.25c0 5.089 3.292 9.387 7.863 10.91.575.101.79-.244.79-.546 0-.273-.014-1.178-.014-2.142-2.889.532-3.636-.704-3.866-1.35-.13-.331-.69-1.352-1.18-1.625-.402-.216-.977-.748-.014-.762.906-.014 1.553.834 1.769 1.179 1.035 1.74 2.688 1.25 3.349.948.1-.747.402-1.25.733-1.538-2.559-.287-5.232-1.279-5.232-5.678 0-1.25.445-2.285 1.178-3.09-.115-.288-.517-1.467.115-3.048 0 0 .963-.302 3.163 1.179.92-.259 1.897-.388 2.875-.388.977 0 1.955.13 2.875.388 2.2-1.495 3.162-1.179 3.162-1.179.633 1.581.23 2.76.115 3.048.733.805 1.179 1.825 1.179 3.09 0 4.413-2.688 5.39-5.247 5.678.417.36.776 1.05.776 2.128 0 1.538-.014 2.774-.014 3.162 0 .302.216.662.79.547C20.709 21.637 24 17.324 24 12.25 24 5.896 18.854.75 12.5.75Z"></path>
</svg>
        </a>

          <div class="AppHeader-context" >
  <div class="AppHeader-context-compact">
      <button aria-expanded="false" aria-haspopup="dialog" aria-label="Page context: afish1110 / SAL-603-Final-Project" id="dialog-show-context-region-dialog" data-show-dialog-id="context-region-dialog" type="button" data-view-component="true" class="AppHeader-context-compact-trigger Truncate Button--secondary Button--medium Button box-shadow-none">  <span class="Button-content">
    <span class="Button-label"><span class="AppHeader-context-compact-lead">
                <span class="AppHeader-context-compact-parentItem">afish1110</span>
                <span class="no-wrap">&nbsp;/</span>

            </span>

            <strong class="AppHeader-context-compact-mainItem d-flex flex-items-center Truncate" >
  <span class="Truncate-text ">SAL-603-Final-Project</span>

</strong></span>
  </span>
</button>

<dialog-helper>
  <dialog id="context-region-dialog" aria-modal="true" aria-labelledby="context-region-dialog-title" aria-describedby="context-region-dialog-description" data-view-component="true" class="Overlay Overlay-whenNarrow Overlay--size-medium Overlay--motion-scaleFade Overlay--disableScroll">
    <div data-view-component="true" class="Overlay-header">
  <div class="Overlay-headerContentWrap">
    <div class="Overlay-titleWrap">
      <h1 class="Overlay-title " id="context-region-dialog-title">
        Navigate back to
      </h1>
        
    </div>
    <div class="Overlay-actionWrap">
      <button data-close-dialog-id="context-region-dialog" aria-label="Close" type="button" data-view-component="true" class="close-button Overlay-closeButton"><svg aria-hidden="true" height="16" viewBox="0 0 16 16" version="1.1" width="16" data-view-component="true" class="octicon octicon-x">
    <path d="M3.72 3.72a.75.75 0 0 1 1.06 0L8 6.94l3.22-3.22a.749.749 0 0 1 1.275.326.749.749 0 0 1-.215.734L9.06 8l3.22 3.22a.749.749 0 0 1-.326 1.275.749.749 0 0 1-.734-.215L8 9.06l-3.22 3.22a.751.751 0 0 1-1.042-.018.751.751 0 0 1-.018-1.042L6.94 8 3.72 4.78a.75.75 0 0 1 0-1.06Z"></path>
</svg></button>
    </div>
  </div>
  
</div>
      <scrollable-region data-labelled-by="context-region-dialog-title">
        <div data-view-component="true" class="Overlay-body">          <ul role="list" class="list-style-none" >
    <li>
      <a data-analytics-event="{&quot;category&quot;:&quot;SiteHeaderComponent&quot;,&quot;action&quot;:&quot;context_region_crumb&quot;,&quot;label&quot;:&quot;afish1110&quot;,&quot;screen_size&quot;:&quot;compact&quot;}" href="/afish1110" data-view-component="true" class="Link--primary Truncate d-flex flex-items-center py-1">
        <span class="AppHeader-context-item-label Truncate-text ">
            <svg aria-hidden="true" height="12" viewBox="0 0 16 16" version="1.1" width="12" data-view-component="true" class="octicon octicon-person mr-1">
    <path d="M10.561 8.073a6.005 6.005 0 0 1 3.432 5.142.75.75 0 1 1-1.498.07 4.5 4.5 0 0 0-8.99 0 .75.75 0 0 1-1.498-.07 6.004 6.004 0 0 1 3.431-5.142 3.999 3.999 0 1 1 5.123 0ZM10.5 5a2.5 2.5 0 1 0-5 0 2.5 2.5 0 0 0 5 0Z"></path>
</svg>

          afish1110
        </span>

</a>
    </li>
    <li>
      <a data-analytics-event="{&quot;category&quot;:&quot;SiteHeaderComponent&quot;,&quot;action&quot;:&quot;context_region_crumb&quot;,&quot;label&quot;:&quot;SAL-603-Final-Project&quot;,&quot;screen_size&quot;:&quot;compact&quot;}" href="/afish1110/SAL-603-Final-Project" data-view-component="true" class="Link--primary Truncate d-flex flex-items-center py-1">
        <span class="AppHeader-context-item-label Truncate-text ">
            <svg aria-hidden="true" height="12" viewBox="0 0 16 16" version="1.1" width="12" data-view-component="true" class="octicon octicon-repo mr-1">
    <path d="M2 2.5A2.5 2.5 0 0 1 4.5 0h8.75a.75.75 0 0 1 .75.75v12.5a.75.75 0 0 1-.75.75h-2.5a.75.75 0 0 1 0-1.5h1.75v-2h-8a1 1 0 0 0-.714 1.7.75.75 0 1 1-1.072 1.05A2.495 2.495 0 0 1 2 11.5Zm10.5-1h-8a1 1 0 0 0-1 1v6.708A2.486 2.486 0 0 1 4.5 9h8ZM5 12.25a.25.25 0 0 1 .25-.25h3.5a.25.25 0 0 1 .25.25v3.25a.25.25 0 0 1-.4.2l-1.45-1.087a.249.249 0 0 0-.3 0L5.4 15.7a.25.25 0 0 1-.4-.2Z"></path>
</svg>

          SAL-603-Final-Project
        </span>

</a>
    </li>
</ul>

</div>
      </scrollable-region>
      
</dialog></dialog-helper>
  </div>

  <div class="AppHeader-context-full">
    <nav role="navigation" aria-label="Page context">
      <ul role="list" class="list-style-none" >
    <li>
      <a data-analytics-event="{&quot;category&quot;:&quot;SiteHeaderComponent&quot;,&quot;action&quot;:&quot;context_region_crumb&quot;,&quot;label&quot;:&quot;afish1110&quot;,&quot;screen_size&quot;:&quot;full&quot;}" data-hovercard-type="user" data-hovercard-url="/users/afish1110/hovercard" data-octo-click="hovercard-link-click" data-octo-dimensions="link_type:self" href="/afish1110" data-view-component="true" class="AppHeader-context-item">
        <span class="AppHeader-context-item-label  ">

          afish1110
        </span>

</a>
        <span class="AppHeader-context-item-separator">
          <span class='sr-only'>/</span>
          <svg width="16" height="16" viewBox="0 0 16 16" xmlns="http://www.w3.org/2000/svg" aria-hidden="true">
            <path d="M10.956 1.27994L6.06418 14.7201L5 14.7201L9.89181 1.27994L10.956 1.27994Z" fill="currentcolor"/>
          </svg>
        </span>
    </li>
    <li>
      <a data-analytics-event="{&quot;category&quot;:&quot;SiteHeaderComponent&quot;,&quot;action&quot;:&quot;context_region_crumb&quot;,&quot;label&quot;:&quot;SAL-603-Final-Project&quot;,&quot;screen_size&quot;:&quot;full&quot;}" href="/afish1110/SAL-603-Final-Project" data-view-component="true" class="AppHeader-context-item">
        <span class="AppHeader-context-item-label  ">

          SAL-603-Final-Project
        </span>

</a>
    </li>
</ul>

    </nav>
  </div>
</div>

      </div>
      <div class="AppHeader-globalBar-end">
          <div class="AppHeader-search" >
              


<qbsearch-input class="search-input" data-scope="repo:afish1110/SAL-603-Final-Project" data-custom-scopes-path="/search/custom_scopes" data-delete-custom-scopes-csrf="e986vmF0lo7prNgOjFGFDLWVAfPwysZDQHMNCu4QNtftd_7il2RePhDb5DGc5f8fbcOIwu58iZ3hpGa9nk9nxg" data-max-custom-scopes="10" data-header-redesign-enabled="true" data-initial-value="" data-blackbird-suggestions-path="/search/suggestions" data-jump-to-suggestions-path="/_graphql/GetSuggestedNavigationDestinations" data-current-repository="afish1110/SAL-603-Final-Project" data-current-org="" data-current-owner="afish1110" data-logged-in="true" data-copilot-chat-enabled="false" data-nl-search-enabled="false">
  <div
    class="search-input-container search-with-dialog position-relative d-flex flex-row flex-items-center height-auto color-bg-transparent border-0 color-fg-subtle mx-0"
    data-action="click:qbsearch-input#searchInputContainerClicked"
  >
      
            <button type="button" data-action="click:qbsearch-input#handleExpand" class="AppHeader-button AppHeader-search-whenNarrow" aria-label="Search or jump to…" aria-expanded="false" aria-haspopup="dialog">
            <svg aria-hidden="true" height="16" viewBox="0 0 16 16" version="1.1" width="16" data-view-component="true" class="octicon octicon-search">
    <path d="M10.68 11.74a6 6 0 0 1-7.922-8.982 6 6 0 0 1 8.982 7.922l3.04 3.04a.749.749 0 0 1-.326 1.275.749.749 0 0 1-.734-.215ZM11.5 7a4.499 4.499 0 1 0-8.997 0A4.499 4.499 0 0 0 11.5 7Z"></path>
</svg>
          </button>


<div class="AppHeader-search-whenRegular">
  <div class="AppHeader-search-wrap AppHeader-search-wrap--hasTrailing">
    <div class="AppHeader-search-control AppHeader-search-control-overflow">
      <label
        for="AppHeader-searchInput"
        aria-label="Search or jump to…"
        class="AppHeader-search-visual--leading"
      >
        <svg aria-hidden="true" height="16" viewBox="0 0 16 16" version="1.1" width="16" data-view-component="true" class="octicon octicon-search">
    <path d="M10.68 11.74a6 6 0 0 1-7.922-8.982 6 6 0 0 1 8.982 7.922l3.04 3.04a.749.749 0 0 1-.326 1.275.749.749 0 0 1-.734-.215ZM11.5 7a4.499 4.499 0 1 0-8.997 0A4.499 4.499 0 0 0 11.5 7Z"></path>
</svg>
      </label>

                <button
            type="button"
            data-target="qbsearch-input.inputButton"
            data-action="click:qbsearch-input#handleExpand"
            class="AppHeader-searchButton form-control input-contrast text-left color-fg-subtle no-wrap"
            data-hotkey="s,/"
            data-analytics-event="{&quot;location&quot;:&quot;navbar&quot;,&quot;action&quot;:&quot;searchbar&quot;,&quot;context&quot;:&quot;global&quot;,&quot;tag&quot;:&quot;input&quot;,&quot;label&quot;:&quot;searchbar_input_global_navbar&quot;}"
            aria-describedby="search-error-message-flash"
          >
            <div class="overflow-hidden">
              <span id="qb-input-query" data-target="qbsearch-input.inputButtonText">
                  Type <kbd class="AppHeader-search-kbd">/</kbd> to search
              </span>
            </div>
          </button>

    </div>


  </div>
</div>

    <input type="hidden" name="type" class="js-site-search-type-field">

    
<div class="Overlay--hidden " data-modal-dialog-overlay>
  <modal-dialog data-action="close:qbsearch-input#handleClose cancel:qbsearch-input#handleClose" data-target="qbsearch-input.searchSuggestionsDialog" role="dialog" id="search-suggestions-dialog" aria-modal="true" aria-labelledby="search-suggestions-dialog-header" data-view-component="true" class="Overlay Overlay--width-medium Overlay--height-auto">
      <h1 id="search-suggestions-dialog-header" class="sr-only">Search code, repositories, users, issues, pull requests...</h1>
    <div class="Overlay-body Overlay-body--paddingNone">
      
          <div data-view-component="true">        <div class="search-suggestions position-absolute width-full color-shadow-large border color-fg-default color-bg-default overflow-hidden d-flex flex-column query-builder-container"
          style="border-radius: 12px;"
          data-target="qbsearch-input.queryBuilderContainer"
          hidden
        >
          <!-- '"` --><!-- </textarea></xmp> --></option></form><form id="query-builder-test-form" action="" accept-charset="UTF-8" method="get">
  <query-builder data-target="qbsearch-input.queryBuilder" id="query-builder-query-builder-test" data-filter-key=":" data-view-component="true" class="QueryBuilder search-query-builder">
    <div class="FormControl FormControl--fullWidth">
      <label id="query-builder-test-label" for="query-builder-test" class="FormControl-label sr-only">
        Search
      </label>
      <div
        class="QueryBuilder-StyledInput width-fit "
        data-target="query-builder.styledInput"
      >
          <span id="query-builder-test-leadingvisual-wrap" class="FormControl-input-leadingVisualWrap QueryBuilder-leadingVisualWrap">
            <svg aria-hidden="true" height="16" viewBox="0 0 16 16" version="1.1" width="16" data-view-component="true" class="octicon octicon-search FormControl-input-leadingVisual">
    <path d="M10.68 11.74a6 6 0 0 1-7.922-8.982 6 6 0 0 1 8.982 7.922l3.04 3.04a.749.749 0 0 1-.326 1.275.749.749 0 0 1-.734-.215ZM11.5 7a4.499 4.499 0 1 0-8.997 0A4.499 4.499 0 0 0 11.5 7Z"></path>
</svg>
          </span>
        <div data-target="query-builder.styledInputContainer" class="QueryBuilder-StyledInputContainer">
          <div
            aria-hidden="true"
            class="QueryBuilder-StyledInputContent"
            data-target="query-builder.styledInputContent"
          ></div>
          <div class="QueryBuilder-InputWrapper">
            <div aria-hidden="true" class="QueryBuilder-Sizer" data-target="query-builder.sizer"></div>
            <input id="query-builder-test" name="query-builder-test" value="" autocomplete="off" type="text" role="combobox" spellcheck="false" aria-expanded="false" aria-describedby="validation-7ef32b47-24df-42b1-82c7-2094d67823aa" data-target="query-builder.input" data-action="
          input:query-builder#inputChange
          blur:query-builder#inputBlur
          keydown:query-builder#inputKeydown
          focus:query-builder#inputFocus
        " data-view-component="true" class="FormControl-input QueryBuilder-Input FormControl-medium" />
          </div>
        </div>
          <span class="sr-only" id="query-builder-test-clear">Clear</span>
          <button role="button" id="query-builder-test-clear-button" aria-labelledby="query-builder-test-clear query-builder-test-label" data-target="query-builder.clearButton" data-action="
                click:query-builder#clear
                focus:query-builder#clearButtonFocus
                blur:query-builder#clearButtonBlur
              " variant="small" hidden="hidden" type="button" data-view-component="true" class="Button Button--iconOnly Button--invisible Button--medium mr-1 px-2 py-0 d-flex flex-items-center rounded-1 color-fg-muted">  <svg aria-hidden="true" height="16" viewBox="0 0 16 16" version="1.1" width="16" data-view-component="true" class="octicon octicon-x-circle-fill Button-visual">
    <path d="M2.343 13.657A8 8 0 1 1 13.658 2.343 8 8 0 0 1 2.343 13.657ZM6.03 4.97a.751.751 0 0 0-1.042.018.751.751 0 0 0-.018 1.042L6.94 8 4.97 9.97a.749.749 0 0 0 .326 1.275.749.749 0 0 0 .734-.215L8 9.06l1.97 1.97a.749.749 0 0 0 1.275-.326.749.749 0 0 0-.215-.734L9.06 8l1.97-1.97a.749.749 0 0 0-.326-1.275.749.749 0 0 0-.734.215L8 6.94Z"></path>
</svg>
</button>

      </div>
      <template id="search-icon">
  <svg aria-hidden="true" height="16" viewBox="0 0 16 16" version="1.1" width="16" data-view-component="true" class="octicon octicon-search">
    <path d="M10.68 11.74a6 6 0 0 1-7.922-8.982 6 6 0 0 1 8.982 7.922l3.04 3.04a.749.749 0 0 1-.326 1.275.749.749 0 0 1-.734-.215ZM11.5 7a4.499 4.499 0 1 0-8.997 0A4.499 4.499 0 0 0 11.5 7Z"></path>
</svg>
</template>

<template id="code-icon">
  <svg aria-hidden="true" height="16" viewBox="0 0 16 16" version="1.1" width="16" data-view-component="true" class="octicon octicon-code">
    <path d="m11.28 3.22 4.25 4.25a.75.75 0 0 1 0 1.06l-4.25 4.25a.749.749 0 0 1-1.275-.326.749.749 0 0 1 .215-.734L13.94 8l-3.72-3.72a.749.749 0 0 1 .326-1.275.749.749 0 0 1 .734.215Zm-6.56 0a.751.751 0 0 1 1.042.018.751.751 0 0 1 .018 1.042L2.06 8l3.72 3.72a.749.749 0 0 1-.326 1.275.749.749 0 0 1-.734-.215L.47 8.53a.75.75 0 0 1 0-1.06Z"></path>
</svg>
</template>

<template id="file-code-icon">
  <svg aria-hidden="true" height="16" viewBox="0 0 16 16" version="1.1" width="16" data-view-component="true" class="octicon octicon-file-code">
    <path d="M4 1.75C4 .784 4.784 0 5.75 0h5.586c.464 0 .909.184 1.237.513l2.914 2.914c.329.328.513.773.513 1.237v8.586A1.75 1.75 0 0 1 14.25 15h-9a.75.75 0 0 1 0-1.5h9a.25.25 0 0 0 .25-.25V6h-2.75A1.75 1.75 0 0 1 10 4.25V1.5H5.75a.25.25 0 0 0-.25.25v2.5a.75.75 0 0 1-1.5 0Zm1.72 4.97a.75.75 0 0 1 1.06 0l2 2a.75.75 0 0 1 0 1.06l-2 2a.749.749 0 0 1-1.275-.326.749.749 0 0 1 .215-.734l1.47-1.47-1.47-1.47a.75.75 0 0 1 0-1.06ZM3.28 7.78 1.81 9.25l1.47 1.47a.751.751 0 0 1-.018 1.042.751.751 0 0 1-1.042.018l-2-2a.75.75 0 0 1 0-1.06l2-2a.751.751 0 0 1 1.042.018.751.751 0 0 1 .018 1.042Zm8.22-6.218V4.25c0 .138.112.25.25.25h2.688l-.011-.013-2.914-2.914-.013-.011Z"></path>
</svg>
</template>

<template id="history-icon">
  <svg aria-hidden="true" height="16" viewBox="0 0 16 16" version="1.1" width="16" data-view-component="true" class="octicon octicon-history">
    <path d="m.427 1.927 1.215 1.215a8.002 8.002 0 1 1-1.6 5.685.75.75 0 1 1 1.493-.154 6.5 6.5 0 1 0 1.18-4.458l1.358 1.358A.25.25 0 0 1 3.896 6H.25A.25.25 0 0 1 0 5.75V2.104a.25.25 0 0 1 .427-.177ZM7.75 4a.75.75 0 0 1 .75.75v2.992l2.028.812a.75.75 0 0 1-.557 1.392l-2.5-1A.751.751 0 0 1 7 8.25v-3.5A.75.75 0 0 1 7.75 4Z"></path>
</svg>
</template>

<template id="repo-icon">
  <svg aria-hidden="true" height="16" viewBox="0 0 16 16" version="1.1" width="16" data-view-component="true" class="octicon octicon-repo">
    <path d="M2 2.5A2.5 2.5 0 0 1 4.5 0h8.75a.75.75 0 0 1 .75.75v12.5a.75.75 0 0 1-.75.75h-2.5a.75.75 0 0 1 0-1.5h1.75v-2h-8a1 1 0 0 0-.714 1.7.75.75 0 1 1-1.072 1.05A2.495 2.495 0 0 1 2 11.5Zm10.5-1h-8a1 1 0 0 0-1 1v6.708A2.486 2.486 0 0 1 4.5 9h8ZM5 12.25a.25.25 0 0 1 .25-.25h3.5a.25.25 0 0 1 .25.25v3.25a.25.25 0 0 1-.4.2l-1.45-1.087a.249.249 0 0 0-.3 0L5.4 15.7a.25.25 0 0 1-.4-.2Z"></path>
</svg>
</template>

<template id="bookmark-icon">
  <svg aria-hidden="true" height="16" viewBox="0 0 16 16" version="1.1" width="16" data-view-component="true" class="octicon octicon-bookmark">
    <path d="M3 2.75C3 1.784 3.784 1 4.75 1h6.5c.966 0 1.75.784 1.75 1.75v11.5a.75.75 0 0 1-1.227.579L8 11.722l-3.773 3.107A.751.751 0 0 1 3 14.25Zm1.75-.25a.25.25 0 0 0-.25.25v9.91l3.023-2.489a.75.75 0 0 1 .954 0l3.023 2.49V2.75a.25.25 0 0 0-.25-.25Z"></path>
</svg>
</template>

<template id="plus-circle-icon">
  <svg aria-hidden="true" height="16" viewBox="0 0 16 16" version="1.1" width="16" data-view-component="true" class="octicon octicon-plus-circle">
    <path d="M8 0a8 8 0 1 1 0 16A8 8 0 0 1 8 0ZM1.5 8a6.5 6.5 0 1 0 13 0 6.5 6.5 0 0 0-13 0Zm7.25-3.25v2.5h2.5a.75.75 0 0 1 0 1.5h-2.5v2.5a.75.75 0 0 1-1.5 0v-2.5h-2.5a.75.75 0 0 1 0-1.5h2.5v-2.5a.75.75 0 0 1 1.5 0Z"></path>
</svg>
</template>

<template id="circle-icon">
  <svg aria-hidden="true" height="16" viewBox="0 0 16 16" version="1.1" width="16" data-view-component="true" class="octicon octicon-dot-fill">
    <path d="M8 4a4 4 0 1 1 0 8 4 4 0 0 1 0-8Z"></path>
</svg>
</template>

<template id="trash-icon">
  <svg aria-hidden="true" height="16" viewBox="0 0 16 16" version="1.1" width="16" data-view-component="true" class="octicon octicon-trash">
    <path d="M11 1.75V3h2.25a.75.75 0 0 1 0 1.5H2.75a.75.75 0 0 1 0-1.5H5V1.75C5 .784 5.784 0 6.75 0h2.5C10.216 0 11 .784 11 1.75ZM4.496 6.675l.66 6.6a.25.25 0 0 0 .249.225h5.19a.25.25 0 0 0 .249-.225l.66-6.6a.75.75 0 0 1 1.492.149l-.66 6.6A1.748 1.748 0 0 1 10.595 15h-5.19a1.75 1.75 0 0 1-1.741-1.575l-.66-6.6a.75.75 0 1 1 1.492-.15ZM6.5 1.75V3h3V1.75a.25.25 0 0 0-.25-.25h-2.5a.25.25 0 0 0-.25.25Z"></path>
</svg>
</template>

<template id="team-icon">
  <svg aria-hidden="true" height="16" viewBox="0 0 16 16" version="1.1" width="16" data-view-component="true" class="octicon octicon-people">
    <path d="M2 5.5a3.5 3.5 0 1 1 5.898 2.549 5.508 5.508 0 0 1 3.034 4.084.75.75 0 1 1-1.482.235 4 4 0 0 0-7.9 0 .75.75 0 0 1-1.482-.236A5.507 5.507 0 0 1 3.102 8.05 3.493 3.493 0 0 1 2 5.5ZM11 4a3.001 3.001 0 0 1 2.22 5.018 5.01 5.01 0 0 1 2.56 3.012.749.749 0 0 1-.885.954.752.752 0 0 1-.549-.514 3.507 3.507 0 0 0-2.522-2.372.75.75 0 0 1-.574-.73v-.352a.75.75 0 0 1 .416-.672A1.5 1.5 0 0 0 11 5.5.75.75 0 0 1 11 4Zm-5.5-.5a2 2 0 1 0-.001 3.999A2 2 0 0 0 5.5 3.5Z"></path>
</svg>
</template>

<template id="project-icon">
  <svg aria-hidden="true" height="16" viewBox="0 0 16 16" version="1.1" width="16" data-view-component="true" class="octicon octicon-project">
    <path d="M1.75 0h12.5C15.216 0 16 .784 16 1.75v12.5A1.75 1.75 0 0 1 14.25 16H1.75A1.75 1.75 0 0 1 0 14.25V1.75C0 .784.784 0 1.75 0ZM1.5 1.75v12.5c0 .138.112.25.25.25h12.5a.25.25 0 0 0 .25-.25V1.75a.25.25 0 0 0-.25-.25H1.75a.25.25 0 0 0-.25.25ZM11.75 3a.75.75 0 0 1 .75.75v7.5a.75.75 0 0 1-1.5 0v-7.5a.75.75 0 0 1 .75-.75Zm-8.25.75a.75.75 0 0 1 1.5 0v5.5a.75.75 0 0 1-1.5 0ZM8 3a.75.75 0 0 1 .75.75v3.5a.75.75 0 0 1-1.5 0v-3.5A.75.75 0 0 1 8 3Z"></path>
</svg>
</template>

<template id="pencil-icon">
  <svg aria-hidden="true" height="16" viewBox="0 0 16 16" version="1.1" width="16" data-view-component="true" class="octicon octicon-pencil">
    <path d="M11.013 1.427a1.75 1.75 0 0 1 2.474 0l1.086 1.086a1.75 1.75 0 0 1 0 2.474l-8.61 8.61c-.21.21-.47.364-.756.445l-3.251.93a.75.75 0 0 1-.927-.928l.929-3.25c.081-.286.235-.547.445-.758l8.61-8.61Zm.176 4.823L9.75 4.81l-6.286 6.287a.253.253 0 0 0-.064.108l-.558 1.953 1.953-.558a.253.253 0 0 0 .108-.064Zm1.238-3.763a.25.25 0 0 0-.354 0L10.811 3.75l1.439 1.44 1.263-1.263a.25.25 0 0 0 0-.354Z"></path>
</svg>
</template>

<template id="copilot-icon">
  <svg aria-hidden="true" height="16" viewBox="0 0 16 16" version="1.1" width="16" data-view-component="true" class="octicon octicon-copilot">
    <path d="M7.998 15.035c-4.562 0-7.873-2.914-7.998-3.749V9.338c.085-.628.677-1.686 1.588-2.065.013-.07.024-.143.036-.218.029-.183.06-.384.126-.612-.201-.508-.254-1.084-.254-1.656 0-.87.128-1.769.693-2.484.579-.733 1.494-1.124 2.724-1.261 1.206-.134 2.262.034 2.944.765.05.053.096.108.139.165.044-.057.094-.112.143-.165.682-.731 1.738-.899 2.944-.765 1.23.137 2.145.528 2.724 1.261.566.715.693 1.614.693 2.484 0 .572-.053 1.148-.254 1.656.066.228.098.429.126.612.012.076.024.148.037.218.924.385 1.522 1.471 1.591 2.095v1.872c0 .766-3.351 3.795-8.002 3.795Zm0-1.485c2.28 0 4.584-1.11 5.002-1.433V7.862l-.023-.116c-.49.21-1.075.291-1.727.291-1.146 0-2.059-.327-2.71-.991A3.222 3.222 0 0 1 8 6.303a3.24 3.24 0 0 1-.544.743c-.65.664-1.563.991-2.71.991-.652 0-1.236-.081-1.727-.291l-.023.116v4.255c.419.323 2.722 1.433 5.002 1.433ZM6.762 2.83c-.193-.206-.637-.413-1.682-.297-1.019.113-1.479.404-1.713.7-.247.312-.369.789-.369 1.554 0 .793.129 1.171.308 1.371.162.181.519.379 1.442.379.853 0 1.339-.235 1.638-.54.315-.322.527-.827.617-1.553.117-.935-.037-1.395-.241-1.614Zm4.155-.297c-1.044-.116-1.488.091-1.681.297-.204.219-.359.679-.242 1.614.091.726.303 1.231.618 1.553.299.305.784.54 1.638.54.922 0 1.28-.198 1.442-.379.179-.2.308-.578.308-1.371 0-.765-.123-1.242-.37-1.554-.233-.296-.693-.587-1.713-.7Z"></path><path d="M6.25 9.037a.75.75 0 0 1 .75.75v1.501a.75.75 0 0 1-1.5 0V9.787a.75.75 0 0 1 .75-.75Zm4.25.75v1.501a.75.75 0 0 1-1.5 0V9.787a.75.75 0 0 1 1.5 0Z"></path>
</svg>
</template>

<template id="copilot-error-icon">
  <svg aria-hidden="true" height="16" viewBox="0 0 16 16" version="1.1" width="16" data-view-component="true" class="octicon octicon-copilot-error">
    <path d="M16 11.24c0 .112-.072.274-.21.467L13 9.688V7.862l-.023-.116c-.49.21-1.075.291-1.727.291-.198 0-.388-.009-.571-.029L6.833 5.226a4.01 4.01 0 0 0 .17-.782c.117-.935-.037-1.395-.241-1.614-.193-.206-.637-.413-1.682-.297-.683.076-1.115.231-1.395.415l-1.257-.91c.579-.564 1.413-.877 2.485-.996 1.206-.134 2.262.034 2.944.765.05.053.096.108.139.165.044-.057.094-.112.143-.165.682-.731 1.738-.899 2.944-.765 1.23.137 2.145.528 2.724 1.261.566.715.693 1.614.693 2.484 0 .572-.053 1.148-.254 1.656.066.228.098.429.126.612.012.076.024.148.037.218.924.385 1.522 1.471 1.591 2.095Zm-5.083-8.707c-1.044-.116-1.488.091-1.681.297-.204.219-.359.679-.242 1.614.091.726.303 1.231.618 1.553.299.305.784.54 1.638.54.922 0 1.28-.198 1.442-.379.179-.2.308-.578.308-1.371 0-.765-.123-1.242-.37-1.554-.233-.296-.693-.587-1.713-.7Zm2.511 11.074c-1.393.776-3.272 1.428-5.43 1.428-4.562 0-7.873-2.914-7.998-3.749V9.338c.085-.628.677-1.686 1.588-2.065.013-.07.024-.143.036-.218.029-.183.06-.384.126-.612-.18-.455-.241-.963-.252-1.475L.31 4.107A.747.747 0 0 1 0 3.509V3.49a.748.748 0 0 1 .625-.73c.156-.026.306.047.435.139l14.667 10.578a.592.592 0 0 1 .227.264.752.752 0 0 1 .046.249v.022a.75.75 0 0 1-1.19.596Zm-1.367-.991L5.635 7.964a5.128 5.128 0 0 1-.889.073c-.652 0-1.236-.081-1.727-.291l-.023.116v4.255c.419.323 2.722 1.433 5.002 1.433 1.539 0 3.089-.505 4.063-.934Z"></path>
</svg>
</template>

<template id="workflow-icon">
  <svg aria-hidden="true" height="16" viewBox="0 0 16 16" version="1.1" width="16" data-view-component="true" class="octicon octicon-workflow">
    <path d="M0 1.75C0 .784.784 0 1.75 0h3.5C6.216 0 7 .784 7 1.75v3.5A1.75 1.75 0 0 1 5.25 7H4v4a1 1 0 0 0 1 1h4v-1.25C9 9.784 9.784 9 10.75 9h3.5c.966 0 1.75.784 1.75 1.75v3.5A1.75 1.75 0 0 1 14.25 16h-3.5A1.75 1.75 0 0 1 9 14.25v-.75H5A2.5 2.5 0 0 1 2.5 11V7h-.75A1.75 1.75 0 0 1 0 5.25Zm1.75-.25a.25.25 0 0 0-.25.25v3.5c0 .138.112.25.25.25h3.5a.25.25 0 0 0 .25-.25v-3.5a.25.25 0 0 0-.25-.25Zm9 9a.25.25 0 0 0-.25.25v3.5c0 .138.112.25.25.25h3.5a.25.25 0 0 0 .25-.25v-3.5a.25.25 0 0 0-.25-.25Z"></path>
</svg>
</template>

<template id="book-icon">
  <svg aria-hidden="true" height="16" viewBox="0 0 16 16" version="1.1" width="16" data-view-component="true" class="octicon octicon-book">
    <path d="M0 1.75A.75.75 0 0 1 .75 1h4.253c1.227 0 2.317.59 3 1.501A3.743 3.743 0 0 1 11.006 1h4.245a.75.75 0 0 1 .75.75v10.5a.75.75 0 0 1-.75.75h-4.507a2.25 2.25 0 0 0-1.591.659l-.622.621a.75.75 0 0 1-1.06 0l-.622-.621A2.25 2.25 0 0 0 5.258 13H.75a.75.75 0 0 1-.75-.75Zm7.251 10.324.004-5.073-.002-2.253A2.25 2.25 0 0 0 5.003 2.5H1.5v9h3.757a3.75 3.75 0 0 1 1.994.574ZM8.755 4.75l-.004 7.322a3.752 3.752 0 0 1 1.992-.572H14.5v-9h-3.495a2.25 2.25 0 0 0-2.25 2.25Z"></path>
</svg>
</template>

<template id="code-review-icon">
  <svg aria-hidden="true" height="16" viewBox="0 0 16 16" version="1.1" width="16" data-view-component="true" class="octicon octicon-code-review">
    <path d="M1.75 1h12.5c.966 0 1.75.784 1.75 1.75v8.5A1.75 1.75 0 0 1 14.25 13H8.061l-2.574 2.573A1.458 1.458 0 0 1 3 14.543V13H1.75A1.75 1.75 0 0 1 0 11.25v-8.5C0 1.784.784 1 1.75 1ZM1.5 2.75v8.5c0 .138.112.25.25.25h2a.75.75 0 0 1 .75.75v2.19l2.72-2.72a.749.749 0 0 1 .53-.22h6.5a.25.25 0 0 0 .25-.25v-8.5a.25.25 0 0 0-.25-.25H1.75a.25.25 0 0 0-.25.25Zm5.28 1.72a.75.75 0 0 1 0 1.06L5.31 7l1.47 1.47a.751.751 0 0 1-.018 1.042.751.751 0 0 1-1.042.018l-2-2a.75.75 0 0 1 0-1.06l2-2a.75.75 0 0 1 1.06 0Zm2.44 0a.75.75 0 0 1 1.06 0l2 2a.75.75 0 0 1 0 1.06l-2 2a.751.751 0 0 1-1.042-.018.751.751 0 0 1-.018-1.042L10.69 7 9.22 5.53a.75.75 0 0 1 0-1.06Z"></path>
</svg>
</template>

<template id="codespaces-icon">
  <svg aria-hidden="true" height="16" viewBox="0 0 16 16" version="1.1" width="16" data-view-component="true" class="octicon octicon-codespaces">
    <path d="M0 11.25c0-.966.784-1.75 1.75-1.75h12.5c.966 0 1.75.784 1.75 1.75v3A1.75 1.75 0 0 1 14.25 16H1.75A1.75 1.75 0 0 1 0 14.25Zm2-9.5C2 .784 2.784 0 3.75 0h8.5C13.216 0 14 .784 14 1.75v5a1.75 1.75 0 0 1-1.75 1.75h-8.5A1.75 1.75 0 0 1 2 6.75Zm1.75-.25a.25.25 0 0 0-.25.25v5c0 .138.112.25.25.25h8.5a.25.25 0 0 0 .25-.25v-5a.25.25 0 0 0-.25-.25Zm-2 9.5a.25.25 0 0 0-.25.25v3c0 .138.112.25.25.25h12.5a.25.25 0 0 0 .25-.25v-3a.25.25 0 0 0-.25-.25Z"></path><path d="M7 12.75a.75.75 0 0 1 .75-.75h4.5a.75.75 0 0 1 0 1.5h-4.5a.75.75 0 0 1-.75-.75Zm-4 0a.75.75 0 0 1 .75-.75h.5a.75.75 0 0 1 0 1.5h-.5a.75.75 0 0 1-.75-.75Z"></path>
</svg>
</template>

<template id="comment-icon">
  <svg aria-hidden="true" height="16" viewBox="0 0 16 16" version="1.1" width="16" data-view-component="true" class="octicon octicon-comment">
    <path d="M1 2.75C1 1.784 1.784 1 2.75 1h10.5c.966 0 1.75.784 1.75 1.75v7.5A1.75 1.75 0 0 1 13.25 12H9.06l-2.573 2.573A1.458 1.458 0 0 1 4 13.543V12H2.75A1.75 1.75 0 0 1 1 10.25Zm1.75-.25a.25.25 0 0 0-.25.25v7.5c0 .138.112.25.25.25h2a.75.75 0 0 1 .75.75v2.19l2.72-2.72a.749.749 0 0 1 .53-.22h4.5a.25.25 0 0 0 .25-.25v-7.5a.25.25 0 0 0-.25-.25Z"></path>
</svg>
</template>

<template id="comment-discussion-icon">
  <svg aria-hidden="true" height="16" viewBox="0 0 16 16" version="1.1" width="16" data-view-component="true" class="octicon octicon-comment-discussion">
    <path d="M1.75 1h8.5c.966 0 1.75.784 1.75 1.75v5.5A1.75 1.75 0 0 1 10.25 10H7.061l-2.574 2.573A1.458 1.458 0 0 1 2 11.543V10h-.25A1.75 1.75 0 0 1 0 8.25v-5.5C0 1.784.784 1 1.75 1ZM1.5 2.75v5.5c0 .138.112.25.25.25h1a.75.75 0 0 1 .75.75v2.19l2.72-2.72a.749.749 0 0 1 .53-.22h3.5a.25.25 0 0 0 .25-.25v-5.5a.25.25 0 0 0-.25-.25h-8.5a.25.25 0 0 0-.25.25Zm13 2a.25.25 0 0 0-.25-.25h-.5a.75.75 0 0 1 0-1.5h.5c.966 0 1.75.784 1.75 1.75v5.5A1.75 1.75 0 0 1 14.25 12H14v1.543a1.458 1.458 0 0 1-2.487 1.03L9.22 12.28a.749.749 0 0 1 .326-1.275.749.749 0 0 1 .734.215l2.22 2.22v-2.19a.75.75 0 0 1 .75-.75h1a.25.25 0 0 0 .25-.25Z"></path>
</svg>
</template>

<template id="organization-icon">
  <svg aria-hidden="true" height="16" viewBox="0 0 16 16" version="1.1" width="16" data-view-component="true" class="octicon octicon-organization">
    <path d="M1.75 16A1.75 1.75 0 0 1 0 14.25V1.75C0 .784.784 0 1.75 0h8.5C11.216 0 12 .784 12 1.75v12.5c0 .085-.006.168-.018.25h2.268a.25.25 0 0 0 .25-.25V8.285a.25.25 0 0 0-.111-.208l-1.055-.703a.749.749 0 1 1 .832-1.248l1.055.703c.487.325.779.871.779 1.456v5.965A1.75 1.75 0 0 1 14.25 16h-3.5a.766.766 0 0 1-.197-.026c-.099.017-.2.026-.303.026h-3a.75.75 0 0 1-.75-.75V14h-1v1.25a.75.75 0 0 1-.75.75Zm-.25-1.75c0 .138.112.25.25.25H4v-1.25a.75.75 0 0 1 .75-.75h2.5a.75.75 0 0 1 .75.75v1.25h2.25a.25.25 0 0 0 .25-.25V1.75a.25.25 0 0 0-.25-.25h-8.5a.25.25 0 0 0-.25.25ZM3.75 6h.5a.75.75 0 0 1 0 1.5h-.5a.75.75 0 0 1 0-1.5ZM3 3.75A.75.75 0 0 1 3.75 3h.5a.75.75 0 0 1 0 1.5h-.5A.75.75 0 0 1 3 3.75Zm4 3A.75.75 0 0 1 7.75 6h.5a.75.75 0 0 1 0 1.5h-.5A.75.75 0 0 1 7 6.75ZM7.75 3h.5a.75.75 0 0 1 0 1.5h-.5a.75.75 0 0 1 0-1.5ZM3 9.75A.75.75 0 0 1 3.75 9h.5a.75.75 0 0 1 0 1.5h-.5A.75.75 0 0 1 3 9.75ZM7.75 9h.5a.75.75 0 0 1 0 1.5h-.5a.75.75 0 0 1 0-1.5Z"></path>
</svg>
</template>

<template id="rocket-icon">
  <svg aria-hidden="true" height="16" viewBox="0 0 16 16" version="1.1" width="16" data-view-component="true" class="octicon octicon-rocket">
    <path d="M14.064 0h.186C15.216 0 16 .784 16 1.75v.186a8.752 8.752 0 0 1-2.564 6.186l-.458.459c-.314.314-.641.616-.979.904v3.207c0 .608-.315 1.172-.833 1.49l-2.774 1.707a.749.749 0 0 1-1.11-.418l-.954-3.102a1.214 1.214 0 0 1-.145-.125L3.754 9.816a1.218 1.218 0 0 1-.124-.145L.528 8.717a.749.749 0 0 1-.418-1.11l1.71-2.774A1.748 1.748 0 0 1 3.31 4h3.204c.288-.338.59-.665.904-.979l.459-.458A8.749 8.749 0 0 1 14.064 0ZM8.938 3.623h-.002l-.458.458c-.76.76-1.437 1.598-2.02 2.5l-1.5 2.317 2.143 2.143 2.317-1.5c.902-.583 1.74-1.26 2.499-2.02l.459-.458a7.25 7.25 0 0 0 2.123-5.127V1.75a.25.25 0 0 0-.25-.25h-.186a7.249 7.249 0 0 0-5.125 2.123ZM3.56 14.56c-.732.732-2.334 1.045-3.005 1.148a.234.234 0 0 1-.201-.064.234.234 0 0 1-.064-.201c.103-.671.416-2.273 1.15-3.003a1.502 1.502 0 1 1 2.12 2.12Zm6.94-3.935c-.088.06-.177.118-.266.175l-2.35 1.521.548 1.783 1.949-1.2a.25.25 0 0 0 .119-.213ZM3.678 8.116 5.2 5.766c.058-.09.117-.178.176-.266H3.309a.25.25 0 0 0-.213.119l-1.2 1.95ZM12 5a1 1 0 1 1-2 0 1 1 0 0 1 2 0Z"></path>
</svg>
</template>

<template id="shield-check-icon">
  <svg aria-hidden="true" height="16" viewBox="0 0 16 16" version="1.1" width="16" data-view-component="true" class="octicon octicon-shield-check">
    <path d="m8.533.133 5.25 1.68A1.75 1.75 0 0 1 15 3.48V7c0 1.566-.32 3.182-1.303 4.682-.983 1.498-2.585 2.813-5.032 3.855a1.697 1.697 0 0 1-1.33 0c-2.447-1.042-4.049-2.357-5.032-3.855C1.32 10.182 1 8.566 1 7V3.48a1.75 1.75 0 0 1 1.217-1.667l5.25-1.68a1.748 1.748 0 0 1 1.066 0Zm-.61 1.429.001.001-5.25 1.68a.251.251 0 0 0-.174.237V7c0 1.36.275 2.666 1.057 3.859.784 1.194 2.121 2.342 4.366 3.298a.196.196 0 0 0 .154 0c2.245-.957 3.582-2.103 4.366-3.297C13.225 9.666 13.5 8.358 13.5 7V3.48a.25.25 0 0 0-.174-.238l-5.25-1.68a.25.25 0 0 0-.153 0ZM11.28 6.28l-3.5 3.5a.75.75 0 0 1-1.06 0l-1.5-1.5a.749.749 0 0 1 .326-1.275.749.749 0 0 1 .734.215l.97.97 2.97-2.97a.751.751 0 0 1 1.042.018.751.751 0 0 1 .018 1.042Z"></path>
</svg>
</template>

<template id="heart-icon">
  <svg aria-hidden="true" height="16" viewBox="0 0 16 16" version="1.1" width="16" data-view-component="true" class="octicon octicon-heart">
    <path d="m8 14.25.345.666a.75.75 0 0 1-.69 0l-.008-.004-.018-.01a7.152 7.152 0 0 1-.31-.17 22.055 22.055 0 0 1-3.434-2.414C2.045 10.731 0 8.35 0 5.5 0 2.836 2.086 1 4.25 1 5.797 1 7.153 1.802 8 3.02 8.847 1.802 10.203 1 11.75 1 13.914 1 16 2.836 16 5.5c0 2.85-2.045 5.231-3.885 6.818a22.066 22.066 0 0 1-3.744 2.584l-.018.01-.006.003h-.002ZM4.25 2.5c-1.336 0-2.75 1.164-2.75 3 0 2.15 1.58 4.144 3.365 5.682A20.58 20.58 0 0 0 8 13.393a20.58 20.58 0 0 0 3.135-2.211C12.92 9.644 14.5 7.65 14.5 5.5c0-1.836-1.414-3-2.75-3-1.373 0-2.609.986-3.029 2.456a.749.749 0 0 1-1.442 0C6.859 3.486 5.623 2.5 4.25 2.5Z"></path>
</svg>
</template>

<template id="server-icon">
  <svg aria-hidden="true" height="16" viewBox="0 0 16 16" version="1.1" width="16" data-view-component="true" class="octicon octicon-server">
    <path d="M1.75 1h12.5c.966 0 1.75.784 1.75 1.75v4c0 .372-.116.717-.314 1 .198.283.314.628.314 1v4a1.75 1.75 0 0 1-1.75 1.75H1.75A1.75 1.75 0 0 1 0 12.75v-4c0-.358.109-.707.314-1a1.739 1.739 0 0 1-.314-1v-4C0 1.784.784 1 1.75 1ZM1.5 2.75v4c0 .138.112.25.25.25h12.5a.25.25 0 0 0 .25-.25v-4a.25.25 0 0 0-.25-.25H1.75a.25.25 0 0 0-.25.25Zm.25 5.75a.25.25 0 0 0-.25.25v4c0 .138.112.25.25.25h12.5a.25.25 0 0 0 .25-.25v-4a.25.25 0 0 0-.25-.25ZM7 4.75A.75.75 0 0 1 7.75 4h4.5a.75.75 0 0 1 0 1.5h-4.5A.75.75 0 0 1 7 4.75ZM7.75 10h4.5a.75.75 0 0 1 0 1.5h-4.5a.75.75 0 0 1 0-1.5ZM3 4.75A.75.75 0 0 1 3.75 4h.5a.75.75 0 0 1 0 1.5h-.5A.75.75 0 0 1 3 4.75ZM3.75 10h.5a.75.75 0 0 1 0 1.5h-.5a.75.75 0 0 1 0-1.5Z"></path>
</svg>
</template>

<template id="globe-icon">
  <svg aria-hidden="true" height="16" viewBox="0 0 16 16" version="1.1" width="16" data-view-component="true" class="octicon octicon-globe">
    <path d="M8 0a8 8 0 1 1 0 16A8 8 0 0 1 8 0ZM5.78 8.75a9.64 9.64 0 0 0 1.363 4.177c.255.426.542.832.857 1.215.245-.296.551-.705.857-1.215A9.64 9.64 0 0 0 10.22 8.75Zm4.44-1.5a9.64 9.64 0 0 0-1.363-4.177c-.307-.51-.612-.919-.857-1.215a9.927 9.927 0 0 0-.857 1.215A9.64 9.64 0 0 0 5.78 7.25Zm-5.944 1.5H1.543a6.507 6.507 0 0 0 4.666 5.5c-.123-.181-.24-.365-.352-.552-.715-1.192-1.437-2.874-1.581-4.948Zm-2.733-1.5h2.733c.144-2.074.866-3.756 1.58-4.948.12-.197.237-.381.353-.552a6.507 6.507 0 0 0-4.666 5.5Zm10.181 1.5c-.144 2.074-.866 3.756-1.58 4.948-.12.197-.237.381-.353.552a6.507 6.507 0 0 0 4.666-5.5Zm2.733-1.5a6.507 6.507 0 0 0-4.666-5.5c.123.181.24.365.353.552.714 1.192 1.436 2.874 1.58 4.948Z"></path>
</svg>
</template>

<template id="issue-opened-icon">
  <svg aria-hidden="true" height="16" viewBox="0 0 16 16" version="1.1" width="16" data-view-component="true" class="octicon octicon-issue-opened">
    <path d="M8 9.5a1.5 1.5 0 1 0 0-3 1.5 1.5 0 0 0 0 3Z"></path><path d="M8 0a8 8 0 1 1 0 16A8 8 0 0 1 8 0ZM1.5 8a6.5 6.5 0 1 0 13 0 6.5 6.5 0 0 0-13 0Z"></path>
</svg>
</template>

<template id="device-mobile-icon">
  <svg aria-hidden="true" height="16" viewBox="0 0 16 16" version="1.1" width="16" data-view-component="true" class="octicon octicon-device-mobile">
    <path d="M3.75 0h8.5C13.216 0 14 .784 14 1.75v12.5A1.75 1.75 0 0 1 12.25 16h-8.5A1.75 1.75 0 0 1 2 14.25V1.75C2 .784 2.784 0 3.75 0ZM3.5 1.75v12.5c0 .138.112.25.25.25h8.5a.25.25 0 0 0 .25-.25V1.75a.25.25 0 0 0-.25-.25h-8.5a.25.25 0 0 0-.25.25ZM8 13a1 1 0 1 1 0-2 1 1 0 0 1 0 2Z"></path>
</svg>
</template>

<template id="package-icon">
  <svg aria-hidden="true" height="16" viewBox="0 0 16 16" version="1.1" width="16" data-view-component="true" class="octicon octicon-package">
    <path d="m8.878.392 5.25 3.045c.54.314.872.89.872 1.514v6.098a1.75 1.75 0 0 1-.872 1.514l-5.25 3.045a1.75 1.75 0 0 1-1.756 0l-5.25-3.045A1.75 1.75 0 0 1 1 11.049V4.951c0-.624.332-1.201.872-1.514L7.122.392a1.75 1.75 0 0 1 1.756 0ZM7.875 1.69l-4.63 2.685L8 7.133l4.755-2.758-4.63-2.685a.248.248 0 0 0-.25 0ZM2.5 5.677v5.372c0 .09.047.171.125.216l4.625 2.683V8.432Zm6.25 8.271 4.625-2.683a.25.25 0 0 0 .125-.216V5.677L8.75 8.432Z"></path>
</svg>
</template>

<template id="credit-card-icon">
  <svg aria-hidden="true" height="16" viewBox="0 0 16 16" version="1.1" width="16" data-view-component="true" class="octicon octicon-credit-card">
    <path d="M10.75 9a.75.75 0 0 0 0 1.5h1.5a.75.75 0 0 0 0-1.5h-1.5Z"></path><path d="M0 3.75C0 2.784.784 2 1.75 2h12.5c.966 0 1.75.784 1.75 1.75v8.5A1.75 1.75 0 0 1 14.25 14H1.75A1.75 1.75 0 0 1 0 12.25ZM14.5 6.5h-13v5.75c0 .138.112.25.25.25h12.5a.25.25 0 0 0 .25-.25Zm0-2.75a.25.25 0 0 0-.25-.25H1.75a.25.25 0 0 0-.25.25V5h13Z"></path>
</svg>
</template>

<template id="play-icon">
  <svg aria-hidden="true" height="16" viewBox="0 0 16 16" version="1.1" width="16" data-view-component="true" class="octicon octicon-play">
    <path d="M8 0a8 8 0 1 1 0 16A8 8 0 0 1 8 0ZM1.5 8a6.5 6.5 0 1 0 13 0 6.5 6.5 0 0 0-13 0Zm4.879-2.773 4.264 2.559a.25.25 0 0 1 0 .428l-4.264 2.559A.25.25 0 0 1 6 10.559V5.442a.25.25 0 0 1 .379-.215Z"></path>
</svg>
</template>

<template id="gift-icon">
  <svg aria-hidden="true" height="16" viewBox="0 0 16 16" version="1.1" width="16" data-view-component="true" class="octicon octicon-gift">
    <path d="M2 2.75A2.75 2.75 0 0 1 4.75 0c.983 0 1.873.42 2.57 1.232.268.318.497.668.68 1.042.183-.375.411-.725.68-1.044C9.376.42 10.266 0 11.25 0a2.75 2.75 0 0 1 2.45 4h.55c.966 0 1.75.784 1.75 1.75v2c0 .698-.409 1.301-1 1.582v4.918A1.75 1.75 0 0 1 13.25 16H2.75A1.75 1.75 0 0 1 1 14.25V9.332C.409 9.05 0 8.448 0 7.75v-2C0 4.784.784 4 1.75 4h.55c-.192-.375-.3-.8-.3-1.25ZM7.25 9.5H2.5v4.75c0 .138.112.25.25.25h4.5Zm1.5 0v5h4.5a.25.25 0 0 0 .25-.25V9.5Zm0-4V8h5.5a.25.25 0 0 0 .25-.25v-2a.25.25 0 0 0-.25-.25Zm-7 0a.25.25 0 0 0-.25.25v2c0 .138.112.25.25.25h5.5V5.5h-5.5Zm3-4a1.25 1.25 0 0 0 0 2.5h2.309c-.233-.818-.542-1.401-.878-1.793-.43-.502-.915-.707-1.431-.707ZM8.941 4h2.309a1.25 1.25 0 0 0 0-2.5c-.516 0-1 .205-1.43.707-.337.392-.646.975-.879 1.793Z"></path>
</svg>
</template>

<template id="code-square-icon">
  <svg aria-hidden="true" height="16" viewBox="0 0 16 16" version="1.1" width="16" data-view-component="true" class="octicon octicon-code-square">
    <path d="M0 1.75C0 .784.784 0 1.75 0h12.5C15.216 0 16 .784 16 1.75v12.5A1.75 1.75 0 0 1 14.25 16H1.75A1.75 1.75 0 0 1 0 14.25Zm1.75-.25a.25.25 0 0 0-.25.25v12.5c0 .138.112.25.25.25h12.5a.25.25 0 0 0 .25-.25V1.75a.25.25 0 0 0-.25-.25Zm7.47 3.97a.75.75 0 0 1 1.06 0l2 2a.75.75 0 0 1 0 1.06l-2 2a.749.749 0 0 1-1.275-.326.749.749 0 0 1 .215-.734L10.69 8 9.22 6.53a.75.75 0 0 1 0-1.06ZM6.78 6.53 5.31 8l1.47 1.47a.749.749 0 0 1-.326 1.275.749.749 0 0 1-.734-.215l-2-2a.75.75 0 0 1 0-1.06l2-2a.751.751 0 0 1 1.042.018.751.751 0 0 1 .018 1.042Z"></path>
</svg>
</template>

<template id="device-desktop-icon">
  <svg aria-hidden="true" height="16" viewBox="0 0 16 16" version="1.1" width="16" data-view-component="true" class="octicon octicon-device-desktop">
    <path d="M14.25 1c.966 0 1.75.784 1.75 1.75v7.5A1.75 1.75 0 0 1 14.25 12h-3.727c.099 1.041.52 1.872 1.292 2.757A.752.752 0 0 1 11.25 16h-6.5a.75.75 0 0 1-.565-1.243c.772-.885 1.192-1.716 1.292-2.757H1.75A1.75 1.75 0 0 1 0 10.25v-7.5C0 1.784.784 1 1.75 1ZM1.75 2.5a.25.25 0 0 0-.25.25v7.5c0 .138.112.25.25.25h12.5a.25.25 0 0 0 .25-.25v-7.5a.25.25 0 0 0-.25-.25ZM9.018 12H6.982a5.72 5.72 0 0 1-.765 2.5h3.566a5.72 5.72 0 0 1-.765-2.5Z"></path>
</svg>
</template>

        <div class="position-relative">
                <ul
                  role="listbox"
                  class="ActionListWrap QueryBuilder-ListWrap"
                  aria-label="Suggestions"
                  data-action="
                    combobox-commit:query-builder#comboboxCommit
                    mousedown:query-builder#resultsMousedown
                  "
                  data-target="query-builder.resultsList"
                  data-persist-list=false
                  id="query-builder-test-results"
                ></ul>
        </div>
      <div class="FormControl-inlineValidation" id="validation-7ef32b47-24df-42b1-82c7-2094d67823aa" hidden="hidden">
        <span class="FormControl-inlineValidation--visual">
          <svg aria-hidden="true" height="12" viewBox="0 0 12 12" version="1.1" width="12" data-view-component="true" class="octicon octicon-alert-fill">
    <path d="M4.855.708c.5-.896 1.79-.896 2.29 0l4.675 8.351a1.312 1.312 0 0 1-1.146 1.954H1.33A1.313 1.313 0 0 1 .183 9.058ZM7 7V3H5v4Zm-1 3a1 1 0 1 0 0-2 1 1 0 0 0 0 2Z"></path>
</svg>
        </span>
        <span></span>
</div>    </div>
    <div data-target="query-builder.screenReaderFeedback" aria-live="polite" aria-atomic="true" class="sr-only"></div>
</query-builder></form>
          <div class="d-flex flex-row color-fg-muted px-3 text-small color-bg-default search-feedback-prompt">
            <a target="_blank" href="https://docs.github.com/search-github/github-code-search/understanding-github-code-search-syntax" data-view-component="true" class="Link color-fg-accent text-normal ml-2">Search syntax tips</a>            <div class="d-flex flex-1"></div>
              <button data-action="click:qbsearch-input#showFeedbackDialog" type="button" data-view-component="true" class="Button--link Button--medium Button color-fg-accent text-normal ml-2">  <span class="Button-content">
    <span class="Button-label">Give feedback</span>
  </span>
</button>
          </div>
        </div>
</div>

    </div>
</modal-dialog></div>
  </div>
  <div data-action="click:qbsearch-input#retract" class="dark-backdrop position-fixed" hidden data-target="qbsearch-input.darkBackdrop"></div>
  <div class="color-fg-default">
    
<dialog-helper>
  <dialog data-target="qbsearch-input.feedbackDialog" data-action="close:qbsearch-input#handleDialogClose cancel:qbsearch-input#handleDialogClose" id="feedback-dialog" aria-modal="true" aria-labelledby="feedback-dialog-title" aria-describedby="feedback-dialog-description" data-view-component="true" class="Overlay Overlay-whenNarrow Overlay--size-medium Overlay--motion-scaleFade Overlay--disableScroll">
    <div data-view-component="true" class="Overlay-header">
  <div class="Overlay-headerContentWrap">
    <div class="Overlay-titleWrap">
      <h1 class="Overlay-title " id="feedback-dialog-title">
        Provide feedback
      </h1>
        
    </div>
    <div class="Overlay-actionWrap">
      <button data-close-dialog-id="feedback-dialog" aria-label="Close" type="button" data-view-component="true" class="close-button Overlay-closeButton"><svg aria-hidden="true" height="16" viewBox="0 0 16 16" version="1.1" width="16" data-view-component="true" class="octicon octicon-x">
    <path d="M3.72 3.72a.75.75 0 0 1 1.06 0L8 6.94l3.22-3.22a.749.749 0 0 1 1.275.326.749.749 0 0 1-.215.734L9.06 8l3.22 3.22a.749.749 0 0 1-.326 1.275.749.749 0 0 1-.734-.215L8 9.06l-3.22 3.22a.751.751 0 0 1-1.042-.018.751.751 0 0 1-.018-1.042L6.94 8 3.72 4.78a.75.75 0 0 1 0-1.06Z"></path>
</svg></button>
    </div>
  </div>
  
</div>
      <scrollable-region data-labelled-by="feedback-dialog-title">
        <div data-view-component="true" class="Overlay-body">        <!-- '"` --><!-- </textarea></xmp> --></option></form><form id="code-search-feedback-form" data-turbo="false" action="/search/feedback" accept-charset="UTF-8" method="post"><input type="hidden" name="authenticity_token" value="V5JHY6oZl31o_Vk-Jn2VaxoY1lrmu8sLBW1_20kgga9XsfTSj6zyWhai7EocXGf6L2hHcBZ67WgeZoVYPDTQiw" />
          <p>We read every piece of feedback, and take your input very seriously.</p>
          <textarea name="feedback" class="form-control width-full mb-2" style="height: 120px" id="feedback"></textarea>
          <input name="include_email" id="include_email" aria-label="Include my email address so I can be contacted" class="form-control mr-2" type="checkbox">
          <label for="include_email" style="font-weight: normal">Include my email address so I can be contacted</label>
</form></div>
      </scrollable-region>
      <div data-view-component="true" class="Overlay-footer Overlay-footer--alignEnd">          <button data-close-dialog-id="feedback-dialog" type="button" data-view-component="true" class="btn">    Cancel
</button>
          <button form="code-search-feedback-form" data-action="click:qbsearch-input#submitFeedback" type="submit" data-view-component="true" class="btn-primary btn">    Submit feedback
</button>
</div>
</dialog></dialog-helper>

    <custom-scopes data-target="qbsearch-input.customScopesManager">
    
<dialog-helper>
  <dialog data-target="custom-scopes.customScopesModalDialog" data-action="close:qbsearch-input#handleDialogClose cancel:qbsearch-input#handleDialogClose" id="custom-scopes-dialog" aria-modal="true" aria-labelledby="custom-scopes-dialog-title" aria-describedby="custom-scopes-dialog-description" data-view-component="true" class="Overlay Overlay-whenNarrow Overlay--size-medium Overlay--motion-scaleFade Overlay--disableScroll">
    <div data-view-component="true" class="Overlay-header Overlay-header--divided">
  <div class="Overlay-headerContentWrap">
    <div class="Overlay-titleWrap">
      <h1 class="Overlay-title " id="custom-scopes-dialog-title">
        Saved searches
      </h1>
        <h2 id="custom-scopes-dialog-description" class="Overlay-description">Use saved searches to filter your results more quickly</h2>
    </div>
    <div class="Overlay-actionWrap">
      <button data-close-dialog-id="custom-scopes-dialog" aria-label="Close" type="button" data-view-component="true" class="close-button Overlay-closeButton"><svg aria-hidden="true" height="16" viewBox="0 0 16 16" version="1.1" width="16" data-view-component="true" class="octicon octicon-x">
    <path d="M3.72 3.72a.75.75 0 0 1 1.06 0L8 6.94l3.22-3.22a.749.749 0 0 1 1.275.326.749.749 0 0 1-.215.734L9.06 8l3.22 3.22a.749.749 0 0 1-.326 1.275.749.749 0 0 1-.734-.215L8 9.06l-3.22 3.22a.751.751 0 0 1-1.042-.018.751.751 0 0 1-.018-1.042L6.94 8 3.72 4.78a.75.75 0 0 1 0-1.06Z"></path>
</svg></button>
    </div>
  </div>
  
</div>
      <scrollable-region data-labelled-by="custom-scopes-dialog-title">
        <div data-view-component="true" class="Overlay-body">        <div data-target="custom-scopes.customScopesModalDialogFlash"></div>

        <div hidden class="create-custom-scope-form" data-target="custom-scopes.createCustomScopeForm">
        <!-- '"` --><!-- </textarea></xmp> --></option></form><form id="custom-scopes-dialog-form" data-turbo="false" action="/search/custom_scopes" accept-charset="UTF-8" method="post"><input type="hidden" name="authenticity_token" value="1hv7wBI0BT2cTqJXBFmARX48lSGdcvgzG2b8JSXDwUiG-VaHL-AVpGiBve1haghmpdzdu0xYAiwK-hbCCbQt2g" />
          <div data-target="custom-scopes.customScopesModalDialogFlash"></div>

          <input type="hidden" id="custom_scope_id" name="custom_scope_id" data-target="custom-scopes.customScopesIdField">

          <div class="form-group">
            <label for="custom_scope_name">Name</label>
            <auto-check src="/search/custom_scopes/check_name" required only-validate-on-blur="false">
              <input
                type="text"
                name="custom_scope_name"
                id="custom_scope_name"
                data-target="custom-scopes.customScopesNameField"
                class="form-control"
                autocomplete="off"
                placeholder="github-ruby"
                required
                maxlength="50">
              <input type="hidden" value="E6wVAe6-i2foMQZPd4eQ5AxPhBvRs7C-312laCq-sB1TkYwZMCFV9dQHXIl33c9_8MM9yJBVVyeqUU3AVrH5yw" data-csrf="true" />
            </auto-check>
          </div>

          <div class="form-group">
            <label for="custom_scope_query">Query</label>
            <input
              type="text"
              name="custom_scope_query"
              id="custom_scope_query"
              data-target="custom-scopes.customScopesQueryField"
              class="form-control"
              autocomplete="off"
              placeholder="(repo:mona/a OR repo:mona/b) AND lang:python"
              required
              maxlength="500">
          </div>

          <p class="text-small color-fg-muted">
            To see all available qualifiers, see our <a class="Link--inTextBlock" href="https://docs.github.com/search-github/github-code-search/understanding-github-code-search-syntax">documentation</a>.
          </p>
</form>        </div>

        <div data-target="custom-scopes.manageCustomScopesForm">
          <div data-target="custom-scopes.list"></div>
        </div>

</div>
      </scrollable-region>
      <div data-view-component="true" class="Overlay-footer Overlay-footer--alignEnd Overlay-footer--divided">          <button data-action="click:custom-scopes#customScopesCancel" type="button" data-view-component="true" class="btn">    Cancel
</button>
          <button form="custom-scopes-dialog-form" data-action="click:custom-scopes#customScopesSubmit" data-target="custom-scopes.customScopesSubmitButton" type="submit" data-view-component="true" class="btn-primary btn">    Create saved search
</button>
</div>
</dialog></dialog-helper>
    </custom-scopes>
  </div>
</qbsearch-input>  <input type="hidden" value="UiCqZW9aUVKW0vYvPDPhg5JYwjihlAoMeMTAIF3yKzM66bbrX17d-WTyvyzXJkGnbrzylRbE1HpTGbOAtyWH2w" data-csrf="true" class="js-data-jump-to-suggestions-path-csrf" />


          </div>

        
          <div class="AppHeader-CopilotChat">
    <react-partial-anchor>
      <button id="copilot-chat-header-button" data-target="react-partial-anchor.anchor" data-hotkey="Shift+C" aria-expanded="false" aria-controls="copilot-chat-panel" aria-labelledby="tooltip-0ab1362e-b24a-40e8-8ae3-ff114148c34d" type="button" disabled="disabled" data-view-component="true" class="Button Button--iconOnly Button--secondary Button--medium AppHeader-button AppHeader-buttonLeft cursor-wait">  <svg aria-hidden="true" height="16" viewBox="0 0 16 16" version="1.1" width="16" data-view-component="true" class="octicon octicon-copilot Button-visual">
    <path d="M7.998 15.035c-4.562 0-7.873-2.914-7.998-3.749V9.338c.085-.628.677-1.686 1.588-2.065.013-.07.024-.143.036-.218.029-.183.06-.384.126-.612-.201-.508-.254-1.084-.254-1.656 0-.87.128-1.769.693-2.484.579-.733 1.494-1.124 2.724-1.261 1.206-.134 2.262.034 2.944.765.05.053.096.108.139.165.044-.057.094-.112.143-.165.682-.731 1.738-.899 2.944-.765 1.23.137 2.145.528 2.724 1.261.566.715.693 1.614.693 2.484 0 .572-.053 1.148-.254 1.656.066.228.098.429.126.612.012.076.024.148.037.218.924.385 1.522 1.471 1.591 2.095v1.872c0 .766-3.351 3.795-8.002 3.795Zm0-1.485c2.28 0 4.584-1.11 5.002-1.433V7.862l-.023-.116c-.49.21-1.075.291-1.727.291-1.146 0-2.059-.327-2.71-.991A3.222 3.222 0 0 1 8 6.303a3.24 3.24 0 0 1-.544.743c-.65.664-1.563.991-2.71.991-.652 0-1.236-.081-1.727-.291l-.023.116v4.255c.419.323 2.722 1.433 5.002 1.433ZM6.762 2.83c-.193-.206-.637-.413-1.682-.297-1.019.113-1.479.404-1.713.7-.247.312-.369.789-.369 1.554 0 .793.129 1.171.308 1.371.162.181.519.379 1.442.379.853 0 1.339-.235 1.638-.54.315-.322.527-.827.617-1.553.117-.935-.037-1.395-.241-1.614Zm4.155-.297c-1.044-.116-1.488.091-1.681.297-.204.219-.359.679-.242 1.614.091.726.303 1.231.618 1.553.299.305.784.54 1.638.54.922 0 1.28-.198 1.442-.379.179-.2.308-.578.308-1.371 0-.765-.123-1.242-.37-1.554-.233-.296-.693-.587-1.713-.7Z"></path><path d="M6.25 9.037a.75.75 0 0 1 .75.75v1.501a.75.75 0 0 1-1.5 0V9.787a.75.75 0 0 1 .75-.75Zm4.25.75v1.501a.75.75 0 0 1-1.5 0V9.787a.75.75 0 0 1 1.5 0Z"></path>
</svg>
</button><tool-tip id="tooltip-0ab1362e-b24a-40e8-8ae3-ff114148c34d" for="copilot-chat-header-button" popover="manual" data-direction="s" data-type="label" data-view-component="true" class="sr-only position-absolute">Chat with Copilot</tool-tip>

      <template data-target="react-partial-anchor.template">
        <script crossorigin="anonymous" defer="defer" type="application/javascript" src="https://github.githubassets.com/assets/vendors-node_modules_react-relay_index_js-3e4c69718bad.js"></script>
<script crossorigin="anonymous" defer="defer" type="application/javascript" src="https://github.githubassets.com/assets/vendors-node_modules_tanstack_query-core_build_modern_queryObserver_js-node_modules_tanstack_-defd52-843b41414e0e.js"></script>
<script crossorigin="anonymous" defer="defer" type="application/javascript" src="https://github.githubassets.com/assets/vendors-node_modules_remark-gfm_lib_index_js-node_modules_remark-parse_lib_index_js-node_modu-44d0fc-3771aaaad894.js"></script>
<script crossorigin="anonymous" defer="defer" type="application/javascript" src="https://github.githubassets.com/assets/vendors-node_modules_react-markdown_lib_index_js-2816acae350e.js"></script>
<script crossorigin="anonymous" defer="defer" type="application/javascript" src="https://github.githubassets.com/assets/vendors-node_modules_tanstack_react-query_build_modern_useQuery_js-node_modules_hast-util-fin-92e435-bc2e428f67a9.js"></script>
<script crossorigin="anonymous" defer="defer" type="application/javascript" src="https://github.githubassets.com/assets/vendors-node_modules_github_mini-throttle_dist_decorators_js-node_modules_accname_dist_access-b37425-35bd8d94d981.js"></script>
<script crossorigin="anonymous" defer="defer" type="application/javascript" src="https://github.githubassets.com/assets/vendors-node_modules_github_combobox-nav_dist_index_js-node_modules_github_hotkey_dist_index_-2c4211-a3b6ffd98cc6.js"></script>
<script crossorigin="anonymous" defer="defer" type="application/javascript" src="https://github.githubassets.com/assets/ui_packages_item-picker_constants_labels_ts-ui_packages_item-picker_constants_values_ts-ui_pa-163a9a-86a873dd8971.js"></script>
<script crossorigin="anonymous" defer="defer" type="application/javascript" src="https://github.githubassets.com/assets/ui_packages_item-picker_components_RepositoryPicker_tsx-fed97f53635f.js"></script>
<script crossorigin="anonymous" defer="defer" type="application/javascript" src="https://github.githubassets.com/assets/ui_packages_copilot-chat_utils_copilot-local-storage_ts-ui_packages_hydro-analytics_hydro-ana-74ad7c-babcad2daf9d.js"></script>
<script crossorigin="anonymous" defer="defer" type="application/javascript" src="https://github.githubassets.com/assets/ui_packages_copilot-chat_utils_copilot-chat-hooks_ts-ui_packages_issue-viewer_utils_queries_ts-e12df7233292.js"></script>
<script crossorigin="anonymous" defer="defer" type="application/javascript" src="https://github.githubassets.com/assets/ui_packages_test-id-props_test-id-props_ts-ui_packages_copilot-markdown_MarkdownRenderer_tsx--cd0d45-16709ea47eec.js"></script>
<script crossorigin="anonymous" defer="defer" type="application/javascript" src="https://github.githubassets.com/assets/copilot-chat-9a90c0d2d215.js"></script>
<link crossorigin="anonymous" media="all" rel="stylesheet" href="https://github.githubassets.com/assets/primer-react.47bf29cd6753fae14b22.module.css" />
<link crossorigin="anonymous" media="all" rel="stylesheet" href="https://github.githubassets.com/assets/copilot-chat.e5e6d99a552bfb0c4ca8.module.css" />
        <link crossorigin="anonymous" media="all" rel="stylesheet" href="https://github.githubassets.com/assets/copilot-markdown-rendering-f6845e8f5d6b.css" />
        <include-fragment src="/github-copilot/chat?skip_anchor=true"></include-fragment>
      </template>
    </react-partial-anchor>
    <react-partial-anchor>
      <button id="global-copilot-menu-button" data-target="react-partial-anchor.anchor" aria-expanded="false" aria-labelledby="tooltip-f43f8cf5-eaf4-4b8c-bffd-526a96af65a5" type="button" data-view-component="true" class="Button Button--iconOnly Button--secondary Button--medium AppHeader-button AppHeader-buttonRight">  <svg aria-hidden="true" height="16" viewBox="0 0 16 16" version="1.1" width="16" data-view-component="true" class="octicon octicon-triangle-down Button-visual">
    <path d="m4.427 7.427 3.396 3.396a.25.25 0 0 0 .354 0l3.396-3.396A.25.25 0 0 0 11.396 7H4.604a.25.25 0 0 0-.177.427Z"></path>
</svg>
</button><tool-tip id="tooltip-f43f8cf5-eaf4-4b8c-bffd-526a96af65a5" for="global-copilot-menu-button" popover="manual" data-direction="s" data-type="label" data-view-component="true" class="sr-only position-absolute">Open Copilot…</tool-tip>

      <template data-target="react-partial-anchor.template">
        <script crossorigin="anonymous" defer="defer" type="application/javascript" src="https://github.githubassets.com/assets/global-copilot-menu-aa85031b9397.js"></script>
<link crossorigin="anonymous" media="all" rel="stylesheet" href="https://github.githubassets.com/assets/primer-react.47bf29cd6753fae14b22.module.css" />

<react-partial
  partial-name="global-copilot-menu"
  data-ssr="false"
  data-attempted-ssr="false"
>
  
  <script type="application/json" data-target="react-partial.embeddedData">{"props":{}}</script>
  <div data-target="react-partial.reactRoot"></div>
</react-partial>

      </template>
    </react-partial-anchor>
</div>


        <div class="AppHeader-actions position-relative">
             <react-partial-anchor>
      <button id="global-create-menu-anchor" aria-label="Create something new" data-target="react-partial-anchor.anchor" type="button" disabled="disabled" data-view-component="true" class="AppHeader-button global-create-button cursor-wait Button--secondary Button--medium Button width-auto color-fg-muted">  <span class="Button-content">
      <span class="Button-visual Button-leadingVisual">
        <svg aria-hidden="true" height="16" viewBox="0 0 16 16" version="1.1" width="16" data-view-component="true" class="octicon octicon-plus">
    <path d="M7.75 2a.75.75 0 0 1 .75.75V7h4.25a.75.75 0 0 1 0 1.5H8.5v4.25a.75.75 0 0 1-1.5 0V8.5H2.75a.75.75 0 0 1 0-1.5H7V2.75A.75.75 0 0 1 7.75 2Z"></path>
</svg>
      </span>
    <span class="Button-label"><svg aria-hidden="true" height="16" viewBox="0 0 16 16" version="1.1" width="16" data-view-component="true" class="octicon octicon-triangle-down">
    <path d="m4.427 7.427 3.396 3.396a.25.25 0 0 0 .354 0l3.396-3.396A.25.25 0 0 0 11.396 7H4.604a.25.25 0 0 0-.177.427Z"></path>
</svg></span>
  </span>
</button><tool-tip id="tooltip-e1221d52-d05d-4bb8-94db-9466781b96b9" for="global-create-menu-anchor" popover="manual" data-direction="s" data-type="description" data-view-component="true" class="sr-only position-absolute">Create new...</tool-tip>

      <template data-target="react-partial-anchor.template">
        <script crossorigin="anonymous" defer="defer" type="application/javascript" src="https://github.githubassets.com/assets/ui_packages_promise-with-resolvers-polyfill_promise-with-resolvers-polyfill_ts-ui_packages_re-8d43b0-ae8dde838777.js"></script>
<script crossorigin="anonymous" defer="defer" type="application/javascript" src="https://github.githubassets.com/assets/global-create-menu-7510a0ee7657.js"></script>
<link crossorigin="anonymous" media="all" rel="stylesheet" href="https://github.githubassets.com/assets/primer-react.47bf29cd6753fae14b22.module.css" />

<react-partial
  partial-name="global-create-menu"
  data-ssr="false"
  data-attempted-ssr="false"
>
  
  <script type="application/json" data-target="react-partial.embeddedData">{"props":{"createRepo":true,"importRepo":true,"codespaces":true,"gist":true,"createOrg":true,"createProject":false,"createProjectUrl":"/DMCunius?tab=projects","createLegacyProject":false,"createIssue":false,"org":null,"owner":"afish1110","repo":"SAL-603-Final-Project"}}</script>
  <div data-target="react-partial.reactRoot"></div>
</react-partial>

      </template>
    </react-partial-anchor>


          <a href="/issues" data-analytics-event="{&quot;category&quot;:&quot;Global navigation&quot;,&quot;action&quot;:&quot;ISSUES_HEADER&quot;,&quot;label&quot;:null}" id="icon-button-c3fc8e28-4788-4825-92d1-30eb0b66cc4d" aria-labelledby="tooltip-aa190981-d94d-4ea5-b85f-c79d8db7a867" data-view-component="true" class="Button Button--iconOnly Button--secondary Button--medium AppHeader-button color-fg-muted">  <svg aria-hidden="true" height="16" viewBox="0 0 16 16" version="1.1" width="16" data-view-component="true" class="octicon octicon-issue-opened Button-visual">
    <path d="M8 9.5a1.5 1.5 0 1 0 0-3 1.5 1.5 0 0 0 0 3Z"></path><path d="M8 0a8 8 0 1 1 0 16A8 8 0 0 1 8 0ZM1.5 8a6.5 6.5 0 1 0 13 0 6.5 6.5 0 0 0-13 0Z"></path>
</svg>
</a><tool-tip id="tooltip-aa190981-d94d-4ea5-b85f-c79d8db7a867" for="icon-button-c3fc8e28-4788-4825-92d1-30eb0b66cc4d" popover="manual" data-direction="s" data-type="label" data-view-component="true" class="sr-only position-absolute">Your issues</tool-tip>

          <a href="/pulls" data-analytics-event="{&quot;category&quot;:&quot;Global navigation&quot;,&quot;action&quot;:&quot;PULL_REQUESTS_HEADER&quot;,&quot;label&quot;:null}" id="icon-button-1c634794-de3b-4f58-abc9-c92c98ee9f8b" aria-labelledby="tooltip-ca32da45-0c98-4701-9c4f-9ff8f01b342f" data-view-component="true" class="Button Button--iconOnly Button--secondary Button--medium AppHeader-button color-fg-muted">  <svg aria-hidden="true" height="16" viewBox="0 0 16 16" version="1.1" width="16" data-view-component="true" class="octicon octicon-git-pull-request Button-visual">
    <path d="M1.5 3.25a2.25 2.25 0 1 1 3 2.122v5.256a2.251 2.251 0 1 1-1.5 0V5.372A2.25 2.25 0 0 1 1.5 3.25Zm5.677-.177L9.573.677A.25.25 0 0 1 10 .854V2.5h1A2.5 2.5 0 0 1 13.5 5v5.628a2.251 2.251 0 1 1-1.5 0V5a1 1 0 0 0-1-1h-1v1.646a.25.25 0 0 1-.427.177L7.177 3.427a.25.25 0 0 1 0-.354ZM3.75 2.5a.75.75 0 1 0 0 1.5.75.75 0 0 0 0-1.5Zm0 9.5a.75.75 0 1 0 0 1.5.75.75 0 0 0 0-1.5Zm8.25.75a.75.75 0 1 0 1.5 0 .75.75 0 0 0-1.5 0Z"></path>
</svg>
</a><tool-tip id="tooltip-ca32da45-0c98-4701-9c4f-9ff8f01b342f" for="icon-button-1c634794-de3b-4f58-abc9-c92c98ee9f8b" popover="manual" data-direction="s" data-type="label" data-view-component="true" class="sr-only position-absolute">Your pull requests</tool-tip>

        </div>

        <notification-indicator data-channel="eyJjIjoibm90aWZpY2F0aW9uLWNoYW5nZWQ6MTk3Nzg0NzUxIiwidCI6MTc0MTMwNDE3OH0=--b7ccdc97294f960f546c453315463ac56912cfa0e100bd5b4d7fc9bcbfa7359c" data-indicator-mode="none" data-tooltip-global="You have unread notifications" data-tooltip-unavailable="Notifications are unavailable at the moment." data-tooltip-none="You have no unread notifications" data-header-redesign-enabled="true" data-fetch-indicator-src="/notifications/indicator" data-fetch-indicator-enabled="true" data-view-component="true" class="js-socket-channel">
    <a id="AppHeader-notifications-button" href="/notifications" aria-labelledby="notification-indicator-tooltip" data-hotkey="g n" data-target="notification-indicator.link" data-analytics-event="{&quot;category&quot;:&quot;Global navigation&quot;,&quot;action&quot;:&quot;NOTIFICATIONS_HEADER&quot;,&quot;label&quot;:null}" data-view-component="true" class="Button Button--iconOnly Button--secondary Button--medium AppHeader-button  color-fg-muted">  <svg aria-hidden="true" height="16" viewBox="0 0 16 16" version="1.1" width="16" data-view-component="true" class="octicon octicon-inbox Button-visual">
    <path d="M2.8 2.06A1.75 1.75 0 0 1 4.41 1h7.18c.7 0 1.333.417 1.61 1.06l2.74 6.395c.04.093.06.194.06.295v4.5A1.75 1.75 0 0 1 14.25 15H1.75A1.75 1.75 0 0 1 0 13.25v-4.5c0-.101.02-.202.06-.295Zm1.61.44a.25.25 0 0 0-.23.152L1.887 8H4.75a.75.75 0 0 1 .6.3L6.625 10h2.75l1.275-1.7a.75.75 0 0 1 .6-.3h2.863L11.82 2.652a.25.25 0 0 0-.23-.152Zm10.09 7h-2.875l-1.275 1.7a.75.75 0 0 1-.6.3h-3.5a.75.75 0 0 1-.6-.3L4.375 9.5H1.5v3.75c0 .138.112.25.25.25h12.5a.25.25 0 0 0 .25-.25Z"></path>
</svg>
</a>

    <tool-tip id="notification-indicator-tooltip" data-target="notification-indicator.tooltip" for="AppHeader-notifications-button" popover="manual" data-direction="s" data-type="label" data-view-component="true" class="sr-only position-absolute">Notifications</tool-tip>
</notification-indicator>

        <div class="AppHeader-user">
          <deferred-side-panel data-url="/_side-panels/user?repository_id=928035797">
  <include-fragment data-target="deferred-side-panel.fragment">
    <react-partial-anchor
  
>
  <button data-target="react-partial-anchor.anchor" data-login="DMCunius" aria-label="Open user navigation menu" type="button" data-view-component="true" class="cursor-wait Button--invisible Button--medium Button Button--invisible-noVisuals color-bg-transparent p-0">  <span class="Button-content">
    <span class="Button-label"><img src="https://avatars.githubusercontent.com/u/197784751?v=4" alt="" size="32" height="32" width="32" data-view-component="true" class="avatar circle" /></span>
  </span>
</button>
  <template data-target="react-partial-anchor.template">
    <script crossorigin="anonymous" defer="defer" type="application/javascript" src="https://github.githubassets.com/assets/global-user-nav-drawer-487d63bb6986.js"></script>
<link crossorigin="anonymous" media="all" rel="stylesheet" href="https://github.githubassets.com/assets/primer-react.47bf29cd6753fae14b22.module.css" />
<link crossorigin="anonymous" media="all" rel="stylesheet" href="https://github.githubassets.com/assets/global-user-nav-drawer.830d6c10c9fea7fc134e.module.css" />

<react-partial
  partial-name="global-user-nav-drawer"
  data-ssr="false"
  data-attempted-ssr="false"
>
  
  <script type="application/json" data-target="react-partial.embeddedData">{"props":{"owner":{"login":"DMCunius","name":null,"avatarUrl":"https://avatars.githubusercontent.com/u/197784751?v=4"},"drawerId":"global-user-nav-drawer","lazyLoadItemDataFetchUrl":"/_side-panels/user.json","canAddAccount":true,"addAccountPath":"/login?add_account=1\u0026return_to=https%3A%2F%2Fgithub.com%2Fafish1110%2FSAL-603-Final-Project%2Fblob%2Fmain%2FSAL603_FinalProject-Andrew%2520Fish.ipynb","switchAccountPath":"/switch_account","loginAccountPath":"/login?add_account=1","projectsPath":"/DMCunius?tab=projects","gistsUrl":"https://gist.github.com/mine","docsUrl":"https://docs.github.com","yourEnterpriseUrl":null,"enterpriseSettingsUrl":null,"supportUrl":"https://support.github.com","showAccountSwitcher":true,"showCopilot":true,"showEnterprises":true,"showEnterprise":false,"showGists":true,"showOrganizations":true,"showSponsors":true,"showUpgrade":true,"showFeaturesPreviews":true,"showEnterpriseSettings":false,"createMenuProps":{"createRepo":true,"importRepo":true,"codespaces":true,"gist":true,"createOrg":true,"createProject":false,"createProjectUrl":"/DMCunius?tab=projects","createLegacyProject":false,"createIssue":false,"org":null,"owner":"afish1110","repo":"SAL-603-Final-Project"}}}</script>
  <div data-target="react-partial.reactRoot"></div>
</react-partial>

  </template>
</react-partial-anchor>

  </include-fragment>
</deferred-side-panel>
        </div>

        <div class="position-absolute mt-2">
            
<site-header-logged-in-user-menu>

</site-header-logged-in-user-menu>

        </div>
      </div>
    </div>


    
        <div class="AppHeader-localBar" >
          <nav data-pjax="#js-repo-pjax-container" aria-label="Repository" data-view-component="true" class="js-repo-nav js-sidenav-container-pjax js-responsive-underlinenav overflow-hidden UnderlineNav">

  <ul data-view-component="true" class="UnderlineNav-body list-style-none">
      <li data-view-component="true" class="d-inline-flex">
  <a id="code-tab" href="/afish1110/SAL-603-Final-Project" data-tab-item="i0code-tab" data-selected-links="repo_source repo_downloads repo_commits repo_releases repo_tags repo_branches repo_packages repo_deployments repo_attestations /afish1110/SAL-603-Final-Project" data-pjax="#repo-content-pjax-container" data-turbo-frame="repo-content-turbo-frame" data-hotkey="g c" data-analytics-event="{&quot;category&quot;:&quot;Underline navbar&quot;,&quot;action&quot;:&quot;Click tab&quot;,&quot;label&quot;:&quot;Code&quot;,&quot;target&quot;:&quot;UNDERLINE_NAV.TAB&quot;}" data-view-component="true" class="UnderlineNav-item no-wrap js-responsive-underlinenav-item js-selected-navigation-item">
    
              <svg aria-hidden="true" height="16" viewBox="0 0 16 16" version="1.1" width="16" data-view-component="true" class="octicon octicon-code UnderlineNav-octicon d-none d-sm-inline">
    <path d="m11.28 3.22 4.25 4.25a.75.75 0 0 1 0 1.06l-4.25 4.25a.749.749 0 0 1-1.275-.326.749.749 0 0 1 .215-.734L13.94 8l-3.72-3.72a.749.749 0 0 1 .326-1.275.749.749 0 0 1 .734.215Zm-6.56 0a.751.751 0 0 1 1.042.018.751.751 0 0 1 .018 1.042L2.06 8l3.72 3.72a.749.749 0 0 1-.326 1.275.749.749 0 0 1-.734-.215L.47 8.53a.75.75 0 0 1 0-1.06Z"></path>
</svg>
        <span data-content="Code">Code</span>
          <span id="code-repo-tab-count" data-pjax-replace="" data-turbo-replace="" title="Not available" data-view-component="true" class="Counter"></span>


    
</a></li>
      <li data-view-component="true" class="d-inline-flex">
  <a id="issues-tab" href="/afish1110/SAL-603-Final-Project/issues" data-tab-item="i1issues-tab" data-selected-links="repo_issues repo_labels repo_milestones /afish1110/SAL-603-Final-Project/issues" data-pjax="#repo-content-pjax-container" data-turbo-frame="repo-content-turbo-frame" data-hotkey="g i" data-analytics-event="{&quot;category&quot;:&quot;Underline navbar&quot;,&quot;action&quot;:&quot;Click tab&quot;,&quot;label&quot;:&quot;Issues&quot;,&quot;target&quot;:&quot;UNDERLINE_NAV.TAB&quot;}" data-view-component="true" class="UnderlineNav-item no-wrap js-responsive-underlinenav-item js-selected-navigation-item">
    
              <svg aria-hidden="true" height="16" viewBox="0 0 16 16" version="1.1" width="16" data-view-component="true" class="octicon octicon-issue-opened UnderlineNav-octicon d-none d-sm-inline">
    <path d="M8 9.5a1.5 1.5 0 1 0 0-3 1.5 1.5 0 0 0 0 3Z"></path><path d="M8 0a8 8 0 1 1 0 16A8 8 0 0 1 8 0ZM1.5 8a6.5 6.5 0 1 0 13 0 6.5 6.5 0 0 0-13 0Z"></path>
</svg>
        <span data-content="Issues">Issues</span>
          <span id="issues-repo-tab-count" data-pjax-replace="" data-turbo-replace="" title="0" hidden="hidden" data-view-component="true" class="Counter">0</span>


    
</a></li>
      <li data-view-component="true" class="d-inline-flex">
  <a id="pull-requests-tab" href="/afish1110/SAL-603-Final-Project/pulls" data-tab-item="i2pull-requests-tab" data-selected-links="repo_pulls checks /afish1110/SAL-603-Final-Project/pulls" data-pjax="#repo-content-pjax-container" data-turbo-frame="repo-content-turbo-frame" data-hotkey="g p" data-analytics-event="{&quot;category&quot;:&quot;Underline navbar&quot;,&quot;action&quot;:&quot;Click tab&quot;,&quot;label&quot;:&quot;Pull requests&quot;,&quot;target&quot;:&quot;UNDERLINE_NAV.TAB&quot;}" data-view-component="true" class="UnderlineNav-item no-wrap js-responsive-underlinenav-item js-selected-navigation-item">
    
              <svg aria-hidden="true" height="16" viewBox="0 0 16 16" version="1.1" width="16" data-view-component="true" class="octicon octicon-git-pull-request UnderlineNav-octicon d-none d-sm-inline">
    <path d="M1.5 3.25a2.25 2.25 0 1 1 3 2.122v5.256a2.251 2.251 0 1 1-1.5 0V5.372A2.25 2.25 0 0 1 1.5 3.25Zm5.677-.177L9.573.677A.25.25 0 0 1 10 .854V2.5h1A2.5 2.5 0 0 1 13.5 5v5.628a2.251 2.251 0 1 1-1.5 0V5a1 1 0 0 0-1-1h-1v1.646a.25.25 0 0 1-.427.177L7.177 3.427a.25.25 0 0 1 0-.354ZM3.75 2.5a.75.75 0 1 0 0 1.5.75.75 0 0 0 0-1.5Zm0 9.5a.75.75 0 1 0 0 1.5.75.75 0 0 0 0-1.5Zm8.25.75a.75.75 0 1 0 1.5 0 .75.75 0 0 0-1.5 0Z"></path>
</svg>
        <span data-content="Pull requests">Pull requests</span>
          <span id="pull-requests-repo-tab-count" data-pjax-replace="" data-turbo-replace="" title="0" hidden="hidden" data-view-component="true" class="Counter">0</span>


    
</a></li>
      <li data-view-component="true" class="d-inline-flex">
  <a id="actions-tab" href="/afish1110/SAL-603-Final-Project/actions" data-tab-item="i3actions-tab" data-selected-links="repo_actions /afish1110/SAL-603-Final-Project/actions" data-pjax="#repo-content-pjax-container" data-turbo-frame="repo-content-turbo-frame" data-hotkey="g a" data-analytics-event="{&quot;category&quot;:&quot;Underline navbar&quot;,&quot;action&quot;:&quot;Click tab&quot;,&quot;label&quot;:&quot;Actions&quot;,&quot;target&quot;:&quot;UNDERLINE_NAV.TAB&quot;}" data-view-component="true" class="UnderlineNav-item no-wrap js-responsive-underlinenav-item js-selected-navigation-item">
    
              <svg aria-hidden="true" height="16" viewBox="0 0 16 16" version="1.1" width="16" data-view-component="true" class="octicon octicon-play UnderlineNav-octicon d-none d-sm-inline">
    <path d="M8 0a8 8 0 1 1 0 16A8 8 0 0 1 8 0ZM1.5 8a6.5 6.5 0 1 0 13 0 6.5 6.5 0 0 0-13 0Zm4.879-2.773 4.264 2.559a.25.25 0 0 1 0 .428l-4.264 2.559A.25.25 0 0 1 6 10.559V5.442a.25.25 0 0 1 .379-.215Z"></path>
</svg>
        <span data-content="Actions">Actions</span>
          <span id="actions-repo-tab-count" data-pjax-replace="" data-turbo-replace="" title="Not available" data-view-component="true" class="Counter"></span>


    
</a></li>
      <li data-view-component="true" class="d-inline-flex">
  <a id="projects-tab" href="/afish1110/SAL-603-Final-Project/projects" data-tab-item="i4projects-tab" data-selected-links="repo_projects new_repo_project repo_project /afish1110/SAL-603-Final-Project/projects" data-pjax="#repo-content-pjax-container" data-turbo-frame="repo-content-turbo-frame" data-hotkey="g b" data-analytics-event="{&quot;category&quot;:&quot;Underline navbar&quot;,&quot;action&quot;:&quot;Click tab&quot;,&quot;label&quot;:&quot;Projects&quot;,&quot;target&quot;:&quot;UNDERLINE_NAV.TAB&quot;}" data-view-component="true" class="UnderlineNav-item no-wrap js-responsive-underlinenav-item js-selected-navigation-item">
    
              <svg aria-hidden="true" height="16" viewBox="0 0 16 16" version="1.1" width="16" data-view-component="true" class="octicon octicon-table UnderlineNav-octicon d-none d-sm-inline">
    <path d="M0 1.75C0 .784.784 0 1.75 0h12.5C15.216 0 16 .784 16 1.75v12.5A1.75 1.75 0 0 1 14.25 16H1.75A1.75 1.75 0 0 1 0 14.25ZM6.5 6.5v8h7.75a.25.25 0 0 0 .25-.25V6.5Zm8-1.5V1.75a.25.25 0 0 0-.25-.25H6.5V5Zm-13 1.5v7.75c0 .138.112.25.25.25H5v-8ZM5 5V1.5H1.75a.25.25 0 0 0-.25.25V5Z"></path>
</svg>
        <span data-content="Projects">Projects</span>
          <span id="projects-repo-tab-count" data-pjax-replace="" data-turbo-replace="" title="0" hidden="hidden" data-view-component="true" class="Counter">0</span>


    
</a></li>
      <li data-view-component="true" class="d-inline-flex">
  <a id="security-tab" href="/afish1110/SAL-603-Final-Project/security" data-tab-item="i5security-tab" data-selected-links="security overview alerts policy token_scanning code_scanning /afish1110/SAL-603-Final-Project/security" data-pjax="#repo-content-pjax-container" data-turbo-frame="repo-content-turbo-frame" data-hotkey="g s" data-analytics-event="{&quot;category&quot;:&quot;Underline navbar&quot;,&quot;action&quot;:&quot;Click tab&quot;,&quot;label&quot;:&quot;Security&quot;,&quot;target&quot;:&quot;UNDERLINE_NAV.TAB&quot;}" data-view-component="true" class="UnderlineNav-item no-wrap js-responsive-underlinenav-item js-selected-navigation-item">
    
              <svg aria-hidden="true" height="16" viewBox="0 0 16 16" version="1.1" width="16" data-view-component="true" class="octicon octicon-shield UnderlineNav-octicon d-none d-sm-inline">
    <path d="M7.467.133a1.748 1.748 0 0 1 1.066 0l5.25 1.68A1.75 1.75 0 0 1 15 3.48V7c0 1.566-.32 3.182-1.303 4.682-.983 1.498-2.585 2.813-5.032 3.855a1.697 1.697 0 0 1-1.33 0c-2.447-1.042-4.049-2.357-5.032-3.855C1.32 10.182 1 8.566 1 7V3.48a1.75 1.75 0 0 1 1.217-1.667Zm.61 1.429a.25.25 0 0 0-.153 0l-5.25 1.68a.25.25 0 0 0-.174.238V7c0 1.358.275 2.666 1.057 3.86.784 1.194 2.121 2.34 4.366 3.297a.196.196 0 0 0 .154 0c2.245-.956 3.582-2.104 4.366-3.298C13.225 9.666 13.5 8.36 13.5 7V3.48a.251.251 0 0 0-.174-.237l-5.25-1.68ZM8.75 4.75v3a.75.75 0 0 1-1.5 0v-3a.75.75 0 0 1 1.5 0ZM9 10.5a1 1 0 1 1-2 0 1 1 0 0 1 2 0Z"></path>
</svg>
        <span data-content="Security">Security</span>
          <include-fragment src="/afish1110/SAL-603-Final-Project/security/overall-count" accept="text/fragment+html"></include-fragment>

    
</a></li>
      <li data-view-component="true" class="d-inline-flex">
  <a id="insights-tab" href="/afish1110/SAL-603-Final-Project/pulse" data-tab-item="i6insights-tab" data-selected-links="repo_graphs repo_contributors dependency_graph dependabot_updates pulse people community /afish1110/SAL-603-Final-Project/pulse" data-pjax="#repo-content-pjax-container" data-turbo-frame="repo-content-turbo-frame" data-analytics-event="{&quot;category&quot;:&quot;Underline navbar&quot;,&quot;action&quot;:&quot;Click tab&quot;,&quot;label&quot;:&quot;Insights&quot;,&quot;target&quot;:&quot;UNDERLINE_NAV.TAB&quot;}" data-view-component="true" class="UnderlineNav-item no-wrap js-responsive-underlinenav-item js-selected-navigation-item">
    
              <svg aria-hidden="true" height="16" viewBox="0 0 16 16" version="1.1" width="16" data-view-component="true" class="octicon octicon-graph UnderlineNav-octicon d-none d-sm-inline">
    <path d="M1.5 1.75V13.5h13.75a.75.75 0 0 1 0 1.5H.75a.75.75 0 0 1-.75-.75V1.75a.75.75 0 0 1 1.5 0Zm14.28 2.53-5.25 5.25a.75.75 0 0 1-1.06 0L7 7.06 4.28 9.78a.751.751 0 0 1-1.042-.018.751.751 0 0 1-.018-1.042l3.25-3.25a.75.75 0 0 1 1.06 0L10 7.94l4.72-4.72a.751.751 0 0 1 1.042.018.751.751 0 0 1 .018 1.042Z"></path>
</svg>
        <span data-content="Insights">Insights</span>
          <span id="insights-repo-tab-count" data-pjax-replace="" data-turbo-replace="" title="Not available" data-view-component="true" class="Counter"></span>


    
</a></li>
</ul>
    <div style="visibility:hidden;" data-view-component="true" class="UnderlineNav-actions js-responsive-underlinenav-overflow position-absolute pr-3 pr-md-4 pr-lg-5 right-0">      <action-menu data-select-variant="none" data-view-component="true">
  <focus-group direction="vertical" mnemonics retain>
    <button id="action-menu-eb8a80db-e2e5-452a-973c-80204031f3b0-button" popovertarget="action-menu-eb8a80db-e2e5-452a-973c-80204031f3b0-overlay" aria-controls="action-menu-eb8a80db-e2e5-452a-973c-80204031f3b0-list" aria-haspopup="true" aria-labelledby="tooltip-4d4e30f0-a5aa-4b82-9396-77c2d36d926e" type="button" data-view-component="true" class="Button Button--iconOnly Button--secondary Button--medium UnderlineNav-item">  <svg aria-hidden="true" height="16" viewBox="0 0 16 16" version="1.1" width="16" data-view-component="true" class="octicon octicon-kebab-horizontal Button-visual">
    <path d="M8 9a1.5 1.5 0 1 0 0-3 1.5 1.5 0 0 0 0 3ZM1.5 9a1.5 1.5 0 1 0 0-3 1.5 1.5 0 0 0 0 3Zm13 0a1.5 1.5 0 1 0 0-3 1.5 1.5 0 0 0 0 3Z"></path>
</svg>
</button><tool-tip id="tooltip-4d4e30f0-a5aa-4b82-9396-77c2d36d926e" for="action-menu-eb8a80db-e2e5-452a-973c-80204031f3b0-button" popover="manual" data-direction="s" data-type="label" data-view-component="true" class="sr-only position-absolute">Additional navigation options</tool-tip>


<anchored-position data-target="action-menu.overlay" id="action-menu-eb8a80db-e2e5-452a-973c-80204031f3b0-overlay" anchor="action-menu-eb8a80db-e2e5-452a-973c-80204031f3b0-button" align="start" side="outside-bottom" anchor-offset="normal" popover="auto" data-view-component="true">
  <div data-view-component="true" class="Overlay Overlay--size-auto">
    
      <div data-view-component="true" class="Overlay-body Overlay-body--paddingNone">          <action-list>
  <div data-view-component="true">
    <ul aria-labelledby="action-menu-eb8a80db-e2e5-452a-973c-80204031f3b0-button" id="action-menu-eb8a80db-e2e5-452a-973c-80204031f3b0-list" role="menu" data-view-component="true" class="ActionListWrap--inset ActionListWrap">
        <li hidden="hidden" data-menu-item="i0code-tab" data-targets="action-list.items" role="none" data-view-component="true" class="ActionListItem">
    
    
    <a tabindex="-1" id="item-cb3b236b-1dd2-444c-a692-2389a33675fc" href="/afish1110/SAL-603-Final-Project" role="menuitem" data-view-component="true" class="ActionListContent ActionListContent--visual16">
        <span class="ActionListItem-visual ActionListItem-visual--leading">
          <svg aria-hidden="true" height="16" viewBox="0 0 16 16" version="1.1" width="16" data-view-component="true" class="octicon octicon-code">
    <path d="m11.28 3.22 4.25 4.25a.75.75 0 0 1 0 1.06l-4.25 4.25a.749.749 0 0 1-1.275-.326.749.749 0 0 1 .215-.734L13.94 8l-3.72-3.72a.749.749 0 0 1 .326-1.275.749.749 0 0 1 .734.215Zm-6.56 0a.751.751 0 0 1 1.042.018.751.751 0 0 1 .018 1.042L2.06 8l3.72 3.72a.749.749 0 0 1-.326 1.275.749.749 0 0 1-.734-.215L.47 8.53a.75.75 0 0 1 0-1.06Z"></path>
</svg>
        </span>
      
        <span data-view-component="true" class="ActionListItem-label">
          Code
</span>      
</a>
  
</li>
        <li hidden="hidden" data-menu-item="i1issues-tab" data-targets="action-list.items" role="none" data-view-component="true" class="ActionListItem">
    
    
    <a tabindex="-1" id="item-f0889bc1-a497-45f6-a0b3-570fb3994884" href="/afish1110/SAL-603-Final-Project/issues" role="menuitem" data-view-component="true" class="ActionListContent ActionListContent--visual16">
        <span class="ActionListItem-visual ActionListItem-visual--leading">
          <svg aria-hidden="true" height="16" viewBox="0 0 16 16" version="1.1" width="16" data-view-component="true" class="octicon octicon-issue-opened">
    <path d="M8 9.5a1.5 1.5 0 1 0 0-3 1.5 1.5 0 0 0 0 3Z"></path><path d="M8 0a8 8 0 1 1 0 16A8 8 0 0 1 8 0ZM1.5 8a6.5 6.5 0 1 0 13 0 6.5 6.5 0 0 0-13 0Z"></path>
</svg>
        </span>
      
        <span data-view-component="true" class="ActionListItem-label">
          Issues
</span>      
</a>
  
</li>
        <li hidden="hidden" data-menu-item="i2pull-requests-tab" data-targets="action-list.items" role="none" data-view-component="true" class="ActionListItem">
    
    
    <a tabindex="-1" id="item-87ed686f-dc0b-4b3c-9962-bb674ddca716" href="/afish1110/SAL-603-Final-Project/pulls" role="menuitem" data-view-component="true" class="ActionListContent ActionListContent--visual16">
        <span class="ActionListItem-visual ActionListItem-visual--leading">
          <svg aria-hidden="true" height="16" viewBox="0 0 16 16" version="1.1" width="16" data-view-component="true" class="octicon octicon-git-pull-request">
    <path d="M1.5 3.25a2.25 2.25 0 1 1 3 2.122v5.256a2.251 2.251 0 1 1-1.5 0V5.372A2.25 2.25 0 0 1 1.5 3.25Zm5.677-.177L9.573.677A.25.25 0 0 1 10 .854V2.5h1A2.5 2.5 0 0 1 13.5 5v5.628a2.251 2.251 0 1 1-1.5 0V5a1 1 0 0 0-1-1h-1v1.646a.25.25 0 0 1-.427.177L7.177 3.427a.25.25 0 0 1 0-.354ZM3.75 2.5a.75.75 0 1 0 0 1.5.75.75 0 0 0 0-1.5Zm0 9.5a.75.75 0 1 0 0 1.5.75.75 0 0 0 0-1.5Zm8.25.75a.75.75 0 1 0 1.5 0 .75.75 0 0 0-1.5 0Z"></path>
</svg>
        </span>
      
        <span data-view-component="true" class="ActionListItem-label">
          Pull requests
</span>      
</a>
  
</li>
        <li hidden="hidden" data-menu-item="i3actions-tab" data-targets="action-list.items" role="none" data-view-component="true" class="ActionListItem">
    
    
    <a tabindex="-1" id="item-fb918f58-3968-4508-9041-3c454b1eec30" href="/afish1110/SAL-603-Final-Project/actions" role="menuitem" data-view-component="true" class="ActionListContent ActionListContent--visual16">
        <span class="ActionListItem-visual ActionListItem-visual--leading">
          <svg aria-hidden="true" height="16" viewBox="0 0 16 16" version="1.1" width="16" data-view-component="true" class="octicon octicon-play">
    <path d="M8 0a8 8 0 1 1 0 16A8 8 0 0 1 8 0ZM1.5 8a6.5 6.5 0 1 0 13 0 6.5 6.5 0 0 0-13 0Zm4.879-2.773 4.264 2.559a.25.25 0 0 1 0 .428l-4.264 2.559A.25.25 0 0 1 6 10.559V5.442a.25.25 0 0 1 .379-.215Z"></path>
</svg>
        </span>
      
        <span data-view-component="true" class="ActionListItem-label">
          Actions
</span>      
</a>
  
</li>
        <li hidden="hidden" data-menu-item="i4projects-tab" data-targets="action-list.items" role="none" data-view-component="true" class="ActionListItem">
    
    
    <a tabindex="-1" id="item-30a3ef2e-7dc9-445c-8215-cb3e47752232" href="/afish1110/SAL-603-Final-Project/projects" role="menuitem" data-view-component="true" class="ActionListContent ActionListContent--visual16">
        <span class="ActionListItem-visual ActionListItem-visual--leading">
          <svg aria-hidden="true" height="16" viewBox="0 0 16 16" version="1.1" width="16" data-view-component="true" class="octicon octicon-table">
    <path d="M0 1.75C0 .784.784 0 1.75 0h12.5C15.216 0 16 .784 16 1.75v12.5A1.75 1.75 0 0 1 14.25 16H1.75A1.75 1.75 0 0 1 0 14.25ZM6.5 6.5v8h7.75a.25.25 0 0 0 .25-.25V6.5Zm8-1.5V1.75a.25.25 0 0 0-.25-.25H6.5V5Zm-13 1.5v7.75c0 .138.112.25.25.25H5v-8ZM5 5V1.5H1.75a.25.25 0 0 0-.25.25V5Z"></path>
</svg>
        </span>
      
        <span data-view-component="true" class="ActionListItem-label">
          Projects
</span>      
</a>
  
</li>
        <li hidden="hidden" data-menu-item="i5security-tab" data-targets="action-list.items" role="none" data-view-component="true" class="ActionListItem">
    
    
    <a tabindex="-1" id="item-f010d99f-c028-4d17-bf4d-9f11268aa59a" href="/afish1110/SAL-603-Final-Project/security" role="menuitem" data-view-component="true" class="ActionListContent ActionListContent--visual16">
        <span class="ActionListItem-visual ActionListItem-visual--leading">
          <svg aria-hidden="true" height="16" viewBox="0 0 16 16" version="1.1" width="16" data-view-component="true" class="octicon octicon-shield">
    <path d="M7.467.133a1.748 1.748 0 0 1 1.066 0l5.25 1.68A1.75 1.75 0 0 1 15 3.48V7c0 1.566-.32 3.182-1.303 4.682-.983 1.498-2.585 2.813-5.032 3.855a1.697 1.697 0 0 1-1.33 0c-2.447-1.042-4.049-2.357-5.032-3.855C1.32 10.182 1 8.566 1 7V3.48a1.75 1.75 0 0 1 1.217-1.667Zm.61 1.429a.25.25 0 0 0-.153 0l-5.25 1.68a.25.25 0 0 0-.174.238V7c0 1.358.275 2.666 1.057 3.86.784 1.194 2.121 2.34 4.366 3.297a.196.196 0 0 0 .154 0c2.245-.956 3.582-2.104 4.366-3.298C13.225 9.666 13.5 8.36 13.5 7V3.48a.251.251 0 0 0-.174-.237l-5.25-1.68ZM8.75 4.75v3a.75.75 0 0 1-1.5 0v-3a.75.75 0 0 1 1.5 0ZM9 10.5a1 1 0 1 1-2 0 1 1 0 0 1 2 0Z"></path>
</svg>
        </span>
      
        <span data-view-component="true" class="ActionListItem-label">
          Security
</span>      
</a>
  
</li>
        <li hidden="hidden" data-menu-item="i6insights-tab" data-targets="action-list.items" role="none" data-view-component="true" class="ActionListItem">
    
    
    <a tabindex="-1" id="item-1094d047-7f68-4733-8f5d-54ba9bd5bd97" href="/afish1110/SAL-603-Final-Project/pulse" role="menuitem" data-view-component="true" class="ActionListContent ActionListContent--visual16">
        <span class="ActionListItem-visual ActionListItem-visual--leading">
          <svg aria-hidden="true" height="16" viewBox="0 0 16 16" version="1.1" width="16" data-view-component="true" class="octicon octicon-graph">
    <path d="M1.5 1.75V13.5h13.75a.75.75 0 0 1 0 1.5H.75a.75.75 0 0 1-.75-.75V1.75a.75.75 0 0 1 1.5 0Zm14.28 2.53-5.25 5.25a.75.75 0 0 1-1.06 0L7 7.06 4.28 9.78a.751.751 0 0 1-1.042-.018.751.751 0 0 1-.018-1.042l3.25-3.25a.75.75 0 0 1 1.06 0L10 7.94l4.72-4.72a.751.751 0 0 1 1.042.018.751.751 0 0 1 .018 1.042Z"></path>
</svg>
        </span>
      
        <span data-view-component="true" class="ActionListItem-label">
          Insights
</span>      
</a>
  
</li>
</ul>    
</div></action-list>


</div>
      
</div></anchored-position>  </focus-group>
</action-menu></div>
</nav>
        </div>
</header>


      <div hidden="hidden" data-view-component="true" class="js-stale-session-flash stale-session-flash flash flash-warn flash-full">
  
        <svg aria-hidden="true" height="16" viewBox="0 0 16 16" version="1.1" width="16" data-view-component="true" class="octicon octicon-alert">
    <path d="M6.457 1.047c.659-1.234 2.427-1.234 3.086 0l6.082 11.378A1.75 1.75 0 0 1 14.082 15H1.918a1.75 1.75 0 0 1-1.543-2.575Zm1.763.707a.25.25 0 0 0-.44 0L1.698 13.132a.25.25 0 0 0 .22.368h12.164a.25.25 0 0 0 .22-.368Zm.53 3.996v2.5a.75.75 0 0 1-1.5 0v-2.5a.75.75 0 0 1 1.5 0ZM9 11a1 1 0 1 1-2 0 1 1 0 0 1 2 0Z"></path>
</svg>
        <span class="js-stale-session-flash-signed-in" hidden>You signed in with another tab or window. <a class="Link--inTextBlock" href="">Reload</a> to refresh your session.</span>
        <span class="js-stale-session-flash-signed-out" hidden>You signed out in another tab or window. <a class="Link--inTextBlock" href="">Reload</a> to refresh your session.</span>
        <span class="js-stale-session-flash-switched" hidden>You switched accounts on another tab or window. <a class="Link--inTextBlock" href="">Reload</a> to refresh your session.</span>

    <button id="icon-button-525d6a08-ec47-408c-915a-4428e28e9a0e" aria-labelledby="tooltip-57eca541-6e3f-403e-8017-199147474520" type="button" data-view-component="true" class="Button Button--iconOnly Button--invisible Button--medium flash-close js-flash-close">  <svg aria-hidden="true" height="16" viewBox="0 0 16 16" version="1.1" width="16" data-view-component="true" class="octicon octicon-x Button-visual">
    <path d="M3.72 3.72a.75.75 0 0 1 1.06 0L8 6.94l3.22-3.22a.749.749 0 0 1 1.275.326.749.749 0 0 1-.215.734L9.06 8l3.22 3.22a.749.749 0 0 1-.326 1.275.749.749 0 0 1-.734-.215L8 9.06l-3.22 3.22a.751.751 0 0 1-1.042-.018.751.751 0 0 1-.018-1.042L6.94 8 3.72 4.78a.75.75 0 0 1 0-1.06Z"></path>
</svg>
</button><tool-tip id="tooltip-57eca541-6e3f-403e-8017-199147474520" for="icon-button-525d6a08-ec47-408c-915a-4428e28e9a0e" popover="manual" data-direction="s" data-type="label" data-view-component="true" class="sr-only position-absolute">Dismiss alert</tool-tip>


  
</div>
          
    </div>

  <div id="start-of-content" class="show-on-focus"></div>








    <div id="js-flash-container" class="flash-container" data-turbo-replace>




  <template class="js-flash-template">
    
<div class="flash flash-full   {{ className }}">
  <div >
    <button autofocus class="flash-close js-flash-close" type="button" aria-label="Dismiss this message">
      <svg aria-hidden="true" height="16" viewBox="0 0 16 16" version="1.1" width="16" data-view-component="true" class="octicon octicon-x">
    <path d="M3.72 3.72a.75.75 0 0 1 1.06 0L8 6.94l3.22-3.22a.749.749 0 0 1 1.275.326.749.749 0 0 1-.215.734L9.06 8l3.22 3.22a.749.749 0 0 1-.326 1.275.749.749 0 0 1-.734-.215L8 9.06l-3.22 3.22a.751.751 0 0 1-1.042-.018.751.751 0 0 1-.018-1.042L6.94 8 3.72 4.78a.75.75 0 0 1 0-1.06Z"></path>
</svg>
    </button>
    <div aria-atomic="true" role="alert" class="js-flash-alert">
      
      <div>{{ message }}</div>

    </div>
  </div>
</div>
  </template>
</div>


    
  <notification-shelf-watcher data-base-url="https://github.com/notifications/beta/shelf" data-channel="eyJjIjoibm90aWZpY2F0aW9uLWNoYW5nZWQ6MTk3Nzg0NzUxIiwidCI6MTc0MTMwNDE3OH0=--b7ccdc97294f960f546c453315463ac56912cfa0e100bd5b4d7fc9bcbfa7359c" data-view-component="true" class="js-socket-channel"></notification-shelf-watcher>
  <div hidden data-initial data-target="notification-shelf-watcher.placeholder"></div>






  <div
    class="application-main "
    data-commit-hovercards-enabled
    data-discussion-hovercards-enabled
    data-issue-and-pr-hovercards-enabled
    data-project-hovercards-enabled
  >
        <div itemscope itemtype="http://schema.org/SoftwareSourceCode" class="">
    <main id="js-repo-pjax-container" >
      
      






    
  <div id="repository-container-header" data-turbo-replace hidden ></div>




<turbo-frame id="repo-content-turbo-frame" target="_top" data-turbo-action="advance" class="">
    <div id="repo-content-pjax-container" class="repository-content " >
      <a href="https://github.dev/" class="d-none js-github-dev-shortcut" data-hotkey=".,Mod+Alt+.">Open in github.dev</a>
  <a href="https://github.dev/" class="d-none js-github-dev-new-tab-shortcut" data-hotkey="Shift+.,Shift+&gt;,&gt;" target="_blank" rel="noopener noreferrer">Open in a new github.dev tab</a>
    <a class="d-none" data-hotkey=",,Mod+Alt+," target="_blank" href="/codespaces/new/afish1110/SAL-603-Final-Project/tree/main?resume=1">Open in codespace</a>




    
      
    








<react-app
  app-name="react-code-view"
  initial-path="/afish1110/SAL-603-Final-Project/blob/main/SAL603_FinalProject-Andrew%20Fish.ipynb"
    style="display: block; min-height: calc(100vh - 64px);"
  data-attempted-ssr="true"
  data-ssr="true"
  data-lazy="false"
  data-alternate="false"
  data-data-router-enabled="false"
>
  
  <script type="application/json" data-target="react-app.embeddedData">{"payload":{"allShortcutsEnabled":true,"fileTree":{"":{"items":[{"name":"data","path":"data","contentType":"directory"},{"name":".gitattributes","path":".gitattributes","contentType":"file"},{"name":".gitignore","path":".gitignore","contentType":"file"},{"name":"LICENSE","path":"LICENSE","contentType":"file"},{"name":"MLB2010-2019CyYoungAnalysis -Bennet Dervishaj.ipynb","path":"MLB2010-2019CyYoungAnalysis -Bennet Dervishaj.ipynb","contentType":"file"},{"name":"README.md","path":"README.md","contentType":"file"},{"name":"SAL603_FinalProject-Andrew Fish.ipynb","path":"SAL603_FinalProject-Andrew Fish.ipynb","contentType":"file"}],"totalCount":7}},"fileTreeProcessingTime":2.8503819999999997,"foldersToFetch":[],"repo":{"id":928035797,"defaultBranch":"main","name":"SAL-603-Final-Project","ownerLogin":"afish1110","currentUserCanPush":false,"isFork":false,"isEmpty":false,"createdAt":"2025-02-05T19:24:08.000-05:00","ownerAvatar":"https://avatars.githubusercontent.com/u/197981377?v=4","public":true,"private":false,"isOrgOwned":false},"codeLineWrapEnabled":false,"symbolsExpanded":false,"treeExpanded":true,"refInfo":{"name":"main","listCacheKey":"v0:1738801450.0","canEdit":true,"refType":"branch","currentOid":"902f31b2296f51977564f3003334153e60b19b70"},"path":"SAL603_FinalProject-Andrew Fish.ipynb","currentUser":{"id":197784751,"login":"DMCunius","userEmail":"dmcunius@gmail.com"},"blob":{"rawLines":["{"," \"cells\": [","  {","   \"cell_type\": \"code\",","   \"execution_count\": 1,","   \"id\": \"dc10b117-3ffc-41a6-885c-4a4376adc528\",","   \"metadata\": {},","   \"outputs\": [],","   \"source\": [","    \"##displays all outputs of each cell\\n\",","    \"from IPython.core.interactiveshell import InteractiveShell\\n\",","    \"InteractiveShell.ast_node_interactivity = \\\"all\\\"\\n\",","    \"\\n\",","    \"import numpy as np\\n\",","    \"import pandas as pd\\n\",","    \"import matplotlib.pyplot as plt\\n\",","    \"import seaborn as sns\"","   ]","  },","  {","   \"cell_type\": \"code\",","   \"execution_count\": 45,","   \"id\": \"155b1850-2ec4-4852-8bfc-1fd1a12e89f9\",","   \"metadata\": {},","   \"outputs\": [","    {","     \"data\": {","      \"text/html\": [","       \"\u003cdiv\u003e\\n\",","       \"\u003cstyle scoped\u003e\\n\",","       \"    .dataframe tbody tr th:only-of-type {\\n\",","       \"        vertical-align: middle;\\n\",","       \"    }\\n\",","       \"\\n\",","       \"    .dataframe tbody tr th {\\n\",","       \"        vertical-align: top;\\n\",","       \"    }\\n\",","       \"\\n\",","       \"    .dataframe thead th {\\n\",","       \"        text-align: right;\\n\",","       \"    }\\n\",","       \"\u003c/style\u003e\\n\",","       \"\u003ctable border=\\\"1\\\" class=\\\"dataframe\\\"\u003e\\n\",","       \"  \u003cthead\u003e\\n\",","       \"    \u003ctr style=\\\"text-align: right;\\\"\u003e\\n\",","       \"      \u003cth\u003e\u003c/th\u003e\\n\",","       \"      \u003cth\u003ePlayer\u003c/th\u003e\\n\",","       \"      \u003cth\u003eSeason\u003c/th\u003e\\n\",","       \"      \u003cth\u003eLeague\u003c/th\u003e\\n\",","       \"      \u003cth\u003epitch_type\u003c/th\u003e\\n\",","       \"      \u003cth\u003enum_pitches\u003c/th\u003e\\n\",","       \"      \u003cth\u003etotal_pitches\u003c/th\u003e\\n\",","       \"      \u003cth\u003eAVG\u003c/th\u003e\\n\",","       \"      \u003cth\u003eVelocity\u003c/th\u003e\\n\",","       \"      \u003cth\u003eUsage\u003c/th\u003e\\n\",","       \"    \u003c/tr\u003e\\n\",","       \"  \u003c/thead\u003e\\n\",","       \"  \u003ctbody\u003e\\n\",","       \"    \u003ctr\u003e\\n\",","       \"      \u003cth\u003e0\u003c/th\u003e\\n\",","       \"      \u003ctd\u003eFelix Hernandez\u003c/td\u003e\\n\",","       \"      \u003ctd\u003e2010\u003c/td\u003e\\n\",","       \"      \u003ctd\u003eAL\u003c/td\u003e\\n\",","       \"      \u003ctd\u003eFF\u003c/td\u003e\\n\",","       \"      \u003ctd\u003e1269\u003c/td\u003e\\n\",","       \"      \u003ctd\u003e3709\u003c/td\u003e\\n\",","       \"      \u003ctd\u003e0.233\u003c/td\u003e\\n\",","       \"      \u003ctd\u003e94.2\u003c/td\u003e\\n\",","       \"      \u003ctd\u003e34.21\u003c/td\u003e\\n\",","       \"    \u003c/tr\u003e\\n\",","       \"    \u003ctr\u003e\\n\",","       \"      \u003cth\u003e1\u003c/th\u003e\\n\",","       \"      \u003ctd\u003eFelix Hernandez\u003c/td\u003e\\n\",","       \"      \u003ctd\u003e2010\u003c/td\u003e\\n\",","       \"      \u003ctd\u003eAL\u003c/td\u003e\\n\",","       \"      \u003ctd\u003eSI\u003c/td\u003e\\n\",","       \"      \u003ctd\u003e949\u003c/td\u003e\\n\",","       \"      \u003ctd\u003e3709\u003c/td\u003e\\n\",","       \"      \u003ctd\u003e0.232\u003c/td\u003e\\n\",","       \"      \u003ctd\u003e93.6\u003c/td\u003e\\n\",","       \"      \u003ctd\u003e25.59\u003c/td\u003e\\n\",","       \"    \u003c/tr\u003e\\n\",","       \"    \u003ctr\u003e\\n\",","       \"      \u003cth\u003e2\u003c/th\u003e\\n\",","       \"      \u003ctd\u003eFelix Hernandez\u003c/td\u003e\\n\",","       \"      \u003ctd\u003e2010\u003c/td\u003e\\n\",","       \"      \u003ctd\u003eAL\u003c/td\u003e\\n\",","       \"      \u003ctd\u003eCH\u003c/td\u003e\\n\",","       \"      \u003ctd\u003e517\u003c/td\u003e\\n\",","       \"      \u003ctd\u003e3709\u003c/td\u003e\\n\",","       \"      \u003ctd\u003e0.159\u003c/td\u003e\\n\",","       \"      \u003ctd\u003e89.5\u003c/td\u003e\\n\",","       \"      \u003ctd\u003e13.94\u003c/td\u003e\\n\",","       \"    \u003c/tr\u003e\\n\",","       \"    \u003ctr\u003e\\n\",","       \"      \u003cth\u003e3\u003c/th\u003e\\n\",","       \"      \u003ctd\u003eFelix Hernandez\u003c/td\u003e\\n\",","       \"      \u003ctd\u003e2010\u003c/td\u003e\\n\",","       \"      \u003ctd\u003eAL\u003c/td\u003e\\n\",","       \"      \u003ctd\u003eSL\u003c/td\u003e\\n\",","       \"      \u003ctd\u003e488\u003c/td\u003e\\n\",","       \"      \u003ctd\u003e3709\u003c/td\u003e\\n\",","       \"      \u003ctd\u003e0.163\u003c/td\u003e\\n\",","       \"      \u003ctd\u003e85.2\u003c/td\u003e\\n\",","       \"      \u003ctd\u003e13.16\u003c/td\u003e\\n\",","       \"    \u003c/tr\u003e\\n\",","       \"    \u003ctr\u003e\\n\",","       \"      \u003cth\u003e4\u003c/th\u003e\\n\",","       \"      \u003ctd\u003eFelix Hernandez\u003c/td\u003e\\n\",","       \"      \u003ctd\u003e2010\u003c/td\u003e\\n\",","       \"      \u003ctd\u003eAL\u003c/td\u003e\\n\",","       \"      \u003ctd\u003eCU\u003c/td\u003e\\n\",","       \"      \u003ctd\u003e377\u003c/td\u003e\\n\",","       \"      \u003ctd\u003e3709\u003c/td\u003e\\n\",","       \"      \u003ctd\u003e0.287\u003c/td\u003e\\n\",","       \"      \u003ctd\u003e81.3\u003c/td\u003e\\n\",","       \"      \u003ctd\u003e10.16\u003c/td\u003e\\n\",","       \"    \u003c/tr\u003e\\n\",","       \"    \u003ctr\u003e\\n\",","       \"      \u003cth\u003e...\u003c/th\u003e\\n\",","       \"      \u003ctd\u003e...\u003c/td\u003e\\n\",","       \"      \u003ctd\u003e...\u003c/td\u003e\\n\",","       \"      \u003ctd\u003e...\u003c/td\u003e\\n\",","       \"      \u003ctd\u003e...\u003c/td\u003e\\n\",","       \"      \u003ctd\u003e...\u003c/td\u003e\\n\",","       \"      \u003ctd\u003e...\u003c/td\u003e\\n\",","       \"      \u003ctd\u003e...\u003c/td\u003e\\n\",","       \"      \u003ctd\u003e...\u003c/td\u003e\\n\",","       \"      \u003ctd\u003e...\u003c/td\u003e\\n\",","       \"    \u003c/tr\u003e\\n\",","       \"    \u003ctr\u003e\\n\",","       \"      \u003cth\u003e91\u003c/th\u003e\\n\",","       \"      \u003ctd\u003eJacob deGrom\u003c/td\u003e\\n\",","       \"      \u003ctd\u003e2019\u003c/td\u003e\\n\",","       \"      \u003ctd\u003eNL\u003c/td\u003e\\n\",","       \"      \u003ctd\u003eFF\u003c/td\u003e\\n\",","       \"      \u003ctd\u003e1536\u003c/td\u003e\\n\",","       \"      \u003ctd\u003e3191\u003c/td\u003e\\n\",","       \"      \u003ctd\u003e0.219\u003c/td\u003e\\n\",","       \"      \u003ctd\u003e96.9\u003c/td\u003e\\n\",","       \"      \u003ctd\u003e48.14\u003c/td\u003e\\n\",","       \"    \u003c/tr\u003e\\n\",","       \"    \u003ctr\u003e\\n\",","       \"      \u003cth\u003e92\u003c/th\u003e\\n\",","       \"      \u003ctd\u003eJacob deGrom\u003c/td\u003e\\n\",","       \"      \u003ctd\u003e2019\u003c/td\u003e\\n\",","       \"      \u003ctd\u003eNL\u003c/td\u003e\\n\",","       \"      \u003ctd\u003eSL\u003c/td\u003e\\n\",","       \"      \u003ctd\u003e1022\u003c/td\u003e\\n\",","       \"      \u003ctd\u003e3191\u003c/td\u003e\\n\",","       \"      \u003ctd\u003e0.186\u003c/td\u003e\\n\",","       \"      \u003ctd\u003e92.5\u003c/td\u003e\\n\",","       \"      \u003ctd\u003e32.03\u003c/td\u003e\\n\",","       \"    \u003c/tr\u003e\\n\",","       \"    \u003ctr\u003e\\n\",","       \"      \u003cth\u003e93\u003c/th\u003e\\n\",","       \"      \u003ctd\u003eJacob deGrom\u003c/td\u003e\\n\",","       \"      \u003ctd\u003e2019\u003c/td\u003e\\n\",","       \"      \u003ctd\u003eNL\u003c/td\u003e\\n\",","       \"      \u003ctd\u003eCH\u003c/td\u003e\\n\",","       \"      \u003ctd\u003e506\u003c/td\u003e\\n\",","       \"      \u003ctd\u003e3191\u003c/td\u003e\\n\",","       \"      \u003ctd\u003e0.185\u003c/td\u003e\\n\",","       \"      \u003ctd\u003e90.3\u003c/td\u003e\\n\",","       \"      \u003ctd\u003e15.86\u003c/td\u003e\\n\",","       \"    \u003c/tr\u003e\\n\",","       \"    \u003ctr\u003e\\n\",","       \"      \u003cth\u003e94\u003c/th\u003e\\n\",","       \"      \u003ctd\u003eJacob deGrom\u003c/td\u003e\\n\",","       \"      \u003ctd\u003e2019\u003c/td\u003e\\n\",","       \"      \u003ctd\u003eNL\u003c/td\u003e\\n\",","       \"      \u003ctd\u003eCU\u003c/td\u003e\\n\",","       \"      \u003ctd\u003e93\u003c/td\u003e\\n\",","       \"      \u003ctd\u003e3191\u003c/td\u003e\\n\",","       \"      \u003ctd\u003e0.348\u003c/td\u003e\\n\",","       \"      \u003ctd\u003e84.3\u003c/td\u003e\\n\",","       \"      \u003ctd\u003e2.91\u003c/td\u003e\\n\",","       \"    \u003c/tr\u003e\\n\",","       \"    \u003ctr\u003e\\n\",","       \"      \u003cth\u003e95\u003c/th\u003e\\n\",","       \"      \u003ctd\u003eJacob deGrom\u003c/td\u003e\\n\",","       \"      \u003ctd\u003e2019\u003c/td\u003e\\n\",","       \"      \u003ctd\u003eNL\u003c/td\u003e\\n\",","       \"      \u003ctd\u003eSI\u003c/td\u003e\\n\",","       \"      \u003ctd\u003e34\u003c/td\u003e\\n\",","       \"      \u003ctd\u003e3191\u003c/td\u003e\\n\",","       \"      \u003ctd\u003e0.200\u003c/td\u003e\\n\",","       \"      \u003ctd\u003e96.7\u003c/td\u003e\\n\",","       \"      \u003ctd\u003e1.07\u003c/td\u003e\\n\",","       \"    \u003c/tr\u003e\\n\",","       \"  \u003c/tbody\u003e\\n\",","       \"\u003c/table\u003e\\n\",","       \"\u003cp\u003e96 rows × 9 columns\u003c/p\u003e\\n\",","       \"\u003c/div\u003e\"","      ],","      \"text/plain\": [","       \"             Player  Season League pitch_type  num_pitches  total_pitches  \\\\\\n\",","       \"0   Felix Hernandez    2010     AL         FF         1269           3709   \\n\",","       \"1   Felix Hernandez    2010     AL         SI          949           3709   \\n\",","       \"2   Felix Hernandez    2010     AL         CH          517           3709   \\n\",","       \"3   Felix Hernandez    2010     AL         SL          488           3709   \\n\",","       \"4   Felix Hernandez    2010     AL         CU          377           3709   \\n\",","       \"..              ...     ...    ...        ...          ...            ...   \\n\",","       \"91     Jacob deGrom    2019     NL         FF         1536           3191   \\n\",","       \"92     Jacob deGrom    2019     NL         SL         1022           3191   \\n\",","       \"93     Jacob deGrom    2019     NL         CH          506           3191   \\n\",","       \"94     Jacob deGrom    2019     NL         CU           93           3191   \\n\",","       \"95     Jacob deGrom    2019     NL         SI           34           3191   \\n\",","       \"\\n\",","       \"      AVG  Velocity  Usage  \\n\",","       \"0   0.233      94.2  34.21  \\n\",","       \"1   0.232      93.6  25.59  \\n\",","       \"2   0.159      89.5  13.94  \\n\",","       \"3   0.163      85.2  13.16  \\n\",","       \"4   0.287      81.3  10.16  \\n\",","       \"..    ...       ...    ...  \\n\",","       \"91  0.219      96.9  48.14  \\n\",","       \"92  0.186      92.5  32.03  \\n\",","       \"93  0.185      90.3  15.86  \\n\",","       \"94  0.348      84.3   2.91  \\n\",","       \"95  0.200      96.7   1.07  \\n\",","       \"\\n\",","       \"[96 rows x 9 columns]\"","      ]","     },","     \"execution_count\": 45,","     \"metadata\": {},","     \"output_type\": \"execute_result\"","    }","   ],","   \"source\": [","    \"##cy young file data taken from fangraphs\\n\",","    \"cy_young_pitch_mix = pd.read_csv('data/CYYoungPitchMix.csv')\\n\",","    \"\\n\",","    \"##usage is the percent that each pitch was thrown\\n\",","    \"cy_young_pitch_mix['Usage'] = round((cy_young_pitch_mix.num_pitches / cy_young_pitch_mix.total_pitches) * 100, 2)\\n\",","    \"\\n\",","    \"cy_young_pitch_mix\"","   ]","  },","  {","   \"cell_type\": \"code\",","   \"execution_count\": 99,","   \"id\": \"ad06d5e2-4557-431c-ad9a-1201dfc33ec2\",","   \"metadata\": {},","   \"outputs\": [","    {","     \"data\": {","      \"text/plain\": [","       \"Text(0.5, 0, 'Number of Pitches')\"","      ]","     },","     \"execution_count\": 99,","     \"metadata\": {},","     \"output_type\": \"execute_result\"","    },","    {","     \"data\": {","      \"text/plain\": [","       \"Text(0, 0.5, 'Count')\"","      ]","     },","     \"execution_count\": 99,","     \"metadata\": {},","     \"output_type\": \"execute_result\"","    },","    {","     \"data\": {","      \"text/plain\": [","       \"Text(0.5, 1.0, 'Number of Pitches in Arsenal of Cy Young Winners 2010-19')\"","      ]","     },","     \"execution_count\": 99,","     \"metadata\": {},","     \"output_type\": \"execute_result\"","    },","    {","     \"data\": {","      \"image/png\": \"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\",","      \"text/plain\": [","       \"\u003cFigure size 640x480 with 1 Axes\u003e\"","      ]","     },","     \"metadata\": {},","     \"output_type\": \"display_data\"","    }","   ],","   \"source\": [","    \"##df with pitch_type counted for histogram of num pitches in arsenal for cy young winners\\n\",","    \"pitch_arsenal = cy_young_pitch_mix[['Player', 'Season', 'pitch_type']].groupby(['Player', 'Season']).count()\\n\",","    \"fig = plt.figure()\\n\",","    \"\\n\",","    \"##histogram no legend\\n\",","    \"ax = sns.histplot(data = pitch_arsenal, legend = False, binrange = (3, 6.5))\\n\",","    \"ax.set_xlabel('Number of Pitches')\\n\",","    \"ax.set_ylabel('Count')\\n\",","    \"ax.set_title('Number of Pitches in Arsenal of Cy Young Winners 2010-19')\\n\",","    \"\\n\",","    \"fig.savefig('CyYoungArsenalCount.jpg')\"","   ]","  },","  {","   \"cell_type\": \"code\",","   \"execution_count\": 90,","   \"id\": \"67c0929a-938e-4bfe-b502-a448a77f4df7\",","   \"metadata\": {},","   \"outputs\": [","    {","     \"name\": \"stderr\",","     \"output_type\": \"stream\",","     \"text\": [","      \"C:\\\\Users\\\\Andrew Fish\\\\AppData\\\\Local\\\\Temp\\\\ipykernel_6068\\\\232113050.py:4: FutureWarning: \\n\",","      \"\\n\",","      \"Passing `palette` without assigning `hue` is deprecated and will be removed in v0.14.0. Assign the `x` variable to `hue` and set `legend=False` for the same effect.\\n\",","      \"\\n\",","      \"  ax = sns.boxplot(x = 'pitch_type', y = 'Velocity', data = cy_young_pitch_mix, palette = 'colorblind')\\n\"","     ]","    },","    {","     \"data\": {","      \"text/plain\": [","       \"Text(0.5, 0, 'Pitch Type')\"","      ]","     },","     \"execution_count\": 90,","     \"metadata\": {},","     \"output_type\": \"execute_result\"","    },","    {","     \"data\": {","      \"text/plain\": [","       \"Text(0, 0.5, 'Average Velocity')\"","      ]","     },","     \"execution_count\": 90,","     \"metadata\": {},","     \"output_type\": \"execute_result\"","    },","    {","     \"data\": {","      \"text/plain\": [","       \"Text(0.5, 1.0, 'Average Velocity by Pitch Type - Cy Young Winners 2010-19')\"","      ]","     },","     \"execution_count\": 90,","     \"metadata\": {},","     \"output_type\": \"execute_result\"","    },","    {","     \"data\": {","      \"image/png\": \"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\",","      \"text/plain\": [","       \"\u003cFigure size 640x480 with 1 Axes\u003e\"","      ]","     },","     \"metadata\": {},","     \"output_type\": \"display_data\"","    }","   ],","   \"source\": [","    \"fig = plt.figure()\\n\",","    \"\\n\",","    \"##boxplot shows average velocity by pitch type\\n\",","    \"ax = sns.boxplot(x = 'pitch_type', y = 'Velocity', data = cy_young_pitch_mix, palette = 'colorblind')\\n\",","    \"ax.set_xlabel('Pitch Type')\\n\",","    \"ax.set_ylabel('Average Velocity')\\n\",","    \"ax.set_title('Average Velocity by Pitch Type - Cy Young Winners 2010-19')\\n\",","    \"\\n\",","    \"fig.savefig('CyYoungPitchVelo.jpg')\"","   ]","  },","  {","   \"cell_type\": \"code\",","   \"execution_count\": 91,","   \"id\": \"52c81c02-5077-47ad-aa1f-ea53be5370d4\",","   \"metadata\": {},","   \"outputs\": [","    {","     \"data\": {","      \"text/plain\": [","       \"\u003cAxes: xlabel='pitch_type', ylabel='Usage'\u003e\"","      ]","     },","     \"execution_count\": 91,","     \"metadata\": {},","     \"output_type\": \"execute_result\"","    },","    {","     \"data\": {","      \"text/plain\": [","       \"Text(0.5, 0, '')\"","      ]","     },","     \"execution_count\": 91,","     \"metadata\": {},","     \"output_type\": \"execute_result\"","    },","    {","     \"data\": {","      \"text/plain\": [","       \"Text(0, 0.5, 'Average Percent Thrown')\"","      ]","     },","     \"execution_count\": 91,","     \"metadata\": {},","     \"output_type\": \"execute_result\"","    },","    {","     \"data\": {","      \"text/plain\": [","       \"\u003cAxes: xlabel='pitch_type', ylabel='AVG'\u003e\"","      ]","     },","     \"execution_count\": 91,","     \"metadata\": {},","     \"output_type\": \"execute_result\"","    },","    {","     \"data\": {","      \"text/plain\": [","       \"Text(0.5, 0, 'Pitch Type')\"","      ]","     },","     \"execution_count\": 91,","     \"metadata\": {},","     \"output_type\": \"execute_result\"","    },","    {","     \"data\": {","      \"text/plain\": [","       \"Text(0, 0.5, 'Opponent AVG')\"","      ]","     },","     \"execution_count\": 91,","     \"metadata\": {},","     \"output_type\": \"execute_result\"","    },","    {","     \"data\": {","      \"text/plain\": [","       \"Text(0.5, 0.98, 'Pitch Usage and Opponent Average - Cy Young Winners 2010-19')\"","      ]","     },","     \"execution_count\": 91,","     \"metadata\": {},","     \"output_type\": \"execute_result\"","    },","    {","     \"data\": {","      \"image/png\": \"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\",","      \"text/plain\": [","       \"\u003cFigure size 640x480 with 2 Axes\u003e\"","      ]","     },","     \"metadata\": {},","     \"output_type\": \"display_data\"","    }","   ],","   \"source\": [","    \"fig, axes = plt.subplots(2, 1)\\n\",","    \"\\n\",","    \"##bar chart of usage by pitch type\\n\",","    \"sns.barplot(x = 'pitch_type', y = 'Usage', ax = axes[0], data = cy_young_pitch_mix, color = 'green', errorbar = None)\\n\",","    \"axes[0].set_xlabel('')\\n\",","    \"axes[0].set_ylabel('Average Percent Thrown')\\n\",","    \"\\n\",","    \"##bar chart opponenet avg by pitch type\\n\",","    \"sns.barplot(x = 'pitch_type', y = 'AVG', ax = axes[1], data = cy_young_pitch_mix, color = 'red', errorbar = None)\\n\",","    \"axes[1].set_xlabel('Pitch Type')\\n\",","    \"axes[1].set_ylabel('Opponent AVG')\\n\",","    \"\\n\",","    \"fig.suptitle('Pitch Usage and Opponent Average - Cy Young Winners 2010-19')\\n\",","    \"\\n\",","    \"fig.savefig('CyYoungUsage\u0026AVG.jpg')\"","   ]","  }"," ],"," \"metadata\": {","  \"kernelspec\": {","   \"display_name\": \"Python 3 (ipykernel)\",","   \"language\": \"python\",","   \"name\": \"python3\"","  },","  \"language_info\": {","   \"codemirror_mode\": {","    \"name\": \"ipython\",","    \"version\": 3","   },","   \"file_extension\": \".py\",","   \"mimetype\": \"text/x-python\",","   \"name\": \"python\",","   \"nbconvert_exporter\": \"python\",","   \"pygments_lexer\": \"ipython3\",","   \"version\": \"3.12.9\"","  }"," },"," \"nbformat\": 4,"," \"nbformat_minor\": 5","}"],"stylingDirectives":null,"colorizedLines":null,"csv":null,"csvError":null,"dependabotInfo":{"showConfigurationBanner":false,"configFilePath":null,"networkDependabotPath":"/afish1110/SAL-603-Final-Project/network/updates","dismissConfigurationNoticePath":"/settings/dismiss-notice/dependabot_configuration_notice","configurationNoticeDismissed":false},"displayName":"SAL603_FinalProject-Andrew Fish.ipynb","displayUrl":"https://notebooks.githubusercontent.com/view/ipynb?browser=edge\u0026bypass_fastly=true\u0026color_mode=auto\u0026commit=902f31b2296f51977564f3003334153e60b19b70\u0026device=unknown_device\u0026docs_host=https%3A%2F%2Fdocs.github.com\u0026enc_url=68747470733a2f2f7261772e67697468756275736572636f6e74656e742e636f6d2f6166697368313131302f53414c2d3630332d46696e616c2d50726f6a6563742f393032663331623232393666353139373735363466333030333333343135336536306231396237302f53414c3630335f46696e616c50726f6a6563742d416e64726577253230466973682e6970796e62\u0026logged_in=true\u0026nwo=afish1110%2FSAL-603-Final-Project\u0026path=SAL603_FinalProject-Andrew+Fish.ipynb\u0026platform=windows\u0026repository_id=928035797\u0026repository_type=Repository\u0026version=133","headerInfo":{"blobSize":"107 KB","deleteTooltip":"Fork this repository and delete the file","editTooltip":"Fork this repository and edit the file","ghDesktopPath":"x-github-client://openRepo/https://github.com/afish1110/SAL-603-Final-Project?branch=main\u0026filepath=SAL603_FinalProject-Andrew%20Fish.ipynb","isGitLfs":false,"onBranch":true,"shortPath":"865d71a","siteNavLoginPath":"/login?return_to=https%3A%2F%2Fgithub.com%2Fafish1110%2FSAL-603-Final-Project%2Fblob%2Fmain%2FSAL603_FinalProject-Andrew%2520Fish.ipynb","isCSV":false,"isRichtext":false,"toc":null,"lineInfo":{"truncatedLoc":"499","truncatedSloc":"499"},"mode":"file"},"image":false,"isCodeownersFile":null,"isPlain":false,"isValidLegacyIssueTemplate":false,"issueTemplate":null,"discussionTemplate":null,"language":"Jupyter Notebook","languageID":185,"large":false,"planSupportInfo":{"repoIsFork":null,"repoOwnedByCurrentUser":null,"requestFullPath":"/afish1110/SAL-603-Final-Project/blob/main/SAL603_FinalProject-Andrew%20Fish.ipynb","showFreeOrgGatedFeatureMessage":null,"showPlanSupportBanner":null,"upgradeDataAttributes":null,"upgradePath":null},"publishBannersInfo":{"dismissActionNoticePath":"/settings/dismiss-notice/publish_action_from_dockerfile","releasePath":"/afish1110/SAL-603-Final-Project/releases/new?marketplace=true","showPublishActionBanner":false},"rawBlobUrl":"https://github.com/afish1110/SAL-603-Final-Project/raw/refs/heads/main/SAL603_FinalProject-Andrew%20Fish.ipynb","renderImageOrRaw":false,"richText":null,"renderedFileInfo":{"identityUUID":"031c3886-5310-43ad-9b3b-ce182279c705","renderFileType":"ipynb","size":109542},"shortPath":null,"symbolsEnabled":true,"tabSize":8,"topBannersInfo":{"overridingGlobalFundingFile":false,"globalPreferredFundingPath":null,"showInvalidCitationWarning":false,"citationHelpUrl":"https://docs.github.com/github/creating-cloning-and-archiving-repositories/creating-a-repository-on-github/about-citation-files","actionsOnboardingTip":null},"truncated":false,"viewable":true,"workflowRedirectUrl":null,"symbols":{"timed_out":false,"not_analyzed":true,"symbols":[]}},"copilotInfo":{"documentationUrl":"https://docs.github.com/copilot/overview-of-github-copilot/about-github-copilot-for-individuals","notices":{"codeViewPopover":{"dismissed":false,"dismissPath":"/settings/dismiss-notice/code_view_copilot_popover"}},"userAccess":{"hasSubscriptionEnded":false,"orgHasCFBAccess":false,"userHasCFIAccess":false,"userHasOrgs":false,"userIsOrgAdmin":false,"userIsOrgMember":false,"business":null,"featureRequestInfo":null}},"copilotAccessAllowed":false,"modelsAccessAllowed":false,"csrf_tokens":{"/afish1110/SAL-603-Final-Project/branches":{"post":"3AC1zFK5-cZHWpNCidbD3uuTApoejKnGQ1IIFpZB5or_gAaJBqzipx7Xmi0LQI-Bt8KF81UGMUqKYTfzZ0tZvw"},"/repos/preferences":{"post":"bQnXL4fAVxFklRNHrKQTgp7XmMXNVCbT-NWsDTyQoUQ9eh-UloHMLj2PI_liunHl_o8_4y8Aljax_g81gjvLag"}}},"title":"SAL-603-Final-Project/SAL603_FinalProject-Andrew Fish.ipynb at main · afish1110/SAL-603-Final-Project","appPayload":{"helpUrl":"https://docs.github.com","findFileWorkerPath":"/assets-cdn/worker/find-file-worker-7d7eb7c71814.js","findInFileWorkerPath":"/assets-cdn/worker/find-in-file-worker-96e76d5fdb2c.js","githubDevUrl":"https://github.dev/","enabled_features":{"code_nav_ui_events":false,"overview_shared_code_dropdown_button":false,"react_blob_overlay":true,"copilot_conversational_ux_embedding_update":false,"copilot_smell_icebreaker_ux":true,"accessible_code_button":true}}}</script>
  <div data-target="react-app.reactRoot"><style data-styled="true" data-styled-version="5.3.11">.hOfjFo{padding:0;}/*!sc*/
.oDGAe{max-width:100%;margin-left:auto;margin-right:auto;display:-webkit-box;display:-webkit-flex;display:-ms-flexbox;display:flex;-webkit-flex-wrap:wrap;-ms-flex-wrap:wrap;flex-wrap:wrap;}/*!sc*/
.kowOcT{display:-webkit-box;display:-webkit-flex;display:-ms-flexbox;display:flex;-webkit-flex:1 1 100%;-ms-flex:1 1 100%;flex:1 1 100%;-webkit-flex-wrap:wrap;-ms-flex-wrap:wrap;flex-wrap:wrap;max-width:100%;}/*!sc*/
.gISSDQ{width:100%;}/*!sc*/
@media screen and (min-width:544px){.gISSDQ{width:100%;}}/*!sc*/
@media screen and (min-width:768px){.gISSDQ{width:auto;}}/*!sc*/
.cMnVPV{display:-webkit-box;display:-webkit-flex;display:-ms-flexbox;display:flex;-webkit-order:1;-ms-flex-order:1;order:1;width:100%;margin-left:0;margin-right:0;-webkit-flex-direction:column-reverse;-ms-flex-direction:column-reverse;flex-direction:column-reverse;margin-bottom:0;min-width:0;}/*!sc*/
@media screen and (min-width:768px){.cMnVPV{width:auto;margin-top:0 !important;margin-bottom:0 !important;position:-webkit-sticky;position:sticky;top:0px;max-height:100vh !important;-webkit-flex-direction:row;-ms-flex-direction:row;flex-direction:row;margin-right:0;height:100vh;}}/*!sc*/
@media print,screen and (max-width:1011px) and (min-width:768px){.cMnVPV{display:none;}}/*!sc*/
.hPvFuC{margin-left:0;margin-right:0;display:none;margin-top:0;}/*!sc*/
@media screen and (min-width:768px){.hPvFuC{margin-left:0 !important;margin-right:0 !important;}}/*!sc*/
.fFSoPl{--pane-min-width:256px;--pane-max-width-diff:511px;--pane-max-width:calc(100vw - var(--pane-max-width-diff));width:100%;padding:0;}/*!sc*/
@media screen and (min-width:544px){}/*!sc*/
@media screen and (min-width:768px){.fFSoPl{width:clamp(var(--pane-min-width),var(--pane-width),var(--pane-max-width));overflow:auto;}}/*!sc*/
@media screen and (min-width:1280px){.fFSoPl{--pane-max-width-diff:959px;}}/*!sc*/
.birIjn{max-height:100%;height:100%;display:-webkit-box;display:-webkit-flex;display:-ms-flexbox;display:flex;-webkit-flex-direction:column;-ms-flex-direction:column;flex-direction:column;}/*!sc*/
@media screen and (max-width:768px){.birIjn{display:none;}}/*!sc*/
@media screen and (min-width:768px){.birIjn{max-height:100vh;height:100vh;}}/*!sc*/
.hNNCwk{display:-webkit-box;display:-webkit-flex;display:-ms-flexbox;display:flex;-webkit-flex-direction:column;-ms-flex-direction:column;flex-direction:column;-webkit-align-items:center;-webkit-box-align:center;-ms-flex-align:center;align-items:center;padding-left:16px;padding-right:16px;padding-bottom:8px;padding-top:16px;}/*!sc*/
.jfIeyl{display:-webkit-box;display:-webkit-flex;display:-ms-flexbox;display:flex;width:100%;margin-bottom:16px;-webkit-align-items:center;-webkit-box-align:center;-ms-flex-align:center;align-items:center;}/*!sc*/
.XosP{display:-webkit-box;display:-webkit-flex;display:-ms-flexbox;display:flex;font-size:14px;}/*!sc*/
.bCKfWo[data-size="medium"]{color:var(--fgColor-muted,var(--color-fg-muted,#656d76));padding-left:8px;padding-right:8px;display:none;}/*!sc*/
@media screen and (max-width:768px){.bCKfWo[data-size="medium"]{display:block;}}/*!sc*/
.gUkoLg{-webkit-box-pack:center;-webkit-justify-content:center;-ms-flex-pack:center;justify-content:center;}/*!sc*/
.kOkWgo{font-size:16px;margin-left:8px;}/*!sc*/
.lhbroM{margin-left:24px;margin-right:24px;display:-webkit-box;display:-webkit-flex;display:-ms-flexbox;display:flex;width:100%;}/*!sc*/
.khzwtX{-webkit-box-flex:1;-webkit-flex-grow:1;-ms-flex-positive:1;flex-grow:1;}/*!sc*/
.gMOVLe[data-size="medium"]{display:-webkit-box;display:-webkit-flex;display:-ms-flexbox;display:flex;min-width:0;}/*!sc*/
.gMOVLe[data-size="medium"] svg{color:var(--fgColor-muted,var(--color-fg-muted,#656d76));}/*!sc*/
.gMOVLe[data-size="medium"] > span{width:inherit;}/*!sc*/
.bZBlpz{display:-webkit-box;display:-webkit-flex;display:-ms-flexbox;display:flex;width:100%;}/*!sc*/
.lhTYNA{margin-right:4px;color:var(--fgColor-muted,var(--color-fg-muted,#656d76));}/*!sc*/
.ffLUq{font-size:14px;min-width:0;overflow:hidden;text-overflow:ellipsis;white-space:nowrap;}/*!sc*/
.eTeVqd{margin-left:8px;white-space:nowrap;}/*!sc*/
.eTeVqd:hover button:not(:hover){border-left-color:var(--button-default-borderColor-hover,var(--color-btn-hover-border));}/*!sc*/
.fhbevO[data-size="medium"][data-no-visuals]{color:var(--fgColor-muted,var(--color-fg-subtle,#6e7781));border-top-right-radius:0;border-bottom-right-radius:0;border-right:0;}/*!sc*/
.fCjIQM[data-size="medium"][data-no-visuals]{color:var(--fgColor-muted,var(--color-fg-subtle,#6e7781));font-size:14px;font-weight:400;-webkit-flex-shrink:0;-ms-flex-negative:0;flex-shrink:0;border-top-left-radius:0;border-bottom-left-radius:0;}/*!sc*/
.ftzGWg{margin-left:16px;margin-right:16px;margin-bottom:12px;}/*!sc*/
@media screen and (max-width:768px){.ftzGWg{display:none;}}/*!sc*/
.dItACB{margin-right:-6px;}/*!sc*/
.gjtfVk{-webkit-box-flex:1;-webkit-flex-grow:1;-ms-flex-positive:1;flex-grow:1;max-height:100% !important;overflow-y:auto;-webkit-scrollbar-gutter:stable;-moz-scrollbar-gutter:stable;-ms-scrollbar-gutter:stable;scrollbar-gutter:stable;}/*!sc*/
@media screen and (max-width:768px){.gjtfVk{display:none;}}/*!sc*/
.cOxzdh{padding-left:16px;padding-right:16px;padding-bottom:8px;}/*!sc*/
.bTBnTW{height:100%;position:relative;display:none;margin-left:0;}/*!sc*/
.bHLmSv{position:absolute;inset:0 -2px;cursor:col-resize;background-color:transparent;-webkit-transition-delay:0.1s;transition-delay:0.1s;}/*!sc*/
.bHLmSv:hover{background-color:var(--bgColor-neutral-muted,var(--color-neutral-muted,rgba(175,184,193,0.2)));}/*!sc*/
.iKqMNA{display:-webkit-box;display:-webkit-flex;display:-ms-flexbox;display:flex;-webkit-flex-direction:column;-ms-flex-direction:column;flex-direction:column;-webkit-order:2;-ms-flex-order:2;order:2;-webkit-flex-basis:0;-ms-flex-preferred-size:0;flex-basis:0;-webkit-box-flex:1;-webkit-flex-grow:1;-ms-flex-positive:1;flex-grow:1;-webkit-flex-shrink:1;-ms-flex-negative:1;flex-shrink:1;min-width:1px;margin-right:auto;}/*!sc*/
@media print{.iKqMNA{display:-webkit-box !important;display:-webkit-flex !important;display:-ms-flexbox !important;display:flex !important;}}/*!sc*/
.FxAyp{width:100%;max-width:100%;margin-left:auto;margin-right:auto;-webkit-box-flex:1;-webkit-flex-grow:1;-ms-flex-positive:1;flex-grow:1;padding:0;}/*!sc*/
.leYMvG{margin-left:auto;margin-right:auto;-webkit-flex-direction:column;-ms-flex-direction:column;flex-direction:column;padding-bottom:40px;max-width:100%;margin-top:0;}/*!sc*/
.KMPzq{display:inherit;}/*!sc*/
.hfKjHv{width:100%;}/*!sc*/
.gZWyZE{display:-webkit-box;display:-webkit-flex;display:-ms-flexbox;display:flex;gap:8px;-webkit-flex-direction:column;-ms-flex-direction:column;flex-direction:column;width:100%;}/*!sc*/
.dwYKDk{display:-webkit-box;display:-webkit-flex;display:-ms-flexbox;display:flex;-webkit-align-items:start;-webkit-box-align:start;-ms-flex-align:start;align-items:start;-webkit-box-pack:justify;-webkit-justify-content:space-between;-ms-flex-pack:justify;justify-content:space-between;gap:8px;}/*!sc*/
.iDtIiT{-webkit-align-self:center;-ms-flex-item-align:center;align-self:center;display:-webkit-box;display:-webkit-flex;display:-ms-flexbox;display:flex;padding-right:8px;min-width:0;}/*!sc*/
.cEytCf{display:-webkit-box;display:-webkit-flex;display:-ms-flexbox;display:flex;-webkit-flex-direction:row;-ms-flex-direction:row;flex-direction:row;font-size:16px;min-width:0;-webkit-flex-shrink:1;-ms-flex-negative:1;flex-shrink:1;-webkit-flex-wrap:wrap;-ms-flex-wrap:wrap;flex-wrap:wrap;max-width:100%;-webkit-align-items:center;-webkit-box-align:center;-ms-flex-align:center;align-items:center;}/*!sc*/
.fzFXnm{max-width:100%;}/*!sc*/
.iMnkmv{max-width:100%;list-style:none;display:inline-block;}/*!sc*/
.ghzDag{display:inline-block;max-width:100%;}/*!sc*/
.kHuKdh{font-weight:600;}/*!sc*/
.jGhzSQ{font-weight:600;display:inline-block;max-width:100%;font-size:16px;}/*!sc*/
.faNtbn{min-height:32px;display:-webkit-box;display:-webkit-flex;display:-ms-flexbox;display:flex;-webkit-align-items:start;-webkit-box-align:start;-ms-flex-align:start;align-items:start;}/*!sc*/
.dwNhzn[data-size="medium"][data-no-visuals]{border-top-left-radius:0;border-bottom-left-radius:0;display:none;}/*!sc*/
.fGwBZA[data-size="medium"][data-no-visuals]{color:var(--fgColor-muted,var(--color-fg-muted,#656d76));}/*!sc*/
.dJxjrT{margin-left:16px;margin-right:16px;}/*!sc*/
.eFxKDQ{display:-webkit-box;display:-webkit-flex;display:-ms-flexbox;display:flex;-webkit-flex-direction:column;-ms-flex-direction:column;flex-direction:column;}/*!sc*/
.dzCJzi{display:-webkit-box;display:-webkit-flex;display:-ms-flexbox;display:flex;-webkit-flex-direction:row;-ms-flex-direction:row;flex-direction:row;-webkit-flex-wrap:wrap;-ms-flex-wrap:wrap;flex-wrap:wrap;-webkit-box-pack:justify;-webkit-justify-content:space-between;-ms-flex-pack:justify;justify-content:space-between;-webkit-align-items:center;-webkit-box-align:center;-ms-flex-align:center;align-items:center;gap:8px;min-width:273px;padding:8px;}/*!sc*/
@media screen and (min-width:544px){.dzCJzi{-webkit-flex-wrap:nowrap;-ms-flex-wrap:nowrap;flex-wrap:nowrap;}}/*!sc*/
.ldRxiI{display:-webkit-box;display:-webkit-flex;display:-ms-flexbox;display:flex;-webkit-flex-direction:row;-ms-flex-direction:row;flex-direction:row;}/*!sc*/
.fVkfyA{width:100%;height:-webkit-fit-content;height:-moz-fit-content;height:fit-content;min-width:0;margin-right:0;}/*!sc*/
.gNAmSV{height:40px;padding-left:4px;padding-bottom:16px;}/*!sc*/
.jNEwzY{-webkit-align-items:center;-webkit-box-align:center;-ms-flex-align:center;align-items:center;}/*!sc*/
.bsDwxw{font-size:12px;-webkit-flex:auto;-ms-flex:auto;flex:auto;padding-right:16px;color:var(--fgColor-muted,var(--color-fg-muted,#656d76));min-width:0;}/*!sc*/
.kXyYCF[data-size="small"]{color:var(--fgColor-default,var(--color-fg-default,#1F2328));display:none;}/*!sc*/
@media screen and (min-width:544px){.kXyYCF[data-size="small"]{display:none;}}/*!sc*/
@media screen and (min-width:768px){.kXyYCF[data-size="small"]{display:none;}}/*!sc*/
@media screen and (min-width:1012px){.kXyYCF[data-size="small"]{display:none;}}/*!sc*/
@media screen and (min-width:1280px){.kXyYCF[data-size="small"]{display:block;}}/*!sc*/
.jdLMhu{top:0px;z-index:4;background:var(--bgColor-default,var(--color-canvas-default));position:-webkit-sticky;position:sticky;}/*!sc*/
.tOISc{display:-webkit-box;display:-webkit-flex;display:-ms-flexbox;display:flex;-webkit-flex-direction:column;-ms-flex-direction:column;flex-direction:column;width:100%;position:absolute;}/*!sc*/
.hqwSEx{display:none;min-width:0;padding-top:8px;padding-bottom:8px;}/*!sc*/
.lzKZY{margin-right:8px;margin-left:16px;text-overflow:ellipsis;overflow:hidden;display:-webkit-box;display:-webkit-flex;display:-ms-flexbox;display:flex;-webkit-flex-direction:row;-ms-flex-direction:row;flex-direction:row;-webkit-align-items:center;-webkit-box-align:center;-ms-flex-align:center;align-items:center;-webkit-box-pack:justify;-webkit-justify-content:space-between;-ms-flex-pack:justify;justify-content:space-between;width:100%;}/*!sc*/
.fHind{display:-webkit-box;display:-webkit-flex;display:-ms-flexbox;display:flex;-webkit-flex-direction:row;-ms-flex-direction:row;flex-direction:row;font-size:14px;min-width:0;-webkit-flex-shrink:1;-ms-flex-negative:1;flex-shrink:1;-webkit-flex-wrap:wrap;-ms-flex-wrap:wrap;flex-wrap:wrap;max-width:100%;-webkit-align-items:center;-webkit-box-align:center;-ms-flex-align:center;align-items:center;}/*!sc*/
.dnZoUW{font-weight:600;display:inline-block;max-width:100%;font-size:14px;}/*!sc*/
.jRZWlf[data-size="small"]{color:var(--fgColor-default,var(--color-fg-default,#1F2328));margin-left:8px;}/*!sc*/
.kTvpNk{padding-left:8px;padding-top:8px;padding-bottom:8px;display:-webkit-box;display:-webkit-flex;display:-ms-flexbox;display:flex;-webkit-flex:1;-ms-flex:1;flex:1;-webkit-align-items:center;-webkit-box-align:center;-ms-flex-align:center;align-items:center;-webkit-box-pack:justify;-webkit-justify-content:space-between;-ms-flex-pack:justify;justify-content:space-between;background-color:var(--bgColor-muted,var(--color-canvas-subtle,#f6f8fa));border:1px solid var(--borderColor-default,var(--color-border-default));border-radius:6px 6px 0px 0px;}/*!sc*/
.iNMjfP{display:-webkit-box;display:-webkit-flex;display:-ms-flexbox;display:flex;-webkit-align-items:center;-webkit-box-align:center;-ms-flex-align:center;align-items:center;gap:8px;min-width:0;}/*!sc*/
.fefCSX{display:block;position:relative;-webkit-box-flex:1;-webkit-flex-grow:1;-ms-flex-positive:1;flex-grow:1;margin-top:-1px;margin-bottom:-1px;--separator-color:transparent;}/*!sc*/
.fefCSX:not(:last-child){margin-right:1px;}/*!sc*/
.fefCSX:not(:last-child):after{background-color:var(--separator-color);content:"";position:absolute;right:-2px;top:8px;bottom:8px;width:1px;}/*!sc*/
.fefCSX:focus-within:has(:focus-visible){--separator-color:transparent;}/*!sc*/
.fefCSX:first-child{margin-left:-1px;}/*!sc*/
.fefCSX:last-child{margin-right:-1px;}/*!sc*/
.idgUkN{display:block;position:relative;-webkit-box-flex:1;-webkit-flex-grow:1;-ms-flex-positive:1;flex-grow:1;margin-top:-1px;margin-bottom:-1px;--separator-color:var(--borderColor-default,var(--color-border-default,#d0d7de));}/*!sc*/
.idgUkN:not(:last-child){margin-right:1px;}/*!sc*/
.idgUkN:not(:last-child):after{background-color:var(--separator-color);content:"";position:absolute;right:-2px;top:8px;bottom:8px;width:1px;}/*!sc*/
.idgUkN:focus-within:has(:focus-visible){--separator-color:transparent;}/*!sc*/
.idgUkN:first-child{margin-left:-1px;}/*!sc*/
.idgUkN:last-child{margin-right:-1px;}/*!sc*/
.kcLCKF{display:-webkit-box;display:-webkit-flex;display:-ms-flexbox;display:flex;-webkit-align-items:center;-webkit-box-align:center;-ms-flex-align:center;align-items:center;gap:8px;margin-right:8px;}/*!sc*/
.kVWtTz{gap:8px;}/*!sc*/
.gWqxTd{padding-left:8px;padding-right:8px;}/*!sc*/
.gWqxTd linkButtonSx:hover:not([disabled]){-webkit-text-decoration:none;text-decoration:none;}/*!sc*/
.gWqxTd linkButtonSx:focus:not([disabled]){-webkit-text-decoration:none;text-decoration:none;}/*!sc*/
.gWqxTd linkButtonSx:active:not([disabled]){-webkit-text-decoration:none;text-decoration:none;}/*!sc*/
.ivobqY[data-size="small"][data-no-visuals]{border-top-left-radius:0;border-bottom-left-radius:0;}/*!sc*/
.kilKoS[data-size="small"][data-no-visuals]{border-top-right-radius:0;border-bottom-right-radius:0;border-right-width:0;}/*!sc*/
.kilKoS[data-size="small"][data-no-visuals]:hover:not([disabled]){-webkit-text-decoration:none;text-decoration:none;}/*!sc*/
.kilKoS[data-size="small"][data-no-visuals]:focus:not([disabled]){-webkit-text-decoration:none;text-decoration:none;}/*!sc*/
.kilKoS[data-size="small"][data-no-visuals]:active:not([disabled]){-webkit-text-decoration:none;text-decoration:none;}/*!sc*/
.ffkqe[data-size="small"][data-no-visuals]{color:var(--fgColor-muted,var(--color-fg-muted,#656d76));}/*!sc*/
.hGyMdv{border:1px solid;border-top:none;border-color:var(--borderColor-default,var(--color-border-default,#d0d7de));border-radius:0px 0px 6px 6px;min-width:273px;}/*!sc*/
.iWAocR{background-color:var(--bgColor-default,var(--color-canvas-default));border:0px;border-width:0;border-radius:0px 0px 6px 6px;padding:0;min-width:0;margin-top:46px;overflow:auto;}/*!sc*/
.cCoXib{position:fixed;top:0;right:0;height:100%;width:15px;-webkit-transition:-webkit-transform 0.3s;-webkit-transition:transform 0.3s;transition:transform 0.3s;z-index:1;}/*!sc*/
.cCoXib:hover{-webkit-transform:scaleX(1.5);-ms-transform:scaleX(1.5);transform:scaleX(1.5);}/*!sc*/
.fgsa-DI{display:-webkit-box;display:-webkit-flex;display:-ms-flexbox;display:flex;-webkit-flex-direction:column;-ms-flex-direction:column;flex-direction:column;-webkit-align-items:center;-webkit-box-align:center;-ms-flex-align:center;align-items:center;padding-top:16px;padding-bottom:16px;}/*!sc*/
data-styled.g1[id="Box-sc-g0xbh4-0"]{content:"hOfjFo,oDGAe,kowOcT,gISSDQ,cMnVPV,hPvFuC,fFSoPl,birIjn,hNNCwk,jfIeyl,XosP,bCKfWo,gUkoLg,kOkWgo,lhbroM,khzwtX,gMOVLe,bZBlpz,lhTYNA,ffLUq,eTeVqd,fhbevO,fCjIQM,ftzGWg,dItACB,gjtfVk,cOxzdh,bTBnTW,bHLmSv,iKqMNA,FxAyp,leYMvG,KMPzq,hfKjHv,gZWyZE,dwYKDk,iDtIiT,cEytCf,fzFXnm,iMnkmv,ghzDag,kHuKdh,jGhzSQ,faNtbn,dwNhzn,fGwBZA,dJxjrT,eFxKDQ,dzCJzi,ldRxiI,fVkfyA,gNAmSV,jNEwzY,bsDwxw,kXyYCF,jdLMhu,tOISc,hqwSEx,lzKZY,fHind,dnZoUW,jRZWlf,kTvpNk,iNMjfP,fefCSX,idgUkN,kcLCKF,kVWtTz,gWqxTd,ivobqY,kilKoS,ffkqe,hGyMdv,iWAocR,cCoXib,fgsa-DI,"}/*!sc*/
.eMMFM{min-width:0;}/*!sc*/
.eMMFM:where([data-size='small']){font-size:var(--text-body-size-small,0.75rem);line-height:var(--text-body-lineHeight-small,1.6666);}/*!sc*/
.eMMFM:where([data-size='medium']){font-size:var(--text-body-size-medium,0.875rem);line-height:var(--text-body-lineHeight-medium,1.4285);}/*!sc*/
.eMMFM:where([data-size='large']){font-size:var(--text-body-size-large,1rem);line-height:var(--text-body-lineHeight-large,1.5);}/*!sc*/
.eMMFM:where([data-weight='light']){font-weight:var(--base-text-weight-light,300);}/*!sc*/
.eMMFM:where([data-weight='normal']){font-weight:var(--base-text-weight-normal,400);}/*!sc*/
.eMMFM:where([data-weight='medium']){font-weight:var(--base-text-weight-medium,500);}/*!sc*/
.eMMFM:where([data-weight='semibold']){font-weight:var(--base-text-weight-semibold,600);}/*!sc*/
.HlHVj{padding-left:4px;padding-right:4px;font-weight:400;color:var(--fgColor-muted,var(--color-fg-muted,#656d76));font-size:16px;}/*!sc*/
.HlHVj:where([data-size='small']){font-size:var(--text-body-size-small,0.75rem);line-height:var(--text-body-lineHeight-small,1.6666);}/*!sc*/
.HlHVj:where([data-size='medium']){font-size:var(--text-body-size-medium,0.875rem);line-height:var(--text-body-lineHeight-medium,1.4285);}/*!sc*/
.HlHVj:where([data-size='large']){font-size:var(--text-body-size-large,1rem);line-height:var(--text-body-lineHeight-large,1.5);}/*!sc*/
.HlHVj:where([data-weight='light']){font-weight:var(--base-text-weight-light,300);}/*!sc*/
.HlHVj:where([data-weight='normal']){font-weight:var(--base-text-weight-normal,400);}/*!sc*/
.HlHVj:where([data-weight='medium']){font-weight:var(--base-text-weight-medium,500);}/*!sc*/
.HlHVj:where([data-weight='semibold']){font-weight:var(--base-text-weight-semibold,600);}/*!sc*/
.lauzFl{padding-left:4px;padding-right:4px;font-weight:400;color:var(--fgColor-muted,var(--color-fg-muted,#656d76));font-size:14px;}/*!sc*/
.lauzFl:where([data-size='small']){font-size:var(--text-body-size-small,0.75rem);line-height:var(--text-body-lineHeight-small,1.6666);}/*!sc*/
.lauzFl:where([data-size='medium']){font-size:var(--text-body-size-medium,0.875rem);line-height:var(--text-body-lineHeight-medium,1.4285);}/*!sc*/
.lauzFl:where([data-size='large']){font-size:var(--text-body-size-large,1rem);line-height:var(--text-body-lineHeight-large,1.5);}/*!sc*/
.lauzFl:where([data-weight='light']){font-weight:var(--base-text-weight-light,300);}/*!sc*/
.lauzFl:where([data-weight='normal']){font-weight:var(--base-text-weight-normal,400);}/*!sc*/
.lauzFl:where([data-weight='medium']){font-weight:var(--base-text-weight-medium,500);}/*!sc*/
.lauzFl:where([data-weight='semibold']){font-weight:var(--base-text-weight-semibold,600);}/*!sc*/
data-styled.g5[id="Text__StyledText-sc-17v1xeu-0"]{content:"eMMFM,HlHVj,lauzFl,"}/*!sc*/
.brGdpi{position:absolute;width:1px;height:1px;padding:0;margin:-1px;overflow:hidden;-webkit-clip:rect(0,0,0,0);clip:rect(0,0,0,0);white-space:nowrap;border-width:0;}/*!sc*/
data-styled.g6[id="_VisuallyHidden__VisuallyHidden-sc-11jhm7a-0"]{content:"brGdpi,"}/*!sc*/
.jkNcAv{border:0;font-size:inherit;font-family:inherit;background-color:transparent;-webkit-appearance:none;color:inherit;width:100%;}/*!sc*/
.jkNcAv:focus{outline:0;}/*!sc*/
data-styled.g13[id="UnstyledTextInput__ToggledUnstyledTextInput-sc-14ypya-0"]{content:"jkNcAv,"}/*!sc*/
.hLzFvi{font-size:14px;line-height:var(--base-size-20);color:var(--fgColor-default,var(--color-fg-default,#1F2328));vertical-align:middle;background-color:var(--bgColor-default,var(--color-canvas-default,#ffffff));border:1px solid var(--control-borderColor-rest,var(--borderColor-default,var(--color-border-default,#d0d7de)));border-radius:6px;outline:none;box-shadow:var(--shadow-inset,var(--color-primer-shadow-inset,inset 0 1px 0 rgba(208,215,222,0.2)));display:-webkit-inline-box;display:-webkit-inline-flex;display:-ms-inline-flexbox;display:inline-flex;-webkit-align-items:stretch;-webkit-box-align:stretch;-ms-flex-align:stretch;align-items:stretch;min-height:var(--base-size-32);overflow:hidden;--inner-action-size:var(--base-size-24);}/*!sc*/
.hLzFvi input,.hLzFvi textarea{cursor:text;}/*!sc*/
.hLzFvi select{cursor:pointer;}/*!sc*/
.hLzFvi input::-webkit-input-placeholder,.hLzFvi textarea::-webkit-input-placeholder,.hLzFvi select::-webkit-input-placeholder{color:var(---control-fgColor-placeholder,var(--fgColor-muted,var(--color-fg-muted,#656d76)));}/*!sc*/
.hLzFvi input::-moz-placeholder,.hLzFvi textarea::-moz-placeholder,.hLzFvi select::-moz-placeholder{color:var(---control-fgColor-placeholder,var(--fgColor-muted,var(--color-fg-muted,#656d76)));}/*!sc*/
.hLzFvi input:-ms-input-placeholder,.hLzFvi textarea:-ms-input-placeholder,.hLzFvi select:-ms-input-placeholder{color:var(---control-fgColor-placeholder,var(--fgColor-muted,var(--color-fg-muted,#656d76)));}/*!sc*/
.hLzFvi input::placeholder,.hLzFvi textarea::placeholder,.hLzFvi select::placeholder{color:var(---control-fgColor-placeholder,var(--fgColor-muted,var(--color-fg-muted,#656d76)));}/*!sc*/
.hLzFvi:where([data-trailing-action][data-focused]),.hLzFvi:where(:not([data-trailing-action]):focus-within){border-color:var(--fgColor-accent,var(--color-accent-fg,#0969da));outline:2px solid var(--fgColor-accent,var(--color-accent-fg,#0969da));outline-offset:-1px;}/*!sc*/
.hLzFvi > textarea{padding:var(--base-size-12);}/*!sc*/
.hLzFvi:where([data-contrast]){background-color:var(--bgColor-inset,var(--color-canvas-inset,#f6f8fa));}/*!sc*/
.hLzFvi:where([data-disabled]){color:var(--fgColor-disabled,var(--color-primer-fg-disabled,#8c959f));background-color:var(--control-bgColor-disabled,var(--color-input-disabled-bg,rgba(175,184,193,0.2)));box-shadow:none;border-color:var(--control-borderColor-disabled,var(--borderColor-default,var(--color-border-default,#d0d7de)));}/*!sc*/
.hLzFvi:where([data-disabled]) input,.hLzFvi:where([data-disabled]) textarea,.hLzFvi:where([data-disabled]) select{cursor:not-allowed;}/*!sc*/
.hLzFvi:where([data-monospace]){font-family:var(--fontStack-monospace,SFMono-Regular,Consolas,"Liberation Mono",Menlo,Courier,monospace);}/*!sc*/
.hLzFvi:where([data-validation='error']){border-color:var(--borderColor-danger-emphasis,var(--color-danger-emphasis,#cf222e));}/*!sc*/
.hLzFvi:where([data-validation='error']):where([data-trailing-action][data-focused]),.hLzFvi:where([data-validation='error']):where(:not([data-trailing-action])):focus-within{border-color:var(--fgColor-accent,var(--color-accent-fg,#0969da));outline:2px solid var(--fgColor-accent,var(--color-accent-fg,#0969da));outline-offset:-1px;}/*!sc*/
.hLzFvi:where([data-validation='success']){border-color:var(--bgColor-success-emphasis,var(--color-success-emphasis,#1f883d));}/*!sc*/
.hLzFvi:where([data-block]){width:100%;display:-webkit-box;display:-webkit-flex;display:-ms-flexbox;display:flex;-webkit-align-self:stretch;-ms-flex-item-align:stretch;align-self:stretch;}/*!sc*/
@media (min-width:768px){.hLzFvi{font-size:var(--text-body-size-medium);}}/*!sc*/
.hLzFvi:where([data-size='small']){--inner-action-size:var(--base-size-20);min-height:var(--base-size-28);padding-top:3px;padding-right:var(--base-size-8);padding-bottom:3px;padding-left:var(--base-size-8);font-size:var(--text-body-size-small);line-height:var(--base-size-20);}/*!sc*/
.hLzFvi:where([data-size='large']){--inner-action-size:var(--base-size-28);height:var(--base-size-40);padding-top:10px;padding-right:var(--base-size-8);padding-bottom:10px;padding-left:var(--base-size-8);}/*!sc*/
.hLzFvi:where([data-variant='small']){min-height:28px;padding-top:3px;padding-right:var(--base-size-8);padding-bottom:3px;padding-left:var(--base-size-8);font-size:(--text-body-size-small);line-height:var(--base-size-20);}/*!sc*/
.hLzFvi:where([data-variant='large']){padding-top:10px;padding-right:var(--base-size-8);padding-bottom:10px;padding-left:var(--base-size-8);font-size:var(--text-title-size-medium);}/*!sc*/
.hLzFvi{display:-webkit-box;display:-webkit-flex;display:-ms-flexbox;display:flex;min-width:160px;}/*!sc*/
data-styled.g14[id="TextInputWrapper__StyledTextInputBaseWrapper-sc-1mqhpbi-0"]{content:"hLzFvi,"}/*!sc*/
.iHYdQq{background-repeat:no-repeat;background-position:right 8px center;padding-right:0;padding-left:0;}/*!sc*/
.iHYdQq > :not(:last-child){margin-right:8px;}/*!sc*/
.iHYdQq .TextInput-icon,.iHYdQq .TextInput-action{-webkit-align-self:center;-ms-flex-item-align:center;align-self:center;color:var(--fgColor-muted,var(--color-fg-muted,#656d76));-webkit-flex-shrink:0;-ms-flex-negative:0;flex-shrink:0;}/*!sc*/
.iHYdQq > input,.iHYdQq > select{padding-right:0;padding-left:0;}/*!sc*/
.iHYdQq:where([data-leading-visual]){padding-left:var(--base-size-12);}/*!sc*/
.iHYdQq:where([data-trailing-visual]:not([data-trailing-action])){padding-right:var(--base-size-12);}/*!sc*/
.iHYdQq:where(:not([data-leading-visual])) > input,.iHYdQq:where(:not([data-leading-visual])) > select{padding-left:var(--base-size-12);}/*!sc*/
.iHYdQq:where(:not([data-trailing-visual]):not([data-trailing-action])) > input,.iHYdQq:where(:not([data-trailing-visual]):not([data-trailing-action])) > select{padding-right:var(--base-size-12);}/*!sc*/
.iHYdQq{display:-webkit-box;display:-webkit-flex;display:-ms-flexbox;display:flex;min-width:160px;}/*!sc*/
data-styled.g15[id="TextInputWrapper__StyledTextInputWrapper-sc-1mqhpbi-1"]{content:"iHYdQq,"}/*!sc*/
.jOyaRH{display:none;}/*!sc*/
.jOyaRH[popover]{position:absolute;padding:0.5em 0.75em;width:-webkit-max-content;width:-moz-max-content;width:max-content;margin:auto;-webkit-clip:auto;clip:auto;white-space:normal;font:normal normal 11px/1.5 -apple-system,BlinkMacSystemFont,"Segoe UI","Noto Sans",Helvetica,Arial,sans-serif,"Apple Color Emoji","Segoe UI Emoji";-webkit-font-smoothing:subpixel-antialiased;color:var(--tooltip-fgColor,var(--fgColor-onEmphasis,var(--color-fg-on-emphasis,#ffffff)));text-align:center;word-wrap:break-word;background:var(--tooltip-bgColor,var(--bgColor-emphasis,var(--color-neutral-emphasis-plus,#24292f)));border-radius:6px;border:0;opacity:0;max-width:250px;inset:auto;overflow:visible;}/*!sc*/
.jOyaRH[popover]:popover-open{display:block;}/*!sc*/
.jOyaRH[popover].\:popover-open{display:block;}/*!sc*/
@media (forced-colors:active){.jOyaRH{outline:1px solid transparent;}}/*!sc*/
.jOyaRH::after{position:absolute;display:block;right:0;left:0;height:var(--overlay-offset,0.25rem);content:'';}/*!sc*/
.jOyaRH[data-direction='n']::after,.jOyaRH[data-direction='ne']::after,.jOyaRH[data-direction='nw']::after{top:100%;}/*!sc*/
.jOyaRH[data-direction='s']::after,.jOyaRH[data-direction='se']::after,.jOyaRH[data-direction='sw']::after{bottom:100%;}/*!sc*/
.jOyaRH[data-direction='w']::after{position:absolute;display:block;height:100%;width:8px;content:'';bottom:0;left:100%;}/*!sc*/
.jOyaRH[data-direction='e']::after{position:absolute;display:block;height:100%;width:8px;content:'';bottom:0;right:100%;margin-left:-8px;}/*!sc*/
@-webkit-keyframes tooltip-appear{from{opacity:0;}to{opacity:1;}}/*!sc*/
@keyframes tooltip-appear{from{opacity:0;}to{opacity:1;}}/*!sc*/
.jOyaRH:popover-open,.jOyaRH:popover-open::before{-webkit-animation-name:tooltip-appear;animation-name:tooltip-appear;-webkit-animation-duration:0.1s;animation-duration:0.1s;-webkit-animation-fill-mode:forwards;animation-fill-mode:forwards;-webkit-animation-timing-function:ease-in;animation-timing-function:ease-in;-webkit-animation-delay:0s;animation-delay:0s;}/*!sc*/
.jOyaRH.\:popover-open,.jOyaRH.\:popover-open::before{-webkit-animation-name:tooltip-appear;animation-name:tooltip-appear;-webkit-animation-duration:0.1s;animation-duration:0.1s;-webkit-animation-fill-mode:forwards;animation-fill-mode:forwards;-webkit-animation-timing-function:ease-in;animation-timing-function:ease-in;-webkit-animation-delay:0s;animation-delay:0s;}/*!sc*/
data-styled.g16[id="Tooltip__StyledTooltip-sc-e45c7z-0"]{content:"jOyaRH,"}/*!sc*/
.hWlpPn{position:relative;display:inline-block;}/*!sc*/
.hWlpPn::after{position:absolute;z-index:1000000;display:none;padding:0.5em 0.75em;font:normal normal 11px/1.5 -apple-system,BlinkMacSystemFont,"Segoe UI","Noto Sans",Helvetica,Arial,sans-serif,"Apple Color Emoji","Segoe UI Emoji";-webkit-font-smoothing:subpixel-antialiased;color:var(--tooltip-fgColor,var(--fgColor-onEmphasis,var(--color-fg-on-emphasis,#ffffff)));text-align:center;-webkit-text-decoration:none;text-decoration:none;text-shadow:none;text-transform:none;-webkit-letter-spacing:normal;-moz-letter-spacing:normal;-ms-letter-spacing:normal;letter-spacing:normal;word-wrap:break-word;white-space:pre;pointer-events:none;content:attr(aria-label);background:var(--tooltip-bgColor,var(--bgColor-emphasis,var(--color-neutral-emphasis-plus,#24292f)));border-radius:6px;opacity:0;}/*!sc*/
@-webkit-keyframes tooltip-appear{from{opacity:0;}to{opacity:1;}}/*!sc*/
@keyframes tooltip-appear{from{opacity:0;}to{opacity:1;}}/*!sc*/
.hWlpPn:hover::after,.hWlpPn:active::after,.hWlpPn:focus::after,.hWlpPn:focus-within::after{display:inline-block;-webkit-text-decoration:none;text-decoration:none;-webkit-animation-name:tooltip-appear;animation-name:tooltip-appear;-webkit-animation-duration:0.1s;animation-duration:0.1s;-webkit-animation-fill-mode:forwards;animation-fill-mode:forwards;-webkit-animation-timing-function:ease-in;animation-timing-function:ease-in;-webkit-animation-delay:0s;animation-delay:0s;}/*!sc*/
.hWlpPn.tooltipped-no-delay:hover::after,.hWlpPn.tooltipped-no-delay:active::after,.hWlpPn.tooltipped-no-delay:focus::after,.hWlpPn.tooltipped-no-delay:focus-within::after{-webkit-animation-delay:0s;animation-delay:0s;}/*!sc*/
.hWlpPn.tooltipped-multiline:hover::after,.hWlpPn.tooltipped-multiline:active::after,.hWlpPn.tooltipped-multiline:focus::after,.hWlpPn.tooltipped-multiline:focus-within::after{display:table-cell;}/*!sc*/
.hWlpPn.tooltipped-s::after,.hWlpPn.tooltipped-se::after,.hWlpPn.tooltipped-sw::after{top:100%;right:50%;margin-top:6px;}/*!sc*/
.hWlpPn.tooltipped-se::after{right:auto;left:50%;margin-left:-16px;}/*!sc*/
.hWlpPn.tooltipped-sw::after{margin-right:-16px;}/*!sc*/
.hWlpPn.tooltipped-n::after,.hWlpPn.tooltipped-ne::after,.hWlpPn.tooltipped-nw::after{right:50%;bottom:100%;margin-bottom:6px;}/*!sc*/
.hWlpPn.tooltipped-ne::after{right:auto;left:50%;margin-left:-16px;}/*!sc*/
.hWlpPn.tooltipped-nw::after{margin-right:-16px;}/*!sc*/
.hWlpPn.tooltipped-s::after,.hWlpPn.tooltipped-n::after{-webkit-transform:translateX(50%);-ms-transform:translateX(50%);transform:translateX(50%);}/*!sc*/
.hWlpPn.tooltipped-w::after{right:100%;bottom:50%;margin-right:6px;-webkit-transform:translateY(50%);-ms-transform:translateY(50%);transform:translateY(50%);}/*!sc*/
.hWlpPn.tooltipped-e::after{bottom:50%;left:100%;margin-left:6px;-webkit-transform:translateY(50%);-ms-transform:translateY(50%);transform:translateY(50%);}/*!sc*/
.hWlpPn.tooltipped-multiline::after{width:-webkit-max-content;width:-moz-max-content;width:max-content;max-width:250px;word-wrap:break-word;white-space:pre-line;border-collapse:separate;}/*!sc*/
.hWlpPn.tooltipped-multiline.tooltipped-s::after,.hWlpPn.tooltipped-multiline.tooltipped-n::after{right:auto;left:50%;-webkit-transform:translateX(-50%);-ms-transform:translateX(-50%);transform:translateX(-50%);}/*!sc*/
.hWlpPn.tooltipped-multiline.tooltipped-w::after,.hWlpPn.tooltipped-multiline.tooltipped-e::after{right:100%;}/*!sc*/
.hWlpPn.tooltipped-align-right-2::after{right:0;margin-right:0;}/*!sc*/
.hWlpPn.tooltipped-align-left-2::after{left:0;margin-left:0;}/*!sc*/
data-styled.g17[id="Tooltip__TooltipBase-sc-17tf59c-0"]{content:"hWlpPn,"}/*!sc*/
.eAtkQz{display:inline-block;overflow:hidden;text-overflow:ellipsis;vertical-align:top;white-space:nowrap;max-width:125px;max-width:100%;}/*!sc*/
data-styled.g19[id="Truncate__StyledTruncate-sc-23o1d2-0"]{content:"eAtkQz,"}/*!sc*/
.dwImxt{--segmented-control-button-inner-padding:12px;--segmented-control-button-bg-inset:4px;--segmented-control-outer-radius:6px;background-color:transparent;border-color:transparent;border-radius:var(--segmented-control-outer-radius);border-width:0;color:currentColor;cursor:pointer;font-family:inherit;font-size:inherit;font-weight:600;padding:0;height:100%;width:100%;}/*!sc*/
.dwImxt:focus:not(:disabled){box-shadow:none;outline:2px solid var(--fgColor-accent,var(--color-accent-fg,#0969da));outline-offset:-1px;}/*!sc*/
.dwImxt:focus:not(:disabled):not(:focus-visible){outline:solid 1px transparent;}/*!sc*/
.dwImxt:focus-visible:not(:disabled){box-shadow:none;outline:2px solid var(--fgColor-accent,var(--color-accent-fg,#0969da));outline-offset:-1px;}/*!sc*/
.dwImxt .segmentedControl-content{-webkit-align-items:center;-webkit-box-align:center;-ms-flex-align:center;align-items:center;background-color:var(--controlKnob-bgColor-rest,var(--color-segmented-control-button-bg,#ffffff));border-color:var(--controlKnob-borderColor-rest,var(--color-segmented-control-button-hover-active-selected-border,#8c959f));border-style:solid;border-width:1px;border-radius:var(--segmented-control-outer-radius);display:-webkit-box;display:-webkit-flex;display:-ms-flexbox;display:flex;height:100%;-webkit-box-pack:center;-webkit-justify-content:center;-ms-flex-pack:center;justify-content:center;padding-left:var(--segmented-control-button-inner-padding);padding-right:var(--segmented-control-button-inner-padding);}/*!sc*/
.dwImxt svg{fill:var(--fgColor-muted,var(--color-fg-muted,#656d76));}/*!sc*/
.dwImxt:focus:focus-visible:not(:last-child):after{width:0;}/*!sc*/
.dwImxt .segmentedControl-text:after{content:"Preview";display:block;font-weight:600;height:0;overflow:hidden;pointer-events:none;-webkit-user-select:none;-moz-user-select:none;-ms-user-select:none;user-select:none;visibility:hidden;}/*!sc*/
@media (pointer:coarse){.dwImxt:before{content:"";position:absolute;left:0;right:0;-webkit-transform:translateY(-50%);-ms-transform:translateY(-50%);transform:translateY(-50%);top:50%;min-height:44px;}}/*!sc*/
.iFTkun{--segmented-control-button-inner-padding:12px;--segmented-control-button-bg-inset:4px;--segmented-control-outer-radius:6px;background-color:transparent;border-color:transparent;border-radius:var(--segmented-control-outer-radius);border-width:0;color:currentColor;cursor:pointer;font-family:inherit;font-size:inherit;font-weight:400;padding:var(--segmented-control-button-bg-inset);height:100%;width:100%;}/*!sc*/
.iFTkun:focus:not(:disabled){box-shadow:none;outline:2px solid var(--fgColor-accent,var(--color-accent-fg,#0969da));outline-offset:-1px;}/*!sc*/
.iFTkun:focus:not(:disabled):not(:focus-visible){outline:solid 1px transparent;}/*!sc*/
.iFTkun:focus-visible:not(:disabled){box-shadow:none;outline:2px solid var(--fgColor-accent,var(--color-accent-fg,#0969da));outline-offset:-1px;}/*!sc*/
.iFTkun .segmentedControl-content{-webkit-align-items:center;-webkit-box-align:center;-ms-flex-align:center;align-items:center;background-color:transparent;border-color:transparent;border-style:solid;border-width:1px;border-radius:calc(var(--segmented-control-outer-radius) - var(--segmented-control-button-bg-inset) / 2);display:-webkit-box;display:-webkit-flex;display:-ms-flexbox;display:flex;height:100%;-webkit-box-pack:center;-webkit-justify-content:center;-ms-flex-pack:center;justify-content:center;padding-left:calc(var(--segmented-control-button-inner-padding) - var(--segmented-control-button-bg-inset));padding-right:calc(var(--segmented-control-button-inner-padding) - var(--segmented-control-button-bg-inset));}/*!sc*/
.iFTkun svg{fill:var(--fgColor-muted,var(--color-fg-muted,#656d76));}/*!sc*/
.iFTkun:hover .segmentedControl-content{background-color:var(--controlTrack-bgColor-hover,var(--color-segmented-control-button-hover-bg,rgba(175,184,193,0.2)));}/*!sc*/
.iFTkun:active .segmentedControl-content{background-color:var(--controlTrack-bgColor-active,var(--color-segmented-control-button-hover-active-bg,rgba(175,184,193,0.4)));}/*!sc*/
.iFTkun:focus:focus-visible:not(:last-child):after{width:0;}/*!sc*/
.iFTkun .segmentedControl-text:after{content:"Code";display:block;font-weight:600;height:0;overflow:hidden;pointer-events:none;-webkit-user-select:none;-moz-user-select:none;-ms-user-select:none;user-select:none;visibility:hidden;}/*!sc*/
@media (pointer:coarse){.iFTkun:before{content:"";position:absolute;left:0;right:0;-webkit-transform:translateY(-50%);-ms-transform:translateY(-50%);transform:translateY(-50%);top:50%;min-height:44px;}}/*!sc*/
.bHmvop{--segmented-control-button-inner-padding:12px;--segmented-control-button-bg-inset:4px;--segmented-control-outer-radius:6px;background-color:transparent;border-color:transparent;border-radius:var(--segmented-control-outer-radius);border-width:0;color:currentColor;cursor:pointer;font-family:inherit;font-size:inherit;font-weight:400;padding:var(--segmented-control-button-bg-inset);height:100%;width:100%;}/*!sc*/
.bHmvop:focus:not(:disabled){box-shadow:none;outline:2px solid var(--fgColor-accent,var(--color-accent-fg,#0969da));outline-offset:-1px;}/*!sc*/
.bHmvop:focus:not(:disabled):not(:focus-visible){outline:solid 1px transparent;}/*!sc*/
.bHmvop:focus-visible:not(:disabled){box-shadow:none;outline:2px solid var(--fgColor-accent,var(--color-accent-fg,#0969da));outline-offset:-1px;}/*!sc*/
.bHmvop .segmentedControl-content{-webkit-align-items:center;-webkit-box-align:center;-ms-flex-align:center;align-items:center;background-color:transparent;border-color:transparent;border-style:solid;border-width:1px;border-radius:calc(var(--segmented-control-outer-radius) - var(--segmented-control-button-bg-inset) / 2);display:-webkit-box;display:-webkit-flex;display:-ms-flexbox;display:flex;height:100%;-webkit-box-pack:center;-webkit-justify-content:center;-ms-flex-pack:center;justify-content:center;padding-left:calc(var(--segmented-control-button-inner-padding) - var(--segmented-control-button-bg-inset));padding-right:calc(var(--segmented-control-button-inner-padding) - var(--segmented-control-button-bg-inset));}/*!sc*/
.bHmvop svg{fill:var(--fgColor-muted,var(--color-fg-muted,#656d76));}/*!sc*/
.bHmvop:hover .segmentedControl-content{background-color:var(--controlTrack-bgColor-hover,var(--color-segmented-control-button-hover-bg,rgba(175,184,193,0.2)));}/*!sc*/
.bHmvop:active .segmentedControl-content{background-color:var(--controlTrack-bgColor-active,var(--color-segmented-control-button-hover-active-bg,rgba(175,184,193,0.4)));}/*!sc*/
.bHmvop:focus:focus-visible:not(:last-child):after{width:0;}/*!sc*/
.bHmvop .segmentedControl-text:after{content:"Blame";display:block;font-weight:600;height:0;overflow:hidden;pointer-events:none;-webkit-user-select:none;-moz-user-select:none;-ms-user-select:none;user-select:none;visibility:hidden;}/*!sc*/
@media (pointer:coarse){.bHmvop:before{content:"";position:absolute;left:0;right:0;-webkit-transform:translateY(-50%);-ms-transform:translateY(-50%);transform:translateY(-50%);top:50%;min-height:44px;}}/*!sc*/
data-styled.g105[id="SegmentedControlButton__SegmentedControlButtonStyled-sc-8lkgxl-0"]{content:"dwImxt,iFTkun,bHmvop,"}/*!sc*/
.lawgDG{background-color:var(--controlTrack-bgColor-rest,var(--color-segmented-control-bg,#eaeef2));border-radius:6px;border:1px solid;border-color:var(--controlTrack-borderColor-rest,transparent);display:-webkit-inline-box;display:-webkit-inline-flex;display:-ms-inline-flexbox;display:inline-flex;font-size:14px;height:28px;margin:0;padding:0;}/*!sc*/
data-styled.g107[id="SegmentedControl__SegmentedControlList-sc-1rzig82-0"]{content:"lawgDG,"}/*!sc*/
body[data-page-layout-dragging="true"]{cursor:col-resize;}/*!sc*/
body[data-page-layout-dragging="true"] *{-webkit-user-select:none;-moz-user-select:none;-ms-user-select:none;user-select:none;}/*!sc*/
data-styled.g108[id="sc-global-gbKrvU1"]{content:"sc-global-gbKrvU1,"}/*!sc*/
.jgdSGi{list-style:none;padding:0;margin:0;}/*!sc*/
.jgdSGi .PRIVATE_TreeView-item{outline:none;}/*!sc*/
.jgdSGi .PRIVATE_TreeView-item:focus-visible > div,.jgdSGi .PRIVATE_TreeView-item.focus-visible > div{box-shadow:inset 0 0 0 2px var(--fgColor-accent,var(--color-accent-fg,#0969da));}/*!sc*/
@media (forced-colors:active){.jgdSGi .PRIVATE_TreeView-item:focus-visible > div,.jgdSGi .PRIVATE_TreeView-item.focus-visible > div{outline:2px solid HighlightText;outline-offset:-2;}}/*!sc*/
.jgdSGi .PRIVATE_TreeView-item[data-has-leading-action]{--has-leading-action:1;}/*!sc*/
.jgdSGi .PRIVATE_TreeView-item-container{--level:1;--toggle-width:1rem;--min-item-height:2rem;position:relative;display:grid;--leading-action-width:calc(var(--has-leading-action,0) * 1.5rem);--spacer-width:calc(calc(var(--level) - 1) * (var(--toggle-width) / 2));grid-template-columns:var(--spacer-width) var(--leading-action-width) var(--toggle-width) 1fr;grid-template-areas:'spacer leadingAction toggle content';width:100%;font-size:14px;color:var(--fgColor-default,var(--color-fg-default,#1F2328));border-radius:6px;cursor:pointer;}/*!sc*/
.jgdSGi .PRIVATE_TreeView-item-container:hover{background-color:var(--control-transparent-bgColor-hover,var(--color-action-list-item-default-hover-bg,rgba(208,215,222,0.32)));}/*!sc*/
@media (forced-colors:active){.jgdSGi .PRIVATE_TreeView-item-container:hover{outline:2px solid transparent;outline-offset:-2px;}}/*!sc*/
@media (pointer:coarse){.jgdSGi .PRIVATE_TreeView-item-container{--toggle-width:1.5rem;--min-item-height:2.75rem;}}/*!sc*/
.jgdSGi .PRIVATE_TreeView-item-container:has(.PRIVATE_TreeView-item-skeleton):hover{background-color:transparent;cursor:default;}/*!sc*/
@media (forced-colors:active){.jgdSGi .PRIVATE_TreeView-item-container:has(.PRIVATE_TreeView-item-skeleton):hover{outline:none;}}/*!sc*/
.jgdSGi[data-omit-spacer='true'] .PRIVATE_TreeView-item-container{grid-template-columns:0 0 0 1fr;}/*!sc*/
.jgdSGi .PRIVATE_TreeView-item[aria-current='true'] > .PRIVATE_TreeView-item-container{background-color:var(--control-transparent-bgColor-selected,var(--color-action-list-item-default-selected-bg,rgba(208,215,222,0.24)));}/*!sc*/
.jgdSGi .PRIVATE_TreeView-item[aria-current='true'] > .PRIVATE_TreeView-item-container::after{content:'';position:absolute;top:calc(50% - 0.75rem);left:-8px;width:0.25rem;height:1.5rem;background-color:var(--fgColor-accent,var(--color-accent-fg,#0969da));border-radius:6px;}/*!sc*/
@media (forced-colors:active){.jgdSGi .PRIVATE_TreeView-item[aria-current='true'] > .PRIVATE_TreeView-item-container::after{background-color:HighlightText;}}/*!sc*/
.jgdSGi .PRIVATE_TreeView-item-toggle{grid-area:toggle;display:-webkit-box;display:-webkit-flex;display:-ms-flexbox;display:flex;-webkit-box-pack:center;-webkit-justify-content:center;-ms-flex-pack:center;justify-content:center;-webkit-align-items:flex-start;-webkit-box-align:flex-start;-ms-flex-align:flex-start;align-items:flex-start;padding-top:calc(var(--min-item-height) / 2 - 12px / 2);height:100%;color:var(--fgColor-muted,var(--color-fg-muted,#656d76));}/*!sc*/
.jgdSGi .PRIVATE_TreeView-item-toggle--hover:hover{background-color:var(--control-transparent-bgColor-hover,var(--color-tree-view-item-chevron-hover-bg,rgba(208,215,222,0.32)));}/*!sc*/
.jgdSGi .PRIVATE_TreeView-item-toggle--end{border-top-left-radius:6px;border-bottom-left-radius:6px;}/*!sc*/
.jgdSGi .PRIVATE_TreeView-item-content{grid-area:content;display:-webkit-box;display:-webkit-flex;display:-ms-flexbox;display:flex;height:100%;padding:0 8px;gap:8px;line-height:var(--custom-line-height,var(--text-body-lineHeight-medium,1.4285));padding-top:calc((var(--min-item-height) - var(--custom-line-height,1.3rem)) / 2);padding-bottom:calc((var(--min-item-height) - var(--custom-line-height,1.3rem)) / 2);}/*!sc*/
.jgdSGi .PRIVATE_TreeView-item-content-text{-webkit-flex:1 1 auto;-ms-flex:1 1 auto;flex:1 1 auto;width:0;}/*!sc*/
.jgdSGi[data-truncate-text='true'] .PRIVATE_TreeView-item-content-text{overflow:hidden;white-space:nowrap;text-overflow:ellipsis;}/*!sc*/
.jgdSGi[data-truncate-text='false'] .PRIVATE_TreeView-item-content-text{word-break:break-word;}/*!sc*/
.jgdSGi .PRIVATE_TreeView-item-visual{display:-webkit-box;display:-webkit-flex;display:-ms-flexbox;display:flex;-webkit-align-items:center;-webkit-box-align:center;-ms-flex-align:center;align-items:center;color:var(--fgColor-muted,var(--color-fg-muted,#656d76));height:var(--custom-line-height,1.3rem);}/*!sc*/
.jgdSGi .PRIVATE_TreeView-item-leading-action{display:-webkit-box;display:-webkit-flex;display:-ms-flexbox;display:flex;color:var(--fgColor-muted,var(--color-fg-muted,#656d76));grid-area:leadingAction;}/*!sc*/
.jgdSGi .PRIVATE_TreeView-item-leading-action > button{-webkit-flex-shrink:1;-ms-flex-negative:1;flex-shrink:1;}/*!sc*/
.jgdSGi .PRIVATE_TreeView-item-level-line{width:100%;height:100%;border-right:1px solid;border-color:var(--borderColor-muted,var(--color-border-subtle,rgba(31,35,40,0.15)));}/*!sc*/
@media (hover:hover){.jgdSGi .PRIVATE_TreeView-item-level-line{border-color:transparent;}.jgdSGi:hover .PRIVATE_TreeView-item-level-line,.jgdSGi:focus-within .PRIVATE_TreeView-item-level-line{border-color:var(--borderColor-muted,var(--color-border-subtle,rgba(31,35,40,0.15)));}}/*!sc*/
.jgdSGi .PRIVATE_TreeView-directory-icon{display:grid;color:var(--treeViewItem-leadingVisual-iconColor-rest,var(--color-tree-view-item-chevron-directory-fill,#54aeff));}/*!sc*/
.jgdSGi .PRIVATE_VisuallyHidden{position:absolute;width:1px;height:1px;padding:0;margin:-1px;overflow:hidden;-webkit-clip:rect(0,0,0,0);clip:rect(0,0,0,0);white-space:nowrap;border-width:0;}/*!sc*/
data-styled.g114[id="TreeView__UlBox-sc-4ex6b6-0"]{content:"jgdSGi,"}/*!sc*/
</style><meta data-hydrostats="publish"/> <!-- --> <!-- --> <button hidden="" data-testid="header-permalink-button" data-hotkey-scope="read-only-cursor-text-area"></button><button hidden=""></button><div><div style="--sticky-pane-height:100vh;--spacing:var(--spacing-none)" class="Box-sc-g0xbh4-0 hOfjFo"><div class="Box-sc-g0xbh4-0 oDGAe"><div class="Box-sc-g0xbh4-0 kowOcT"><div tabindex="0" class="Box-sc-g0xbh4-0 gISSDQ"><div class="Box-sc-g0xbh4-0 cMnVPV"><div class="Box-sc-g0xbh4-0 hPvFuC"></div><div style="--pane-width:320px" class="Box-sc-g0xbh4-0 fFSoPl"><div class="react-tree-pane-contents"><div id="repos-file-tree" class="Box-sc-g0xbh4-0 birIjn"><div class="Box-sc-g0xbh4-0 hNNCwk"><div class="Box-sc-g0xbh4-0 jfIeyl"><h2 class="Box-sc-g0xbh4-0 XosP prc-Heading-Heading-6CmGO"><button style="--button-color:fg.muted" type="button" aria-label="Expand file tree" data-testid="expand-file-tree-button-mobile" class="Box-sc-g0xbh4-0 bCKfWo prc-Button-ButtonBase-c50BI" data-loading="false" data-size="medium" data-variant="invisible" aria-describedby=":Rl6mplab:-loading-announcement"><span data-component="buttonContent" class="Box-sc-g0xbh4-0 gUkoLg prc-Button-ButtonContent-HKbr-"><span data-component="leadingVisual" class="prc-Button-Visual-2epfX prc-Button-VisualWrap-Db-eB"><svg aria-hidden="true" focusable="false" class="octicon octicon-arrow-left" viewBox="0 0 16 16" width="16" height="16" fill="currentColor" style="display:inline-block;user-select:none;vertical-align:text-bottom;overflow:visible"><path d="M7.78 12.53a.75.75 0 0 1-1.06 0L2.47 8.28a.75.75 0 0 1 0-1.06l4.25-4.25a.751.751 0 0 1 1.042.018.751.751 0 0 1 .018 1.042L4.81 7h7.44a.75.75 0 0 1 0 1.5H4.81l2.97 2.97a.75.75 0 0 1 0 1.06Z"></path></svg></span><span data-component="text" class="prc-Button-Label-pTQ3x">Files</span></span></button><span role="tooltip" aria-label="Collapse file tree" id="expand-button-file-tree-button" class="Tooltip__TooltipBase-sc-17tf59c-0 hWlpPn tooltipped-se"><button data-component="IconButton" type="button" data-testid="collapse-file-tree-button" aria-expanded="true" aria-controls="repos-file-tree" class="prc-Button-ButtonBase-c50BI position-relative ExpandFileTreeButton-module__expandButton--gL4is ExpandFileTreeButton-module__filesButtonBreakpoint--WfX9t fgColor-muted prc-Button-IconButton-szpyj" data-loading="false" data-no-visuals="true" data-size="medium" data-variant="invisible" aria-describedby=":R356mplab:-loading-announcement" aria-labelledby="expand-button-file-tree-button"><svg aria-hidden="true" focusable="false" class="octicon octicon-sidebar-expand" viewBox="0 0 16 16" width="16" height="16" fill="currentColor" style="display:inline-block;user-select:none;vertical-align:text-bottom;overflow:visible"><path d="m4.177 7.823 2.396-2.396A.25.25 0 0 1 7 5.604v4.792a.25.25 0 0 1-.427.177L4.177 8.177a.25.25 0 0 1 0-.354Z"></path><path d="M0 1.75C0 .784.784 0 1.75 0h12.5C15.216 0 16 .784 16 1.75v12.5A1.75 1.75 0 0 1 14.25 16H1.75A1.75 1.75 0 0 1 0 14.25Zm1.75-.25a.25.25 0 0 0-.25.25v12.5c0 .138.112.25.25.25H9.5v-13Zm12.5 13a.25.25 0 0 0 .25-.25V1.75a.25.25 0 0 0-.25-.25H11v13Z"></path></svg></button></span><button hidden="" data-testid="" data-hotkey-scope="read-only-cursor-text-area"></button></h2><h2 class="Box-sc-g0xbh4-0 kOkWgo prc-Heading-Heading-6CmGO">Files</h2></div><div class="Box-sc-g0xbh4-0 lhbroM"><div class="Box-sc-g0xbh4-0 khzwtX"><button type="button" aria-haspopup="true" aria-expanded="false" tabindex="0" aria-label="main branch" data-testid="anchor-button" class="Box-sc-g0xbh4-0 gMOVLe prc-Button-ButtonBase-c50BI react-repos-tree-pane-ref-selector width-full ref-selector-class" data-loading="false" data-size="medium" data-variant="default" aria-describedby="branch-picker-repos-header-ref-selector-loading-announcement" id="branch-picker-repos-header-ref-selector"><span data-component="buttonContent" class="Box-sc-g0xbh4-0 gUkoLg prc-Button-ButtonContent-HKbr-"><span data-component="text" class="prc-Button-Label-pTQ3x"><div class="Box-sc-g0xbh4-0 bZBlpz"><div class="Box-sc-g0xbh4-0 lhTYNA"><svg aria-hidden="true" focusable="false" class="octicon octicon-git-branch" viewBox="0 0 16 16" width="16" height="16" fill="currentColor" style="display:inline-block;user-select:none;vertical-align:text-bottom;overflow:visible"><path d="M9.5 3.25a2.25 2.25 0 1 1 3 2.122V6A2.5 2.5 0 0 1 10 8.5H6a1 1 0 0 0-1 1v1.128a2.251 2.251 0 1 1-1.5 0V5.372a2.25 2.25 0 1 1 1.5 0v1.836A2.493 2.493 0 0 1 6 7h4a1 1 0 0 0 1-1v-.628A2.25 2.25 0 0 1 9.5 3.25Zm-6 0a.75.75 0 1 0 1.5 0 .75.75 0 0 0-1.5 0Zm8.25-.75a.75.75 0 1 0 0 1.5.75.75 0 0 0 0-1.5ZM4.25 12a.75.75 0 1 0 0 1.5.75.75 0 0 0 0-1.5Z"></path></svg></div><div class="Box-sc-g0xbh4-0 ffLUq ref-selector-button-text-container"><span class="Text__StyledText-sc-17v1xeu-0 eMMFM"> <!-- -->main</span></div></div></span><span data-component="trailingVisual" class="prc-Button-Visual-2epfX prc-Button-VisualWrap-Db-eB"><svg aria-hidden="true" focusable="false" class="octicon octicon-triangle-down" viewBox="0 0 16 16" width="16" height="16" fill="currentColor" style="display:inline-block;user-select:none;vertical-align:text-bottom;overflow:visible"><path d="m4.427 7.427 3.396 3.396a.25.25 0 0 0 .354 0l3.396-3.396A.25.25 0 0 0 11.396 7H4.604a.25.25 0 0 0-.177.427Z"></path></svg></span></span></button><button hidden="" data-hotkey-scope="read-only-cursor-text-area"></button></div><div class="Box-sc-g0xbh4-0 eTeVqd"><a sx="[object Object]" data-component="IconButton" type="button" aria-label="Add file" class="Box-sc-g0xbh4-0 fhbevO prc-Button-ButtonBase-c50BI prc-Button-IconButton-szpyj" data-loading="false" data-no-visuals="true" data-size="medium" data-variant="default" aria-describedby=":R6q6mplab:-loading-announcement :Rq6mplab:" href="/afish1110/SAL-603-Final-Project/new/main"><svg aria-hidden="true" focusable="false" class="octicon octicon-plus" viewBox="0 0 16 16" width="16" height="16" fill="currentColor" style="display:inline-block;user-select:none;vertical-align:text-bottom;overflow:visible"><path d="M7.75 2a.75.75 0 0 1 .75.75V7h4.25a.75.75 0 0 1 0 1.5H8.5v4.25a.75.75 0 0 1-1.5 0V8.5H2.75a.75.75 0 0 1 0-1.5H7V2.75A.75.75 0 0 1 7.75 2Z"></path></svg></a><span class="Tooltip__StyledTooltip-sc-e45c7z-0 jOyaRH" data-direction="s" aria-label="Add file" role="tooltip" aria-hidden="true" id=":Rq6mplab:">Add file</span><button data-component="IconButton" type="button" aria-label="Search this repository" class="Box-sc-g0xbh4-0 fCjIQM prc-Button-ButtonBase-c50BI prc-Button-IconButton-szpyj" data-loading="false" data-no-visuals="true" data-size="medium" data-variant="default" aria-describedby=":R3a6mplab:-loading-announcement"><svg aria-hidden="true" focusable="false" class="octicon octicon-search" viewBox="0 0 16 16" width="16" height="16" fill="currentColor" style="display:inline-block;user-select:none;vertical-align:text-bottom;overflow:visible"><path d="M10.68 11.74a6 6 0 0 1-7.922-8.982 6 6 0 0 1 8.982 7.922l3.04 3.04a.749.749 0 0 1-.326 1.275.749.749 0 0 1-.734-.215ZM11.5 7a4.499 4.499 0 1 0-8.997 0A4.499 4.499 0 0 0 11.5 7Z"></path></svg></button><button hidden="" data-testid="" data-hotkey-scope="read-only-cursor-text-area"></button></div></div></div><div class="Box-sc-g0xbh4-0 ftzGWg"><span class="TextInputWrapper__StyledTextInputBaseWrapper-sc-1mqhpbi-0 hLzFvi TextInputWrapper__StyledTextInputWrapper-sc-1mqhpbi-1 iHYdQq TextInput-wrapper" data-leading-visual="true" data-trailing-visual="true" aria-busy="false"><span class="TextInput-icon" id=":R5amplab:" aria-hidden="true"><svg aria-hidden="true" focusable="false" class="octicon octicon-search" viewBox="0 0 16 16" width="16" height="16" fill="currentColor" style="display:inline-block;user-select:none;vertical-align:text-bottom;overflow:visible"><path d="M10.68 11.74a6 6 0 0 1-7.922-8.982 6 6 0 0 1 8.982 7.922l3.04 3.04a.749.749 0 0 1-.326 1.275.749.749 0 0 1-.734-.215ZM11.5 7a4.499 4.499 0 1 0-8.997 0A4.499 4.499 0 0 0 11.5 7Z"></path></svg></span><input type="text" aria-label="Go to file" role="combobox" aria-controls="file-results-list" aria-expanded="false" aria-haspopup="dialog" autoCorrect="off" spellcheck="false" placeholder="Go to file" aria-describedby=":R5amplab: :R5amplabH1:" data-component="input" class="UnstyledTextInput__ToggledUnstyledTextInput-sc-14ypya-0 jkNcAv" value=""/><span class="TextInput-icon" id=":R5amplabH1:" aria-hidden="true"><div class="Box-sc-g0xbh4-0 dItACB"><kbd>t</kbd></div></span></span></div><button hidden="" data-testid="" data-hotkey-scope="read-only-cursor-text-area"></button><button hidden=""></button><div class="Box-sc-g0xbh4-0 gjtfVk"><div class="react-tree-show-tree-items"><div data-testid="repos-file-tree-container" class="Box-sc-g0xbh4-0 cOxzdh"><nav aria-label="File Tree Navigation"><span role="status" aria-live="polite" aria-atomic="true" class="_VisuallyHidden__VisuallyHidden-sc-11jhm7a-0 brGdpi"></span><ul role="tree" aria-label="Files" data-truncate-text="true" class="TreeView__UlBox-sc-4ex6b6-0 jgdSGi"><li class="PRIVATE_TreeView-item" tabindex="0" id="data-item" role="treeitem" aria-labelledby=":R39implab:" aria-describedby=":R39implabH1:" aria-level="1" aria-expanded="false" aria-selected="false"><div class="PRIVATE_TreeView-item-container" style="--level:1;content-visibility:auto;contain-intrinsic-size:auto 2rem"><div style="grid-area:spacer;display:flex"><div style="width:100%;display:flex"></div></div><div class="PRIVATE_TreeView-item-toggle PRIVATE_TreeView-item-toggle--hover PRIVATE_TreeView-item-toggle--end"><svg aria-hidden="true" focusable="false" class="octicon octicon-chevron-right" viewBox="0 0 12 12" width="12" height="12" fill="currentColor" style="display:inline-block;user-select:none;vertical-align:text-bottom;overflow:visible"><path d="M4.7 10c-.2 0-.4-.1-.5-.2-.3-.3-.3-.8 0-1.1L6.9 6 4.2 3.3c-.3-.3-.3-.8 0-1.1.3-.3.8-.3 1.1 0l3.3 3.2c.3.3.3.8 0 1.1L5.3 9.7c-.2.2-.4.3-.6.3Z"></path></svg></div><div id=":R39implab:" class="PRIVATE_TreeView-item-content"><div class="PRIVATE_VisuallyHidden" aria-hidden="true" id=":R39implabH1:"></div><div class="PRIVATE_TreeView-item-visual" aria-hidden="true"><div class="PRIVATE_TreeView-directory-icon"><svg aria-hidden="true" focusable="false" class="octicon octicon-file-directory-fill" viewBox="0 0 16 16" width="16" height="16" fill="currentColor" style="display:inline-block;user-select:none;vertical-align:text-bottom;overflow:visible"><path d="M1.75 1A1.75 1.75 0 0 0 0 2.75v10.5C0 14.216.784 15 1.75 15h12.5A1.75 1.75 0 0 0 16 13.25v-8.5A1.75 1.75 0 0 0 14.25 3H7.5a.25.25 0 0 1-.2-.1l-.9-1.2C6.07 1.26 5.55 1 5 1H1.75Z"></path></svg></div></div><span class="PRIVATE_TreeView-item-content-text"><span>data</span></span></div></div></li><li class="PRIVATE_TreeView-item" tabindex="0" id=".gitattributes-item" role="treeitem" aria-labelledby=":R59implab:" aria-describedby=":R59implabH1:" aria-level="1" aria-selected="false"><div class="PRIVATE_TreeView-item-container" style="--level:1;content-visibility:auto;contain-intrinsic-size:auto 2rem"><div style="grid-area:spacer;display:flex"><div style="width:100%;display:flex"></div></div><div id=":R59implab:" class="PRIVATE_TreeView-item-content"><div class="PRIVATE_VisuallyHidden" aria-hidden="true" id=":R59implabH1:"></div><div class="PRIVATE_TreeView-item-visual" aria-hidden="true"><svg aria-hidden="true" focusable="false" class="octicon octicon-file" viewBox="0 0 16 16" width="16" height="16" fill="currentColor" style="display:inline-block;user-select:none;vertical-align:text-bottom;overflow:visible"><path d="M2 1.75C2 .784 2.784 0 3.75 0h6.586c.464 0 .909.184 1.237.513l2.914 2.914c.329.328.513.773.513 1.237v9.586A1.75 1.75 0 0 1 13.25 16h-9.5A1.75 1.75 0 0 1 2 14.25Zm1.75-.25a.25.25 0 0 0-.25.25v12.5c0 .138.112.25.25.25h9.5a.25.25 0 0 0 .25-.25V6h-2.75A1.75 1.75 0 0 1 9 4.25V1.5Zm6.75.062V4.25c0 .138.112.25.25.25h2.688l-.011-.013-2.914-2.914-.013-.011Z"></path></svg></div><span class="PRIVATE_TreeView-item-content-text"><span>.gitattributes</span></span></div></div></li><li class="PRIVATE_TreeView-item" tabindex="0" id=".gitignore-item" role="treeitem" aria-labelledby=":R79implab:" aria-describedby=":R79implabH1:" aria-level="1" aria-selected="false"><div class="PRIVATE_TreeView-item-container" style="--level:1;content-visibility:auto;contain-intrinsic-size:auto 2rem"><div style="grid-area:spacer;display:flex"><div style="width:100%;display:flex"></div></div><div id=":R79implab:" class="PRIVATE_TreeView-item-content"><div class="PRIVATE_VisuallyHidden" aria-hidden="true" id=":R79implabH1:"></div><div class="PRIVATE_TreeView-item-visual" aria-hidden="true"><svg aria-hidden="true" focusable="false" class="octicon octicon-file" viewBox="0 0 16 16" width="16" height="16" fill="currentColor" style="display:inline-block;user-select:none;vertical-align:text-bottom;overflow:visible"><path d="M2 1.75C2 .784 2.784 0 3.75 0h6.586c.464 0 .909.184 1.237.513l2.914 2.914c.329.328.513.773.513 1.237v9.586A1.75 1.75 0 0 1 13.25 16h-9.5A1.75 1.75 0 0 1 2 14.25Zm1.75-.25a.25.25 0 0 0-.25.25v12.5c0 .138.112.25.25.25h9.5a.25.25 0 0 0 .25-.25V6h-2.75A1.75 1.75 0 0 1 9 4.25V1.5Zm6.75.062V4.25c0 .138.112.25.25.25h2.688l-.011-.013-2.914-2.914-.013-.011Z"></path></svg></div><span class="PRIVATE_TreeView-item-content-text"><span>.gitignore</span></span></div></div></li><li class="PRIVATE_TreeView-item" tabindex="0" id="LICENSE-item" role="treeitem" aria-labelledby=":R99implab:" aria-describedby=":R99implabH1:" aria-level="1" aria-selected="false"><div class="PRIVATE_TreeView-item-container" style="--level:1;content-visibility:auto;contain-intrinsic-size:auto 2rem"><div style="grid-area:spacer;display:flex"><div style="width:100%;display:flex"></div></div><div id=":R99implab:" class="PRIVATE_TreeView-item-content"><div class="PRIVATE_VisuallyHidden" aria-hidden="true" id=":R99implabH1:"></div><div class="PRIVATE_TreeView-item-visual" aria-hidden="true"><svg aria-hidden="true" focusable="false" class="octicon octicon-file" viewBox="0 0 16 16" width="16" height="16" fill="currentColor" style="display:inline-block;user-select:none;vertical-align:text-bottom;overflow:visible"><path d="M2 1.75C2 .784 2.784 0 3.75 0h6.586c.464 0 .909.184 1.237.513l2.914 2.914c.329.328.513.773.513 1.237v9.586A1.75 1.75 0 0 1 13.25 16h-9.5A1.75 1.75 0 0 1 2 14.25Zm1.75-.25a.25.25 0 0 0-.25.25v12.5c0 .138.112.25.25.25h9.5a.25.25 0 0 0 .25-.25V6h-2.75A1.75 1.75 0 0 1 9 4.25V1.5Zm6.75.062V4.25c0 .138.112.25.25.25h2.688l-.011-.013-2.914-2.914-.013-.011Z"></path></svg></div><span class="PRIVATE_TreeView-item-content-text"><span>LICENSE</span></span></div></div></li><li class="PRIVATE_TreeView-item" tabindex="0" id="MLB2010-2019CyYoungAnalysis -Bennet Dervishaj.ipynb-item" role="treeitem" aria-labelledby=":Rb9implab:" aria-describedby=":Rb9implabH1:" aria-level="1" aria-selected="false"><div class="PRIVATE_TreeView-item-container" style="--level:1;content-visibility:auto;contain-intrinsic-size:auto 2rem"><div style="grid-area:spacer;display:flex"><div style="width:100%;display:flex"></div></div><div id=":Rb9implab:" class="PRIVATE_TreeView-item-content"><div class="PRIVATE_VisuallyHidden" aria-hidden="true" id=":Rb9implabH1:"></div><div class="PRIVATE_TreeView-item-visual" aria-hidden="true"><svg aria-hidden="true" focusable="false" class="octicon octicon-file" viewBox="0 0 16 16" width="16" height="16" fill="currentColor" style="display:inline-block;user-select:none;vertical-align:text-bottom;overflow:visible"><path d="M2 1.75C2 .784 2.784 0 3.75 0h6.586c.464 0 .909.184 1.237.513l2.914 2.914c.329.328.513.773.513 1.237v9.586A1.75 1.75 0 0 1 13.25 16h-9.5A1.75 1.75 0 0 1 2 14.25Zm1.75-.25a.25.25 0 0 0-.25.25v12.5c0 .138.112.25.25.25h9.5a.25.25 0 0 0 .25-.25V6h-2.75A1.75 1.75 0 0 1 9 4.25V1.5Zm6.75.062V4.25c0 .138.112.25.25.25h2.688l-.011-.013-2.914-2.914-.013-.011Z"></path></svg></div><span class="PRIVATE_TreeView-item-content-text"><span>MLB2010-2019CyYoungAnalysis -Bennet Dervishaj.ipynb</span></span></div></div></li><li class="PRIVATE_TreeView-item" tabindex="0" id="README.md-item" role="treeitem" aria-labelledby=":Rd9implab:" aria-describedby=":Rd9implabH1:" aria-level="1" aria-selected="false"><div class="PRIVATE_TreeView-item-container" style="--level:1;content-visibility:auto;contain-intrinsic-size:auto 2rem"><div style="grid-area:spacer;display:flex"><div style="width:100%;display:flex"></div></div><div id=":Rd9implab:" class="PRIVATE_TreeView-item-content"><div class="PRIVATE_VisuallyHidden" aria-hidden="true" id=":Rd9implabH1:"></div><div class="PRIVATE_TreeView-item-visual" aria-hidden="true"><svg aria-hidden="true" focusable="false" class="octicon octicon-file" viewBox="0 0 16 16" width="16" height="16" fill="currentColor" style="display:inline-block;user-select:none;vertical-align:text-bottom;overflow:visible"><path d="M2 1.75C2 .784 2.784 0 3.75 0h6.586c.464 0 .909.184 1.237.513l2.914 2.914c.329.328.513.773.513 1.237v9.586A1.75 1.75 0 0 1 13.25 16h-9.5A1.75 1.75 0 0 1 2 14.25Zm1.75-.25a.25.25 0 0 0-.25.25v12.5c0 .138.112.25.25.25h9.5a.25.25 0 0 0 .25-.25V6h-2.75A1.75 1.75 0 0 1 9 4.25V1.5Zm6.75.062V4.25c0 .138.112.25.25.25h2.688l-.011-.013-2.914-2.914-.013-.011Z"></path></svg></div><span class="PRIVATE_TreeView-item-content-text"><span>README.md</span></span></div></div></li><li class="PRIVATE_TreeView-item" tabindex="0" id="SAL603_FinalProject-Andrew Fish.ipynb-item" role="treeitem" aria-labelledby=":Rf9implab:" aria-describedby=":Rf9implabH1:" aria-level="1" aria-current="true" aria-selected="false"><div class="PRIVATE_TreeView-item-container" style="--level:1"><div style="grid-area:spacer;display:flex"><div style="width:100%;display:flex"></div></div><div id=":Rf9implab:" class="PRIVATE_TreeView-item-content"><div class="PRIVATE_VisuallyHidden" aria-hidden="true" id=":Rf9implabH1:"></div><div class="PRIVATE_TreeView-item-visual" aria-hidden="true"><svg aria-hidden="true" focusable="false" class="octicon octicon-file" viewBox="0 0 16 16" width="16" height="16" fill="currentColor" style="display:inline-block;user-select:none;vertical-align:text-bottom;overflow:visible"><path d="M2 1.75C2 .784 2.784 0 3.75 0h6.586c.464 0 .909.184 1.237.513l2.914 2.914c.329.328.513.773.513 1.237v9.586A1.75 1.75 0 0 1 13.25 16h-9.5A1.75 1.75 0 0 1 2 14.25Zm1.75-.25a.25.25 0 0 0-.25.25v12.5c0 .138.112.25.25.25h9.5a.25.25 0 0 0 .25-.25V6h-2.75A1.75 1.75 0 0 1 9 4.25V1.5Zm6.75.062V4.25c0 .138.112.25.25.25h2.688l-.011-.013-2.914-2.914-.013-.011Z"></path></svg></div><span class="PRIVATE_TreeView-item-content-text"><span>SAL603_FinalProject-Andrew Fish.ipynb</span></span></div></div></li></ul></nav></div></div></div></div></div></div><div class="Box-sc-g0xbh4-0 bTBnTW"><div role="slider" aria-label="Draggable pane splitter" aria-valuemin="0" aria-valuemax="0" aria-valuenow="0" aria-valuetext="Pane width 0 pixels" tabindex="0" class="Box-sc-g0xbh4-0 bHLmSv"></div></div></div></div><div class="Box-sc-g0xbh4-0 iKqMNA"><div class="Box-sc-g0xbh4-0"></div><div class="Box-sc-g0xbh4-0 FxAyp"><div data-selector="repos-split-pane-content" tabindex="0" class="Box-sc-g0xbh4-0 leYMvG"><div class="Box-sc-g0xbh4-0 KMPzq"><div class="Box-sc-g0xbh4-0 hfKjHv container"><div class="px-3 pt-3 pb-0" id="StickyHeader"><div class="Box-sc-g0xbh4-0 gZWyZE"><div class="Box-sc-g0xbh4-0 dwYKDk"><div class="Box-sc-g0xbh4-0 iDtIiT"><div class="Box-sc-g0xbh4-0 cEytCf"><nav data-testid="breadcrumbs" aria-labelledby="repos-header-breadcrumb--wide-heading" id="repos-header-breadcrumb--wide" class="Box-sc-g0xbh4-0 fzFXnm"><h2 class="sr-only ScreenReaderHeading-module__userSelectNone--vW4Cq prc-Heading-Heading-6CmGO" data-testid="screen-reader-heading" id="repos-header-breadcrumb--wide-heading">Breadcrumbs</h2><ol class="Box-sc-g0xbh4-0 iMnkmv"><li class="Box-sc-g0xbh4-0 ghzDag"><a class="Box-sc-g0xbh4-0 kHuKdh prc-Link-Link-85e08" sx="[object Object]" data-testid="breadcrumbs-repo-link" href="/afish1110/SAL-603-Final-Project/tree/main">SAL-603-Final-Project</a></li></ol></nav><div data-testid="breadcrumbs-filename" class="Box-sc-g0xbh4-0 ghzDag"><span class="Text__StyledText-sc-17v1xeu-0 HlHVj" aria-hidden="true">/</span><h1 class="Box-sc-g0xbh4-0 jGhzSQ prc-Heading-Heading-6CmGO" tabindex="-1" id="file-name-id-wide">SAL603_FinalProject-Andrew Fish.ipynb</h1></div><button data-component="IconButton" type="button" class="prc-Button-ButtonBase-c50BI ml-2 prc-Button-IconButton-szpyj" data-loading="false" data-no-visuals="true" data-size="small" data-variant="invisible" aria-describedby=":R3td9lab:-loading-announcement" aria-labelledby=":Rdd9lab:"><svg aria-hidden="true" focusable="false" class="octicon octicon-copy" viewBox="0 0 16 16" width="16" height="16" fill="currentColor" style="display:inline-block;user-select:none;vertical-align:text-bottom;overflow:visible"><path d="M0 6.75C0 5.784.784 5 1.75 5h1.5a.75.75 0 0 1 0 1.5h-1.5a.25.25 0 0 0-.25.25v7.5c0 .138.112.25.25.25h7.5a.25.25 0 0 0 .25-.25v-1.5a.75.75 0 0 1 1.5 0v1.5A1.75 1.75 0 0 1 9.25 16h-7.5A1.75 1.75 0 0 1 0 14.25Z"></path><path d="M5 1.75C5 .784 5.784 0 6.75 0h7.5C15.216 0 16 .784 16 1.75v7.5A1.75 1.75 0 0 1 14.25 11h-7.5A1.75 1.75 0 0 1 5 9.25Zm1.75-.25a.25.25 0 0 0-.25.25v7.5c0 .138.112.25.25.25h7.5a.25.25 0 0 0 .25-.25v-7.5a.25.25 0 0 0-.25-.25Z"></path></svg></button><span class="Tooltip__StyledTooltip-sc-e45c7z-0 jOyaRH CopyToClipboardButton-module__tooltip--Dq1IB" data-direction="nw" aria-label="Copy path" aria-hidden="true" id=":Rdd9lab:">Copy path</span></div></div><div class="react-code-view-header-element--wide"><div class="Box-sc-g0xbh4-0 faNtbn"><div class="d-flex gap-2"> <button type="button" class="Box-sc-g0xbh4-0 dwNhzn prc-Button-ButtonBase-c50BI" data-loading="false" data-no-visuals="true" data-size="medium" data-variant="default" aria-describedby=":R2l6d9lab:-loading-announcement"><span data-component="buttonContent" class="Box-sc-g0xbh4-0 gUkoLg prc-Button-ButtonContent-HKbr-"><span data-component="text" class="prc-Button-Label-pTQ3x">Blame</span></span></button><button hidden="" data-testid="" data-hotkey-scope="read-only-cursor-text-area"></button><button data-component="IconButton" type="button" aria-label="More file actions" title="More file actions" data-testid="more-file-actions-button-nav-menu-wide" aria-haspopup="true" aria-expanded="false" tabindex="0" class="Box-sc-g0xbh4-0 fGwBZA prc-Button-ButtonBase-c50BI js-blob-dropdown-click prc-Button-IconButton-szpyj" data-loading="false" data-no-visuals="true" data-size="medium" data-variant="default" aria-describedby=":R156d9lab:-loading-announcement" id=":R156d9lab:"><svg aria-hidden="true" focusable="false" class="octicon octicon-kebab-horizontal" viewBox="0 0 16 16" width="16" height="16" fill="currentColor" style="display:inline-block;user-select:none;vertical-align:text-bottom;overflow:visible"><path d="M8 9a1.5 1.5 0 1 0 0-3 1.5 1.5 0 0 0 0 3ZM1.5 9a1.5 1.5 0 1 0 0-3 1.5 1.5 0 0 0 0 3Zm13 0a1.5 1.5 0 1 0 0-3 1.5 1.5 0 0 0 0 3Z"></path></svg></button> </div></div></div><div class="react-code-view-header-element--narrow"><div class="Box-sc-g0xbh4-0 faNtbn"><div class="d-flex gap-2"> <button type="button" class="Box-sc-g0xbh4-0 dwNhzn prc-Button-ButtonBase-c50BI" data-loading="false" data-no-visuals="true" data-size="medium" data-variant="default" aria-describedby=":R2l7d9lab:-loading-announcement"><span data-component="buttonContent" class="Box-sc-g0xbh4-0 gUkoLg prc-Button-ButtonContent-HKbr-"><span data-component="text" class="prc-Button-Label-pTQ3x">Blame</span></span></button><button hidden="" data-testid="" data-hotkey-scope="read-only-cursor-text-area"></button><button data-component="IconButton" type="button" aria-label="More file actions" title="More file actions" data-testid="more-file-actions-button-nav-menu-narrow" aria-haspopup="true" aria-expanded="false" tabindex="0" class="Box-sc-g0xbh4-0 fGwBZA prc-Button-ButtonBase-c50BI js-blob-dropdown-click prc-Button-IconButton-szpyj" data-loading="false" data-no-visuals="true" data-size="medium" data-variant="default" aria-describedby=":R157d9lab:-loading-announcement" id=":R157d9lab:"><svg aria-hidden="true" focusable="false" class="octicon octicon-kebab-horizontal" viewBox="0 0 16 16" width="16" height="16" fill="currentColor" style="display:inline-block;user-select:none;vertical-align:text-bottom;overflow:visible"><path d="M8 9a1.5 1.5 0 1 0 0-3 1.5 1.5 0 0 0 0 3ZM1.5 9a1.5 1.5 0 1 0 0-3 1.5 1.5 0 0 0 0 3Zm13 0a1.5 1.5 0 1 0 0-3 1.5 1.5 0 0 0 0 3Z"></path></svg></button> </div></div></div></div></div></div></div></div><div class="Box-sc-g0xbh4-0 dJxjrT react-code-view-bottom-padding"> <div class="Box-sc-g0xbh4-0 eFxKDQ"></div> <!-- --> <!-- --> </div><div class="Box-sc-g0xbh4-0 dJxjrT"> <!-- --> <!-- --> <div class="d-flex flex-column border rounded-2 mb-3 pl-1"><div class="Box-sc-g0xbh4-0 dzCJzi"><h2 class="sr-only ScreenReaderHeading-module__userSelectNone--vW4Cq prc-Heading-Heading-6CmGO" data-testid="screen-reader-heading">Latest commit</h2><div style="width:120px" class="Skeleton Skeleton--text" data-testid="loading"> </div><div class="d-flex flex-shrink-0 gap-2"><div data-testid="latest-commit-details" class="d-none d-sm-flex flex-items-center"></div><div class="d-flex gap-2"><h2 class="sr-only ScreenReaderHeading-module__userSelectNone--vW4Cq prc-Heading-Heading-6CmGO" data-testid="screen-reader-heading">History</h2><a href="/afish1110/SAL-603-Final-Project/commits/main/SAL603_FinalProject-Andrew%20Fish.ipynb" class="prc-Button-ButtonBase-c50BI d-none d-lg-flex LinkButton-module__code-view-link-button--xvCGA flex-items-center fgColor-default" data-loading="false" data-size="small" data-variant="invisible" aria-describedby=":R5dlal9lab:-loading-announcement"><span data-component="buttonContent" data-align="center" class="prc-Button-ButtonContent-HKbr-"><span data-component="leadingVisual" class="prc-Button-Visual-2epfX prc-Button-VisualWrap-Db-eB"><svg aria-hidden="true" focusable="false" class="octicon octicon-history" viewBox="0 0 16 16" width="16" height="16" fill="currentColor" style="display:inline-block;user-select:none;vertical-align:text-bottom;overflow:visible"><path d="m.427 1.927 1.215 1.215a8.002 8.002 0 1 1-1.6 5.685.75.75 0 1 1 1.493-.154 6.5 6.5 0 1 0 1.18-4.458l1.358 1.358A.25.25 0 0 1 3.896 6H.25A.25.25 0 0 1 0 5.75V2.104a.25.25 0 0 1 .427-.177ZM7.75 4a.75.75 0 0 1 .75.75v2.992l2.028.812a.75.75 0 0 1-.557 1.392l-2.5-1A.751.751 0 0 1 7 8.25v-3.5A.75.75 0 0 1 7.75 4Z"></path></svg></span><span data-component="text" class="prc-Button-Label-pTQ3x"><span class="fgColor-default">History</span></span></span></a><div class="d-sm-none"></div><div class="d-flex d-lg-none"><span role="tooltip" aria-label="History" id="history-icon-button-tooltip" class="Tooltip__TooltipBase-sc-17tf59c-0 hWlpPn tooltipped-n"><a href="/afish1110/SAL-603-Final-Project/commits/main/SAL603_FinalProject-Andrew%20Fish.ipynb" class="prc-Button-ButtonBase-c50BI LinkButton-module__code-view-link-button--xvCGA flex-items-center fgColor-default" data-loading="false" data-size="small" data-variant="invisible" aria-describedby=":Rpdlal9lab:-loading-announcement history-icon-button-tooltip"><span data-component="buttonContent" data-align="center" class="prc-Button-ButtonContent-HKbr-"><span data-component="leadingVisual" class="prc-Button-Visual-2epfX prc-Button-VisualWrap-Db-eB"><svg aria-hidden="true" focusable="false" class="octicon octicon-history" viewBox="0 0 16 16" width="16" height="16" fill="currentColor" style="display:inline-block;user-select:none;vertical-align:text-bottom;overflow:visible"><path d="m.427 1.927 1.215 1.215a8.002 8.002 0 1 1-1.6 5.685.75.75 0 1 1 1.493-.154 6.5 6.5 0 1 0 1.18-4.458l1.358 1.358A.25.25 0 0 1 3.896 6H.25A.25.25 0 0 1 0 5.75V2.104a.25.25 0 0 1 .427-.177ZM7.75 4a.75.75 0 0 1 .75.75v2.992l2.028.812a.75.75 0 0 1-.557 1.392l-2.5-1A.751.751 0 0 1 7 8.25v-3.5A.75.75 0 0 1 7.75 4Z"></path></svg></span></span></a></span></div></div></div></div></div><div class="Box-sc-g0xbh4-0 ldRxiI"><div class="Box-sc-g0xbh4-0 fVkfyA container"><div class="Box-sc-g0xbh4-0 gNAmSV react-code-size-details-banner"><div class="Box-sc-g0xbh4-0 jNEwzY react-code-size-details-banner"><div class="Box-sc-g0xbh4-0 bsDwxw text-mono"><div title="107 KB" data-testid="blob-size" class="Truncate__StyledTruncate-sc-23o1d2-0 eAtkQz"><span>499 lines (499 loc) · 107 KB</span></div></div></div><div class="react-code-size-details-banner"><button style="--button-color:fg.default" type="button" aria-haspopup="true" aria-expanded="false" tabindex="0" class="Box-sc-g0xbh4-0 kXyYCF prc-Button-ButtonBase-c50BI" data-loading="false" data-size="small" data-variant="invisible" aria-describedby=":R15tal9lab:-loading-announcement" id=":R15tal9lab:"><span data-component="buttonContent" class="Box-sc-g0xbh4-0 gUkoLg prc-Button-ButtonContent-HKbr-"><span data-component="leadingVisual" class="prc-Button-Visual-2epfX prc-Button-VisualWrap-Db-eB"><svg aria-hidden="true" focusable="false" class="octicon octicon-copilot" viewBox="0 0 16 16" width="16" height="16" fill="currentColor" style="display:inline-block;user-select:none;vertical-align:text-bottom;overflow:visible"><path d="M7.998 15.035c-4.562 0-7.873-2.914-7.998-3.749V9.338c.085-.628.677-1.686 1.588-2.065.013-.07.024-.143.036-.218.029-.183.06-.384.126-.612-.201-.508-.254-1.084-.254-1.656 0-.87.128-1.769.693-2.484.579-.733 1.494-1.124 2.724-1.261 1.206-.134 2.262.034 2.944.765.05.053.096.108.139.165.044-.057.094-.112.143-.165.682-.731 1.738-.899 2.944-.765 1.23.137 2.145.528 2.724 1.261.566.715.693 1.614.693 2.484 0 .572-.053 1.148-.254 1.656.066.228.098.429.126.612.012.076.024.148.037.218.924.385 1.522 1.471 1.591 2.095v1.872c0 .766-3.351 3.795-8.002 3.795Zm0-1.485c2.28 0 4.584-1.11 5.002-1.433V7.862l-.023-.116c-.49.21-1.075.291-1.727.291-1.146 0-2.059-.327-2.71-.991A3.222 3.222 0 0 1 8 6.303a3.24 3.24 0 0 1-.544.743c-.65.664-1.563.991-2.71.991-.652 0-1.236-.081-1.727-.291l-.023.116v4.255c.419.323 2.722 1.433 5.002 1.433ZM6.762 2.83c-.193-.206-.637-.413-1.682-.297-1.019.113-1.479.404-1.713.7-.247.312-.369.789-.369 1.554 0 .793.129 1.171.308 1.371.162.181.519.379 1.442.379.853 0 1.339-.235 1.638-.54.315-.322.527-.827.617-1.553.117-.935-.037-1.395-.241-1.614Zm4.155-.297c-1.044-.116-1.488.091-1.681.297-.204.219-.359.679-.242 1.614.091.726.303 1.231.618 1.553.299.305.784.54 1.638.54.922 0 1.28-.198 1.442-.379.179-.2.308-.578.308-1.371 0-.765-.123-1.242-.37-1.554-.233-.296-.693-.587-1.713-.7Z"></path><path d="M6.25 9.037a.75.75 0 0 1 .75.75v1.501a.75.75 0 0 1-1.5 0V9.787a.75.75 0 0 1 .75-.75Zm4.25.75v1.501a.75.75 0 0 1-1.5 0V9.787a.75.75 0 0 1 1.5 0Z"></path></svg></span><span data-component="text" class="prc-Button-Label-pTQ3x">Code 55% faster with GitHub Copilot</span></span></button></div></div><div class="Box-sc-g0xbh4-0 jdLMhu react-blob-view-header-sticky" id="repos-sticky-header"><div class="Box-sc-g0xbh4-0 tOISc"><div class="react-blob-sticky-header"><div class="Box-sc-g0xbh4-0 hqwSEx"><div class="Box-sc-g0xbh4-0 lzKZY"><div class="Box-sc-g0xbh4-0 fHind"><nav data-testid="breadcrumbs" aria-labelledby="sticky-breadcrumb-heading" id="sticky-breadcrumb" class="Box-sc-g0xbh4-0 fzFXnm"><h2 class="sr-only ScreenReaderHeading-module__userSelectNone--vW4Cq prc-Heading-Heading-6CmGO" data-testid="screen-reader-heading" id="sticky-breadcrumb-heading">Breadcrumbs</h2><ol class="Box-sc-g0xbh4-0 iMnkmv"><li class="Box-sc-g0xbh4-0 ghzDag"><a class="Box-sc-g0xbh4-0 kHuKdh prc-Link-Link-85e08" sx="[object Object]" data-testid="breadcrumbs-repo-link" href="/afish1110/SAL-603-Final-Project/tree/main">SAL-603-Final-Project</a></li></ol></nav><div data-testid="breadcrumbs-filename" class="Box-sc-g0xbh4-0 ghzDag"><span class="Text__StyledText-sc-17v1xeu-0 lauzFl" aria-hidden="true">/</span><h1 class="Box-sc-g0xbh4-0 dnZoUW prc-Heading-Heading-6CmGO" tabindex="-1" id="sticky-file-name-id">SAL603_FinalProject-Andrew Fish.ipynb</h1></div></div><button style="--button-color:fg.default" type="button" class="Box-sc-g0xbh4-0 jRZWlf prc-Button-ButtonBase-c50BI" data-loading="false" data-size="small" data-variant="invisible" aria-describedby=":Riptal9lab:-loading-announcement"><span data-component="buttonContent" class="Box-sc-g0xbh4-0 gUkoLg prc-Button-ButtonContent-HKbr-"><span data-component="leadingVisual" class="prc-Button-Visual-2epfX prc-Button-VisualWrap-Db-eB"><svg aria-hidden="true" focusable="false" class="octicon octicon-arrow-up" viewBox="0 0 16 16" width="16" height="16" fill="currentColor" style="display:inline-block;user-select:none;vertical-align:text-bottom;overflow:visible"><path d="M3.47 7.78a.75.75 0 0 1 0-1.06l4.25-4.25a.75.75 0 0 1 1.06 0l4.25 4.25a.751.751 0 0 1-.018 1.042.751.751 0 0 1-1.042.018L9 4.81v7.44a.75.75 0 0 1-1.5 0V4.81L4.53 7.78a.75.75 0 0 1-1.06 0Z"></path></svg></span><span data-component="text" class="prc-Button-Label-pTQ3x">Top</span></span></button></div></div></div><div class="Box-sc-g0xbh4-0 kTvpNk"><h2 class="sr-only ScreenReaderHeading-module__userSelectNone--vW4Cq prc-Heading-Heading-6CmGO" data-testid="screen-reader-heading">File metadata and controls</h2><div class="Box-sc-g0xbh4-0 iNMjfP"><ul aria-label="File view" class="SegmentedControl__SegmentedControlList-sc-1rzig82-0 lawgDG" data-size="small"><li class="Box-sc-g0xbh4-0 fefCSX" data-selected="true"><button aria-current="true" class="SegmentedControlButton__SegmentedControlButtonStyled-sc-8lkgxl-0 dwImxt" type="button"><span class="segmentedControl-content"><div class="Box-sc-g0xbh4-0 segmentedControl-text" data-text="Preview">Preview</div></span></button></li><li class="Box-sc-g0xbh4-0 idgUkN"><button aria-current="false" class="SegmentedControlButton__SegmentedControlButtonStyled-sc-8lkgxl-0 iFTkun" type="button"><span class="segmentedControl-content"><div class="Box-sc-g0xbh4-0 segmentedControl-text" data-text="Code">Code</div></span></button></li><li class="Box-sc-g0xbh4-0 idgUkN"><button aria-current="false" class="SegmentedControlButton__SegmentedControlButtonStyled-sc-8lkgxl-0 bHmvop" type="button"><span class="segmentedControl-content"><div class="Box-sc-g0xbh4-0 segmentedControl-text" data-text="Blame">Blame</div></span></button></li></ul><button hidden="" data-testid="" data-hotkey-scope="read-only-cursor-text-area"></button><button hidden="" data-testid="" data-hotkey-scope="read-only-cursor-text-area"></button><button hidden="" data-testid="" data-hotkey-scope="read-only-cursor-text-area"></button><div class="Box-sc-g0xbh4-0 jNEwzY react-code-size-details-in-header"><div class="Box-sc-g0xbh4-0 bsDwxw text-mono"><div title="107 KB" data-testid="blob-size" class="Truncate__StyledTruncate-sc-23o1d2-0 eAtkQz"><span>499 lines (499 loc) · 107 KB</span></div></div></div><div class="react-code-size-details-in-header"><button style="--button-color:fg.default" type="button" aria-haspopup="true" aria-expanded="false" tabindex="0" class="Box-sc-g0xbh4-0 kXyYCF prc-Button-ButtonBase-c50BI" data-loading="false" data-size="small" data-variant="invisible" aria-describedby=":R3kptal9lab:-loading-announcement" id=":R3kptal9lab:"><span data-component="buttonContent" class="Box-sc-g0xbh4-0 gUkoLg prc-Button-ButtonContent-HKbr-"><span data-component="leadingVisual" class="prc-Button-Visual-2epfX prc-Button-VisualWrap-Db-eB"><svg aria-hidden="true" focusable="false" class="octicon octicon-copilot" viewBox="0 0 16 16" width="16" height="16" fill="currentColor" style="display:inline-block;user-select:none;vertical-align:text-bottom;overflow:visible"><path d="M7.998 15.035c-4.562 0-7.873-2.914-7.998-3.749V9.338c.085-.628.677-1.686 1.588-2.065.013-.07.024-.143.036-.218.029-.183.06-.384.126-.612-.201-.508-.254-1.084-.254-1.656 0-.87.128-1.769.693-2.484.579-.733 1.494-1.124 2.724-1.261 1.206-.134 2.262.034 2.944.765.05.053.096.108.139.165.044-.057.094-.112.143-.165.682-.731 1.738-.899 2.944-.765 1.23.137 2.145.528 2.724 1.261.566.715.693 1.614.693 2.484 0 .572-.053 1.148-.254 1.656.066.228.098.429.126.612.012.076.024.148.037.218.924.385 1.522 1.471 1.591 2.095v1.872c0 .766-3.351 3.795-8.002 3.795Zm0-1.485c2.28 0 4.584-1.11 5.002-1.433V7.862l-.023-.116c-.49.21-1.075.291-1.727.291-1.146 0-2.059-.327-2.71-.991A3.222 3.222 0 0 1 8 6.303a3.24 3.24 0 0 1-.544.743c-.65.664-1.563.991-2.71.991-.652 0-1.236-.081-1.727-.291l-.023.116v4.255c.419.323 2.722 1.433 5.002 1.433ZM6.762 2.83c-.193-.206-.637-.413-1.682-.297-1.019.113-1.479.404-1.713.7-.247.312-.369.789-.369 1.554 0 .793.129 1.171.308 1.371.162.181.519.379 1.442.379.853 0 1.339-.235 1.638-.54.315-.322.527-.827.617-1.553.117-.935-.037-1.395-.241-1.614Zm4.155-.297c-1.044-.116-1.488.091-1.681.297-.204.219-.359.679-.242 1.614.091.726.303 1.231.618 1.553.299.305.784.54 1.638.54.922 0 1.28-.198 1.442-.379.179-.2.308-.578.308-1.371 0-.765-.123-1.242-.37-1.554-.233-.296-.693-.587-1.713-.7Z"></path><path d="M6.25 9.037a.75.75 0 0 1 .75.75v1.501a.75.75 0 0 1-1.5 0V9.787a.75.75 0 0 1 .75-.75Zm4.25.75v1.501a.75.75 0 0 1-1.5 0V9.787a.75.75 0 0 1 1.5 0Z"></path></svg></span><span data-component="text" class="prc-Button-Label-pTQ3x">Code 55% faster with GitHub Copilot</span></span></button></div></div><div class="Box-sc-g0xbh4-0 kcLCKF"><div class="Box-sc-g0xbh4-0 kVWtTz react-blob-header-edit-and-raw-actions"><div class="Box-sc-g0xbh4-0 prc-ButtonGroup-ButtonGroup-vcMeG"><div><a href="https://github.com/afish1110/SAL-603-Final-Project/raw/refs/heads/main/SAL603_FinalProject-Andrew%20Fish.ipynb" data-testid="raw-button" class="Box-sc-g0xbh4-0 gWqxTd prc-Button-ButtonBase-c50BI" data-loading="false" data-no-visuals="true" data-size="small" data-variant="default" aria-describedby=":R5csptal9lab:-loading-announcement"><span data-component="buttonContent" class="Box-sc-g0xbh4-0 gUkoLg prc-Button-ButtonContent-HKbr-"><span data-component="text" class="prc-Button-Label-pTQ3x">Raw</span></span></a></div><div><button data-component="IconButton" type="button" aria-label="Copy raw content" data-testid="copy-raw-button" class="prc-Button-ButtonBase-c50BI prc-Button-IconButton-szpyj" data-loading="false" data-no-visuals="true" data-size="small" data-variant="default" aria-describedby=":Rpcsptal9lab:-loading-announcement"><svg aria-hidden="true" focusable="false" class="octicon octicon-copy" viewBox="0 0 16 16" width="16" height="16" fill="currentColor" style="display:inline-block;user-select:none;vertical-align:text-bottom;overflow:visible"><path d="M0 6.75C0 5.784.784 5 1.75 5h1.5a.75.75 0 0 1 0 1.5h-1.5a.25.25 0 0 0-.25.25v7.5c0 .138.112.25.25.25h7.5a.25.25 0 0 0 .25-.25v-1.5a.75.75 0 0 1 1.5 0v1.5A1.75 1.75 0 0 1 9.25 16h-7.5A1.75 1.75 0 0 1 0 14.25Z"></path><path d="M5 1.75C5 .784 5.784 0 6.75 0h7.5C15.216 0 16 .784 16 1.75v7.5A1.75 1.75 0 0 1 14.25 11h-7.5A1.75 1.75 0 0 1 5 9.25Zm1.75-.25a.25.25 0 0 0-.25.25v7.5c0 .138.112.25.25.25h7.5a.25.25 0 0 0 .25-.25v-7.5a.25.25 0 0 0-.25-.25Z"></path></svg></button></div><div><span role="tooltip" aria-label="Download raw file" id=":Rdcsptal9lab:" class="Tooltip__TooltipBase-sc-17tf59c-0 hWlpPn tooltipped-n"><button data-component="IconButton" type="button" aria-label="Download raw content" data-testid="download-raw-button" class="Box-sc-g0xbh4-0 ivobqY prc-Button-ButtonBase-c50BI prc-Button-IconButton-szpyj" data-loading="false" data-no-visuals="true" data-size="small" data-variant="default" aria-describedby=":Rtcsptal9lab:-loading-announcement"><svg aria-hidden="true" focusable="false" class="octicon octicon-download" viewBox="0 0 16 16" width="16" height="16" fill="currentColor" style="display:inline-block;user-select:none;vertical-align:text-bottom;overflow:visible"><path d="M2.75 14A1.75 1.75 0 0 1 1 12.25v-2.5a.75.75 0 0 1 1.5 0v2.5c0 .138.112.25.25.25h10.5a.25.25 0 0 0 .25-.25v-2.5a.75.75 0 0 1 1.5 0v2.5A1.75 1.75 0 0 1 13.25 14Z"></path><path d="M7.25 7.689V2a.75.75 0 0 1 1.5 0v5.689l1.97-1.969a.749.749 0 1 1 1.06 1.06l-3.25 3.25a.749.749 0 0 1-1.06 0L4.22 6.78a.749.749 0 1 1 1.06-1.06l1.97 1.969Z"></path></svg></button></span></div></div><button hidden="" data-testid="raw-button-shortcut" data-hotkey-scope="read-only-cursor-text-area"></button><button hidden="" data-testid="copy-raw-button-shortcut" data-hotkey-scope="read-only-cursor-text-area"></button><button hidden="" data-testid="download-raw-button-shortcut" data-hotkey-scope="read-only-cursor-text-area"></button><a class="js-github-dev-shortcut d-none prc-Link-Link-85e08" href="https://github.dev/"></a><button hidden="" data-testid="" data-hotkey-scope="read-only-cursor-text-area"></button><a class="js-github-dev-new-tab-shortcut d-none prc-Link-Link-85e08" href="https://github.dev/" target="_blank"></a><button hidden="" data-testid="" data-hotkey-scope="read-only-cursor-text-area"></button><div class="Box-sc-g0xbh4-0 prc-ButtonGroup-ButtonGroup-vcMeG"><div><span role="tooltip" aria-label="Fork this repository and edit the file" id=":R6ksptal9lab:" class="Tooltip__TooltipBase-sc-17tf59c-0 hWlpPn tooltipped-nw"><a sx="[object Object]" data-component="IconButton" type="button" aria-label="Edit file" data-testid="edit-button" class="Box-sc-g0xbh4-0 kilKoS prc-Button-ButtonBase-c50BI prc-Button-IconButton-szpyj" data-loading="false" data-no-visuals="true" data-size="small" data-variant="default" aria-describedby=":Rmksptal9lab:-loading-announcement" href="/afish1110/SAL-603-Final-Project/edit/main/SAL603_FinalProject-Andrew%20Fish.ipynb"><svg aria-hidden="true" focusable="false" class="octicon octicon-pencil" viewBox="0 0 16 16" width="16" height="16" fill="currentColor" style="display:inline-block;user-select:none;vertical-align:text-bottom;overflow:visible"><path d="M11.013 1.427a1.75 1.75 0 0 1 2.474 0l1.086 1.086a1.75 1.75 0 0 1 0 2.474l-8.61 8.61c-.21.21-.47.364-.756.445l-3.251.93a.75.75 0 0 1-.927-.928l.929-3.25c.081-.286.235-.547.445-.758l8.61-8.61Zm.176 4.823L9.75 4.81l-6.286 6.287a.253.253 0 0 0-.064.108l-.558 1.953 1.953-.558a.253.253 0 0 0 .108-.064Zm1.238-3.763a.25.25 0 0 0-.354 0L10.811 3.75l1.439 1.44 1.263-1.263a.25.25 0 0 0 0-.354Z"></path></svg></a></span></div><div><button data-component="IconButton" type="button" aria-label="More edit options" data-testid="more-edit-button" aria-haspopup="true" aria-expanded="false" tabindex="0" class="prc-Button-ButtonBase-c50BI prc-Button-IconButton-szpyj" data-loading="false" data-no-visuals="true" data-size="small" data-variant="default" aria-describedby=":Raksptal9lab:-loading-announcement" id=":Raksptal9lab:"><svg aria-hidden="true" focusable="false" class="octicon octicon-triangle-down" viewBox="0 0 16 16" width="16" height="16" fill="currentColor" style="display:inline-block;user-select:none;vertical-align:text-bottom;overflow:visible"><path d="m4.427 7.427 3.396 3.396a.25.25 0 0 0 .354 0l3.396-3.396A.25.25 0 0 0 11.396 7H4.604a.25.25 0 0 0-.177.427Z"></path></svg></button></div></div><button hidden="" data-testid="" data-hotkey="e,Shift+E" data-hotkey-scope="read-only-cursor-text-area"></button></div><div class="react-blob-header-edit-and-raw-actions-combined"><button data-component="IconButton" type="button" aria-label="Edit and raw actions" title="More file actions" data-testid="more-file-actions-button" aria-haspopup="true" aria-expanded="false" tabindex="0" class="Box-sc-g0xbh4-0 ffkqe prc-Button-ButtonBase-c50BI js-blob-dropdown-click prc-Button-IconButton-szpyj" data-loading="false" data-no-visuals="true" data-size="small" data-variant="invisible" aria-describedby=":Rnsptal9lab:-loading-announcement" id=":Rnsptal9lab:"><svg aria-hidden="true" focusable="false" class="octicon octicon-kebab-horizontal" viewBox="0 0 16 16" width="16" height="16" fill="currentColor" style="display:inline-block;user-select:none;vertical-align:text-bottom;overflow:visible"><path d="M8 9a1.5 1.5 0 1 0 0-3 1.5 1.5 0 0 0 0 3ZM1.5 9a1.5 1.5 0 1 0 0-3 1.5 1.5 0 0 0 0 3Zm13 0a1.5 1.5 0 1 0 0-3 1.5 1.5 0 0 0 0 3Z"></path></svg></button></div></div></div></div><div></div></div><div class="Box-sc-g0xbh4-0 hGyMdv"><section aria-labelledby="file-name-id-wide file-name-id-mobile" class="Box-sc-g0xbh4-0 iWAocR"><!--$!--><template></template><div class="Box-sc-g0xbh4-0 fgsa-DI"><span class="prc-Spinner-Box-qNUI9"><svg height="32px" width="32px" viewBox="0 0 16 16" fill="none" aria-hidden="true" aria-label="Loading" class="prc-Spinner-SpinnerAnimation-e7Gf-"><circle cx="8" cy="8" r="7" stroke="currentColor" stroke-opacity="0.25" stroke-width="2" vector-effect="non-scaling-stroke"></circle><path d="M15 8a7.002 7.002 0 00-7-7" stroke="currentColor" stroke-width="2" stroke-linecap="round" vector-effect="non-scaling-stroke"></path></svg></span></div><!--/$--></section></div></div></div> <!-- --> <!-- --> </div></div></div><div class="Box-sc-g0xbh4-0"></div></div></div></div></div><div id="find-result-marks-container" class="Box-sc-g0xbh4-0 cCoXib"></div><button hidden="" data-testid="" data-hotkey-scope="read-only-cursor-text-area"></button><button hidden=""></button></div> <!-- --> <!-- --> <script type="application/json" id="__PRIMER_DATA_:R0:__">{"resolvedServerColorMode":"day"}</script></div>
</react-app>
</turbo-frame>



  </div>

</turbo-frame>

    </main>
  </div>

  </div>

          <footer class="footer pt-8 pb-6 f6 color-fg-muted p-responsive" role="contentinfo" >
  <h2 class='sr-only'>Footer</h2>

  


  <div class="d-flex flex-justify-center flex-items-center flex-column-reverse flex-lg-row flex-wrap flex-lg-nowrap">
    <div class="d-flex flex-items-center flex-shrink-0 mx-2">
      <a aria-label="Homepage" title="GitHub" class="footer-octicon mr-2" href="https://github.com">
        <svg aria-hidden="true" height="24" viewBox="0 0 24 24" version="1.1" width="24" data-view-component="true" class="octicon octicon-mark-github">
    <path d="M12.5.75C6.146.75 1 5.896 1 12.25c0 5.089 3.292 9.387 7.863 10.91.575.101.79-.244.79-.546 0-.273-.014-1.178-.014-2.142-2.889.532-3.636-.704-3.866-1.35-.13-.331-.69-1.352-1.18-1.625-.402-.216-.977-.748-.014-.762.906-.014 1.553.834 1.769 1.179 1.035 1.74 2.688 1.25 3.349.948.1-.747.402-1.25.733-1.538-2.559-.287-5.232-1.279-5.232-5.678 0-1.25.445-2.285 1.178-3.09-.115-.288-.517-1.467.115-3.048 0 0 .963-.302 3.163 1.179.92-.259 1.897-.388 2.875-.388.977 0 1.955.13 2.875.388 2.2-1.495 3.162-1.179 3.162-1.179.633 1.581.23 2.76.115 3.048.733.805 1.179 1.825 1.179 3.09 0 4.413-2.688 5.39-5.247 5.678.417.36.776 1.05.776 2.128 0 1.538-.014 2.774-.014 3.162 0 .302.216.662.79.547C20.709 21.637 24 17.324 24 12.25 24 5.896 18.854.75 12.5.75Z"></path>
</svg>
</a>
      <span>
        &copy; 2025 GitHub,&nbsp;Inc.
      </span>
    </div>

    <nav aria-label="Footer">
      <h3 class="sr-only" id="sr-footer-heading">Footer navigation</h3>

      <ul class="list-style-none d-flex flex-justify-center flex-wrap mb-2 mb-lg-0" aria-labelledby="sr-footer-heading">

          <li class="mx-2">
            <a data-analytics-event="{&quot;category&quot;:&quot;Footer&quot;,&quot;action&quot;:&quot;go to Terms&quot;,&quot;label&quot;:&quot;text:terms&quot;}" href="https://docs.github.com/site-policy/github-terms/github-terms-of-service" data-view-component="true" class="Link--secondary Link">Terms</a>
          </li>

          <li class="mx-2">
            <a data-analytics-event="{&quot;category&quot;:&quot;Footer&quot;,&quot;action&quot;:&quot;go to privacy&quot;,&quot;label&quot;:&quot;text:privacy&quot;}" href="https://docs.github.com/site-policy/privacy-policies/github-privacy-statement" data-view-component="true" class="Link--secondary Link">Privacy</a>
          </li>

          <li class="mx-2">
            <a data-analytics-event="{&quot;category&quot;:&quot;Footer&quot;,&quot;action&quot;:&quot;go to security&quot;,&quot;label&quot;:&quot;text:security&quot;}" href="https://github.com/security" data-view-component="true" class="Link--secondary Link">Security</a>
          </li>

          <li class="mx-2">
            <a data-analytics-event="{&quot;category&quot;:&quot;Footer&quot;,&quot;action&quot;:&quot;go to status&quot;,&quot;label&quot;:&quot;text:status&quot;}" href="https://www.githubstatus.com/" data-view-component="true" class="Link--secondary Link">Status</a>
          </li>

          <li class="mx-2">
            <a data-analytics-event="{&quot;category&quot;:&quot;Footer&quot;,&quot;action&quot;:&quot;go to docs&quot;,&quot;label&quot;:&quot;text:docs&quot;}" href="https://docs.github.com/" data-view-component="true" class="Link--secondary Link">Docs</a>
          </li>

          <li class="mx-2">
            <a data-analytics-event="{&quot;category&quot;:&quot;Footer&quot;,&quot;action&quot;:&quot;go to contact&quot;,&quot;label&quot;:&quot;text:contact&quot;}" href="https://support.github.com?tags=dotcom-footer" data-view-component="true" class="Link--secondary Link">Contact</a>
          </li>

          <li class="mx-2" >
  <cookie-consent-link>
    <button
      type="button"
      class="Link--secondary underline-on-hover border-0 p-0 color-bg-transparent"
      data-action="click:cookie-consent-link#showConsentManagement"
      data-analytics-event="{&quot;location&quot;:&quot;footer&quot;,&quot;action&quot;:&quot;cookies&quot;,&quot;context&quot;:&quot;subfooter&quot;,&quot;tag&quot;:&quot;link&quot;,&quot;label&quot;:&quot;cookies_link_subfooter_footer&quot;}"
    >
      Manage cookies
    </button>
  </cookie-consent-link>
</li>

<li class="mx-2">
  <cookie-consent-link>
    <button
      type="button"
      class="Link--secondary underline-on-hover border-0 p-0 color-bg-transparent"
      data-action="click:cookie-consent-link#showConsentManagement"
      data-analytics-event="{&quot;location&quot;:&quot;footer&quot;,&quot;action&quot;:&quot;dont_share_info&quot;,&quot;context&quot;:&quot;subfooter&quot;,&quot;tag&quot;:&quot;link&quot;,&quot;label&quot;:&quot;dont_share_info_link_subfooter_footer&quot;}"
    >
      Do not share my personal information
    </button>
  </cookie-consent-link>
</li>

      </ul>
    </nav>
  </div>
</footer>



    <ghcc-consent id="ghcc" class="position-fixed bottom-0 left-0" style="z-index: 999999" data-initial-cookie-consent-allowed="" data-cookie-consent-required="false"></ghcc-consent>



  <div id="ajax-error-message" class="ajax-error-message flash flash-error" hidden>
    <svg aria-hidden="true" height="16" viewBox="0 0 16 16" version="1.1" width="16" data-view-component="true" class="octicon octicon-alert">
    <path d="M6.457 1.047c.659-1.234 2.427-1.234 3.086 0l6.082 11.378A1.75 1.75 0 0 1 14.082 15H1.918a1.75 1.75 0 0 1-1.543-2.575Zm1.763.707a.25.25 0 0 0-.44 0L1.698 13.132a.25.25 0 0 0 .22.368h12.164a.25.25 0 0 0 .22-.368Zm.53 3.996v2.5a.75.75 0 0 1-1.5 0v-2.5a.75.75 0 0 1 1.5 0ZM9 11a1 1 0 1 1-2 0 1 1 0 0 1 2 0Z"></path>
</svg>
    <button type="button" class="flash-close js-ajax-error-dismiss" aria-label="Dismiss error">
      <svg aria-hidden="true" height="16" viewBox="0 0 16 16" version="1.1" width="16" data-view-component="true" class="octicon octicon-x">
    <path d="M3.72 3.72a.75.75 0 0 1 1.06 0L8 6.94l3.22-3.22a.749.749 0 0 1 1.275.326.749.749 0 0 1-.215.734L9.06 8l3.22 3.22a.749.749 0 0 1-.326 1.275.749.749 0 0 1-.734-.215L8 9.06l-3.22 3.22a.751.751 0 0 1-1.042-.018.751.751 0 0 1-.018-1.042L6.94 8 3.72 4.78a.75.75 0 0 1 0-1.06Z"></path>
</svg>
    </button>
    You can’t perform that action at this time.
  </div>

    <template id="site-details-dialog">
  <details class="details-reset details-overlay details-overlay-dark lh-default color-fg-default hx_rsm" open>
    <summary role="button" aria-label="Close dialog"></summary>
    <details-dialog class="Box Box--overlay d-flex flex-column anim-fade-in fast hx_rsm-dialog hx_rsm-modal">
      <button class="Box-btn-octicon m-0 btn-octicon position-absolute right-0 top-0" type="button" aria-label="Close dialog" data-close-dialog>
        <svg aria-hidden="true" height="16" viewBox="0 0 16 16" version="1.1" width="16" data-view-component="true" class="octicon octicon-x">
    <path d="M3.72 3.72a.75.75 0 0 1 1.06 0L8 6.94l3.22-3.22a.749.749 0 0 1 1.275.326.749.749 0 0 1-.215.734L9.06 8l3.22 3.22a.749.749 0 0 1-.326 1.275.749.749 0 0 1-.734-.215L8 9.06l-3.22 3.22a.751.751 0 0 1-1.042-.018.751.751 0 0 1-.018-1.042L6.94 8 3.72 4.78a.75.75 0 0 1 0-1.06Z"></path>
</svg>
      </button>
      <div class="octocat-spinner my-6 js-details-dialog-spinner"></div>
    </details-dialog>
  </details>
</template>

    <div class="Popover js-hovercard-content position-absolute" style="display: none; outline: none;">
  <div class="Popover-message Popover-message--bottom-left Popover-message--large Box color-shadow-large" style="width:360px;">
  </div>
</div>

    <template id="snippet-clipboard-copy-button">
  <div class="zeroclipboard-container position-absolute right-0 top-0">
    <clipboard-copy aria-label="Copy" class="ClipboardButton btn js-clipboard-copy m-2 p-0" data-copy-feedback="Copied!" data-tooltip-direction="w">
      <svg aria-hidden="true" height="16" viewBox="0 0 16 16" version="1.1" width="16" data-view-component="true" class="octicon octicon-copy js-clipboard-copy-icon m-2">
    <path d="M0 6.75C0 5.784.784 5 1.75 5h1.5a.75.75 0 0 1 0 1.5h-1.5a.25.25 0 0 0-.25.25v7.5c0 .138.112.25.25.25h7.5a.25.25 0 0 0 .25-.25v-1.5a.75.75 0 0 1 1.5 0v1.5A1.75 1.75 0 0 1 9.25 16h-7.5A1.75 1.75 0 0 1 0 14.25Z"></path><path d="M5 1.75C5 .784 5.784 0 6.75 0h7.5C15.216 0 16 .784 16 1.75v7.5A1.75 1.75 0 0 1 14.25 11h-7.5A1.75 1.75 0 0 1 5 9.25Zm1.75-.25a.25.25 0 0 0-.25.25v7.5c0 .138.112.25.25.25h7.5a.25.25 0 0 0 .25-.25v-7.5a.25.25 0 0 0-.25-.25Z"></path>
</svg>
      <svg aria-hidden="true" height="16" viewBox="0 0 16 16" version="1.1" width="16" data-view-component="true" class="octicon octicon-check js-clipboard-check-icon color-fg-success d-none m-2">
    <path d="M13.78 4.22a.75.75 0 0 1 0 1.06l-7.25 7.25a.75.75 0 0 1-1.06 0L2.22 9.28a.751.751 0 0 1 .018-1.042.751.751 0 0 1 1.042-.018L6 10.94l6.72-6.72a.75.75 0 0 1 1.06 0Z"></path>
</svg>
    </clipboard-copy>
  </div>
</template>
<template id="snippet-clipboard-copy-button-unpositioned">
  <div class="zeroclipboard-container">
    <clipboard-copy aria-label="Copy" class="ClipboardButton btn btn-invisible js-clipboard-copy m-2 p-0 d-flex flex-justify-center flex-items-center" data-copy-feedback="Copied!" data-tooltip-direction="w">
      <svg aria-hidden="true" height="16" viewBox="0 0 16 16" version="1.1" width="16" data-view-component="true" class="octicon octicon-copy js-clipboard-copy-icon">
    <path d="M0 6.75C0 5.784.784 5 1.75 5h1.5a.75.75 0 0 1 0 1.5h-1.5a.25.25 0 0 0-.25.25v7.5c0 .138.112.25.25.25h7.5a.25.25 0 0 0 .25-.25v-1.5a.75.75 0 0 1 1.5 0v1.5A1.75 1.75 0 0 1 9.25 16h-7.5A1.75 1.75 0 0 1 0 14.25Z"></path><path d="M5 1.75C5 .784 5.784 0 6.75 0h7.5C15.216 0 16 .784 16 1.75v7.5A1.75 1.75 0 0 1 14.25 11h-7.5A1.75 1.75 0 0 1 5 9.25Zm1.75-.25a.25.25 0 0 0-.25.25v7.5c0 .138.112.25.25.25h7.5a.25.25 0 0 0 .25-.25v-7.5a.25.25 0 0 0-.25-.25Z"></path>
</svg>
      <svg aria-hidden="true" height="16" viewBox="0 0 16 16" version="1.1" width="16" data-view-component="true" class="octicon octicon-check js-clipboard-check-icon color-fg-success d-none">
    <path d="M13.78 4.22a.75.75 0 0 1 0 1.06l-7.25 7.25a.75.75 0 0 1-1.06 0L2.22 9.28a.751.751 0 0 1 .018-1.042.751.751 0 0 1 1.042-.018L6 10.94l6.72-6.72a.75.75 0 0 1 1.06 0Z"></path>
</svg>
    </clipboard-copy>
  </div>
</template>


    <style>
      .user-mention[href$="/DMCunius"] {
        color: var(--color-user-mention-fg);
        background-color: var(--bgColor-attention-muted, var(--color-attention-subtle));
        border-radius: 2px;
        margin-left: -2px;
        margin-right: -2px;
      }
      .user-mention[href$="/DMCunius"]:before,
      .user-mention[href$="/DMCunius"]:after {
        content: '';
        display: inline-block;
        width: 2px;
      }
    </style>


    </div>

    <div id="js-global-screen-reader-notice" class="sr-only mt-n1" aria-live="polite" aria-atomic="true" ></div>
    <div id="js-global-screen-reader-notice-assertive" class="sr-only mt-n1" aria-live="assertive" aria-atomic="true"></div>
  </body>
</html>

